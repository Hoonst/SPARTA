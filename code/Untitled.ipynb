{
 "cells": [
  {
   "cell_type": "code",
   "execution_count": 20,
   "id": "written-option",
   "metadata": {},
   "outputs": [],
   "source": [
    "def letterCombinations(digits: str):\n",
    "    def gen_digits():\n",
    "        num_letters = {}\n",
    "        first_ord = 97\n",
    "        for num in range(2,10):\n",
    "            if num == 7 or num == 9:\n",
    "                next_ord = first_ord + 4\n",
    "            else:\n",
    "                next_ord = first_ord + 3\n",
    "            num_letters[str(num)] = ''.join([chr(i) for i in range(first_ord, next_ord)])\n",
    "            first_ord = next_ord\n",
    "        return num_letters\n",
    "    \n",
    "    dic = gen_digits()\n",
    "    \n",
    "    # 중첩함수이기에 전체 함수의 변수를 사용할 수 있다.\n",
    "    def dfs(index, path):\n",
    "        if len(path) == len(digits):\n",
    "            result.append(path)\n",
    "            return\n",
    "        \n",
    "        for i in range(index, len(digits)):   \n",
    "            for j in dic[digits[i]]:\n",
    "                dfs(i+1, path + j)\n",
    "        if not digits:\n",
    "            return []\n",
    "        \n",
    "    result = []\n",
    "    dfs(0,\"\")\n",
    "    \n",
    "    return result"
   ]
  },
  {
   "cell_type": "code",
   "execution_count": 22,
   "id": "passing-fashion",
   "metadata": {},
   "outputs": [
    {
     "data": {
      "text/plain": [
       "['adg',\n",
       " 'adh',\n",
       " 'adi',\n",
       " 'aeg',\n",
       " 'aeh',\n",
       " 'aei',\n",
       " 'afg',\n",
       " 'afh',\n",
       " 'afi',\n",
       " 'bdg',\n",
       " 'bdh',\n",
       " 'bdi',\n",
       " 'beg',\n",
       " 'beh',\n",
       " 'bei',\n",
       " 'bfg',\n",
       " 'bfh',\n",
       " 'bfi',\n",
       " 'cdg',\n",
       " 'cdh',\n",
       " 'cdi',\n",
       " 'ceg',\n",
       " 'ceh',\n",
       " 'cei',\n",
       " 'cfg',\n",
       " 'cfh',\n",
       " 'cfi']"
      ]
     },
     "execution_count": 22,
     "metadata": {},
     "output_type": "execute_result"
    }
   ],
   "source": [
    "letterCombinations(\"234\")"
   ]
  },
  {
   "cell_type": "code",
   "execution_count": 23,
   "id": "signal-narrative",
   "metadata": {},
   "outputs": [
    {
     "data": {
      "text/plain": [
       "'abc'"
      ]
     },
     "execution_count": 23,
     "metadata": {},
     "output_type": "execute_result"
    }
   ],
   "source": [
    "'abc'[:]"
   ]
  },
  {
   "cell_type": "code",
   "execution_count": null,
   "id": "organized-daisy",
   "metadata": {},
   "outputs": [],
   "source": []
  }
 ],
 "metadata": {
  "kernelspec": {
   "display_name": "Python 3",
   "language": "python",
   "name": "python3"
  },
  "language_info": {
   "codemirror_mode": {
    "name": "ipython",
    "version": 3
   },
   "file_extension": ".py",
   "mimetype": "text/x-python",
   "name": "python",
   "nbconvert_exporter": "python",
   "pygments_lexer": "ipython3",
   "version": "3.6.9"
  }
 },
 "nbformat": 4,
 "nbformat_minor": 5
}
