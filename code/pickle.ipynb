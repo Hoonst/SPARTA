{
 "cells": [
  {
   "cell_type": "code",
   "execution_count": 35,
   "metadata": {},
   "outputs": [],
   "source": [
    "import os \n",
    "import sys\n",
    "sys.path.append(os.path.dirname(os.path.abspath(os.path.dirname('__file__'))))"
   ]
  },
  {
   "cell_type": "code",
   "execution_count": 34,
   "metadata": {},
   "outputs": [],
   "source": [
    "from transformers import BertModel, BertTokenizer"
   ]
  },
  {
   "cell_type": "code",
   "execution_count": 32,
   "metadata": {},
   "outputs": [],
   "source": [
    "import torch\n",
    "from kobert_transformers import get_kobert_model\n",
    "from kobert_transformers import get_tokenizer"
   ]
  },
  {
   "cell_type": "code",
   "execution_count": 2,
   "metadata": {},
   "outputs": [
    {
     "name": "stdout",
     "output_type": "stream",
     "text": [
      "Available devices  2\n",
      "Current cuda device  0\n",
      "GeForce RTX 2080 Ti\n"
     ]
    }
   ],
   "source": [
    "import torch\n",
    "\n",
    "# 현재 Setup 되어있는 device 확인\n",
    "device = torch.device('cuda' if torch.cuda.is_available() else 'cpu')\n",
    "print ('Available devices ', torch.cuda.device_count())\n",
    "print ('Current cuda device ', torch.cuda.current_device())\n",
    "print(torch.cuda.get_device_name(device))"
   ]
  },
  {
   "cell_type": "code",
   "execution_count": 7,
   "metadata": {},
   "outputs": [
    {
     "name": "stdout",
     "output_type": "stream",
     "text": [
      "Current cuda device  1\n",
      "GeForce GTX 1080\n",
      "Memory Usage:\n",
      "Allocated: 0.0 GB\n",
      "Cached:    0.0 GB\n"
     ]
    }
   ],
   "source": [
    "# GPU 할당 변경하기\n",
    "GPU_NUM = 1 # 원하는 GPU 번호 입력\n",
    "device = torch.device(f'cuda:{GPU_NUM}' if torch.cuda.is_available() else 'cpu')\n",
    "torch.cuda.set_device(device) # change allocation of current GPU\n",
    "print ('Current cuda device ', torch.cuda.current_device()) # check\n",
    "\n",
    "# Additional Infos\n",
    "if device.type == 'cuda':\n",
    "    print(torch.cuda.get_device_name(GPU_NUM))\n",
    "    print('Memory Usage:')\n",
    "    print('Allocated:', round(torch.cuda.memory_allocated(GPU_NUM)/1024**3,1), 'GB')\n",
    "    print('Cached:   ', round(torch.cuda.memory_cached(GPU_NUM)/1024**3,1), 'GB')"
   ]
  },
  {
   "cell_type": "markdown",
   "metadata": {},
   "source": [
    "# Korean Tokenizer"
   ]
  },
  {
   "cell_type": "code",
   "execution_count": 35,
   "metadata": {},
   "outputs": [],
   "source": [
    "kor_tokenizer = BertTokenizer.from_pretrained('monologg/kobert')\n",
    "eng_tokenizer = BertTokenizer.from_pretrained('bert-base-uncased')\n",
    "multi_tokenizer = BertTokenizer.from_pretrained('bert-base-multilingual-uncased')"
   ]
  },
  {
   "cell_type": "code",
   "execution_count": 49,
   "metadata": {},
   "outputs": [
    {
     "data": {
      "text/plain": [
       "0"
      ]
     },
     "execution_count": 49,
     "metadata": {},
     "output_type": "execute_result"
    }
   ],
   "source": [
    "kor_tokenizer.convert_tokens_to_ids('[unused51]')"
   ]
  },
  {
   "cell_type": "code",
   "execution_count": 52,
   "metadata": {},
   "outputs": [
    {
     "data": {
      "text/plain": [
       "8010"
      ]
     },
     "execution_count": 52,
     "metadata": {},
     "output_type": "execute_result"
    }
   ],
   "source": [
    "kor_tokenizer.convert_tokens_to_ids('[unused58]')"
   ]
  },
  {
   "cell_type": "code",
   "execution_count": 53,
   "metadata": {},
   "outputs": [],
   "source": [
    "for index, value in enumerate(range(50, 66)):\n",
    "    kor_tokenizer.vocab[f'[unused{value}]']=8002+index"
   ]
  },
  {
   "cell_type": "code",
   "execution_count": 44,
   "metadata": {},
   "outputs": [
    {
     "data": {
      "text/plain": [
       "8002"
      ]
     },
     "execution_count": 44,
     "metadata": {},
     "output_type": "execute_result"
    }
   ],
   "source": [
    "kor_tokenizer.vocab['[unused50]']"
   ]
  },
  {
   "cell_type": "code",
   "execution_count": 23,
   "metadata": {},
   "outputs": [
    {
     "data": {
      "text/plain": [
       "2"
      ]
     },
     "execution_count": 23,
     "metadata": {},
     "output_type": "execute_result"
    }
   ],
   "source": [
    "eng_tokenizer.vocab['[unused1]']"
   ]
  },
  {
   "cell_type": "code",
   "execution_count": 37,
   "metadata": {},
   "outputs": [
    {
     "data": {
      "text/plain": [
       "2"
      ]
     },
     "execution_count": 37,
     "metadata": {},
     "output_type": "execute_result"
    }
   ],
   "source": [
    "multi_tokenizer.vocab['[unused2]']"
   ]
  },
  {
   "cell_type": "code",
   "execution_count": 31,
   "metadata": {},
   "outputs": [
    {
     "data": {
      "text/plain": [
       "8002"
      ]
     },
     "execution_count": 31,
     "metadata": {},
     "output_type": "execute_result"
    }
   ],
   "source": [
    "len(kor_tokenizer)"
   ]
  },
  {
   "cell_type": "code",
   "execution_count": 29,
   "metadata": {},
   "outputs": [
    {
     "data": {
      "text/plain": [
       "{'힙': 8001}"
      ]
     },
     "execution_count": 29,
     "metadata": {},
     "output_type": "execute_result"
    }
   ],
   "source": [
    "dict(filter(lambda elem:elem[1]>8000, kor_tokenizer.vocab.items()))"
   ]
  },
  {
   "cell_type": "code",
   "execution_count": 22,
   "metadata": {},
   "outputs": [
    {
     "ename": "KeyError",
     "evalue": "'[unused53]'",
     "output_type": "error",
     "traceback": [
      "\u001b[0;31m---------------------------------------------------------------------------\u001b[0m",
      "\u001b[0;31mKeyError\u001b[0m                                  Traceback (most recent call last)",
      "\u001b[0;32m<ipython-input-22-be1281a94242>\u001b[0m in \u001b[0;36m<module>\u001b[0;34m\u001b[0m\n\u001b[0;32m----> 1\u001b[0;31m \u001b[0mkor_tokenizer\u001b[0m\u001b[0;34m.\u001b[0m\u001b[0mvocab\u001b[0m\u001b[0;34m[\u001b[0m\u001b[0;34m'[unused53]'\u001b[0m\u001b[0;34m]\u001b[0m\u001b[0;34m\u001b[0m\u001b[0;34m\u001b[0m\u001b[0m\n\u001b[0m",
      "\u001b[0;31mKeyError\u001b[0m: '[unused53]'"
     ]
    }
   ],
   "source": [
    "kor_tokenizer.vocab['[unused53]']"
   ]
  },
  {
   "cell_type": "code",
   "execution_count": 10,
   "metadata": {},
   "outputs": [
    {
     "data": {
      "text/plain": [
       "1"
      ]
     },
     "execution_count": 10,
     "metadata": {},
     "output_type": "execute_result"
    }
   ],
   "source": [
    "kor_tokenizer.convert_tokens_to_ids(kor_tokenizer.pad_token)"
   ]
  },
  {
   "cell_type": "code",
   "execution_count": null,
   "metadata": {},
   "outputs": [],
   "source": [
    "table_marker = '[unused50]'\n",
    "field_marker = '[unused51]'\n",
    "value_marker = '[unused49]'\n",
    "asterisk_marker = '[unused52]'\n",
    "# asterisk_marker = '*'\n",
    "primary_key_marker = '[unused53]'\n",
    "foreign_key_marker = '[unused54]'\n",
    "foreign_key_ref_table_marker = '[unused55]'\n",
    "foreign_key_ref_field_marker = '[unused56]'\n",
    "table_marker_id = bt.convert_tokens_to_ids(table_marker)"
   ]
  },
  {
   "cell_type": "code",
   "execution_count": 18,
   "metadata": {},
   "outputs": [
    {
     "data": {
      "text/plain": [
       "{}"
      ]
     },
     "execution_count": 18,
     "metadata": {},
     "output_type": "execute_result"
    }
   ],
   "source": [
    "eng_tokenizer.added_tokens_encoder"
   ]
  },
  {
   "cell_type": "code",
   "execution_count": 11,
   "metadata": {},
   "outputs": [
    {
     "data": {
      "text/plain": [
       "{'[CLS]', '[MASK]', '[PAD]', '[SEP]', '[UNK]'}"
      ]
     },
     "execution_count": 11,
     "metadata": {},
     "output_type": "execute_result"
    }
   ],
   "source": [
    "kor_tokenizer.unique_added_tokens_encoder"
   ]
  },
  {
   "cell_type": "code",
   "execution_count": 62,
   "metadata": {},
   "outputs": [
    {
     "data": {
      "text/plain": [
       "['[CLS]',\n",
       " '▁나는',\n",
       " '▁바',\n",
       " '나',\n",
       " '나',\n",
       " '▁주',\n",
       " '스',\n",
       " '랑',\n",
       " '▁',\n",
       " '멜',\n",
       " '론',\n",
       " '▁아이',\n",
       " '스크',\n",
       " '림',\n",
       " '을',\n",
       " '▁좋아',\n",
       " '해',\n",
       " '[SEP]']"
      ]
     },
     "execution_count": 62,
     "metadata": {},
     "output_type": "execute_result"
    }
   ],
   "source": [
    "kor_tokenizer.tokenize(\"[CLS] 나는 바나나 주스랑 멜론 아이스크림을 좋아해 [SEP]\")"
   ]
  },
  {
   "cell_type": "code",
   "execution_count": 61,
   "metadata": {},
   "outputs": [
    {
     "data": {
      "text/plain": [
       "['[CLS]', '▁', 'i', '▁', 'lo', 'v', 'e', '▁', 'b', 'an', 'an', 'a', '[SEP]']"
      ]
     },
     "execution_count": 61,
     "metadata": {},
     "output_type": "execute_result"
    }
   ],
   "source": [
    "kor_tokenizer.tokenize(\"[CLS] i love banana [SEP]\")"
   ]
  },
  {
   "cell_type": "code",
   "execution_count": 26,
   "metadata": {},
   "outputs": [
    {
     "data": {
      "text/plain": [
       "['[CLS]',\n",
       " 'i',\n",
       " 'love',\n",
       " 'banana',\n",
       " 'juice',\n",
       " 'and',\n",
       " 'mel',\n",
       " '##on',\n",
       " 'ice',\n",
       " '##cre',\n",
       " '##am',\n",
       " '[SEP]']"
      ]
     },
     "execution_count": 26,
     "metadata": {},
     "output_type": "execute_result"
    }
   ],
   "source": [
    "eng_tokenizer.tokenize(\"[CLS] i love banana juice and melon icecream [SEP]\")"
   ]
  },
  {
   "cell_type": "code",
   "execution_count": 27,
   "metadata": {},
   "outputs": [
    {
     "data": {
      "text/plain": [
       "['[CLS]',\n",
       " '한국',\n",
       " '##어',\n",
       " 'ᄆ',\n",
       " '##ᅩ',\n",
       " '##데',\n",
       " '##ᆯ을',\n",
       " '고',\n",
       " '##ᆼ',\n",
       " '##유',\n",
       " '##합',\n",
       " '##니다',\n",
       " '.',\n",
       " '[SEP]']"
      ]
     },
     "execution_count": 27,
     "metadata": {},
     "output_type": "execute_result"
    }
   ],
   "source": [
    "multi_tokenizer.tokenize(\"[CLS] 한국어 모델을 공유합니다. [SEP]\")"
   ]
  },
  {
   "cell_type": "code",
   "execution_count": 28,
   "metadata": {},
   "outputs": [
    {
     "data": {
      "text/plain": [
       "['[CLS]',\n",
       " 'i',\n",
       " 'love',\n",
       " 'banana',\n",
       " 'juice',\n",
       " 'and',\n",
       " 'melo',\n",
       " '##n',\n",
       " 'ice',\n",
       " '##cre',\n",
       " '##am',\n",
       " '[SEP]']"
      ]
     },
     "execution_count": 28,
     "metadata": {},
     "output_type": "execute_result"
    }
   ],
   "source": [
    "multi_tokenizer.tokenize(\"[CLS] i love banana juice and melon icecream [SEP]\")"
   ]
  },
  {
   "cell_type": "code",
   "execution_count": 67,
   "metadata": {},
   "outputs": [
    {
     "data": {
      "text/plain": [
       "PreTrainedTokenizer(name_or_path='monologg/kobert', vocab_size=8002, model_max_len=512, is_fast=False, padding_side='right', special_tokens={'unk_token': '[UNK]', 'sep_token': '[SEP]', 'pad_token': '[PAD]', 'cls_token': '[CLS]', 'mask_token': '[MASK]'})"
      ]
     },
     "execution_count": 67,
     "metadata": {},
     "output_type": "execute_result"
    }
   ],
   "source": [
    "kor_tokenizer.convert"
   ]
  },
  {
   "cell_type": "code",
   "execution_count": null,
   "metadata": {},
   "outputs": [],
   "source": []
  },
  {
   "cell_type": "markdown",
   "metadata": {},
   "source": [
    "# SQLite Execution"
   ]
  },
  {
   "cell_type": "code",
   "execution_count": 5,
   "metadata": {},
   "outputs": [],
   "source": [
    "import sqlite3"
   ]
  },
  {
   "cell_type": "code",
   "execution_count": 38,
   "metadata": {},
   "outputs": [],
   "source": [
    "con = sqlite3.connect('/repo/TabularSemanticParsing/data/wikisql1.1/dev.db')"
   ]
  },
  {
   "cell_type": "code",
   "execution_count": 39,
   "metadata": {},
   "outputs": [],
   "source": [
    "cur = con.cursor()"
   ]
  },
  {
   "cell_type": "code",
   "execution_count": 42,
   "metadata": {},
   "outputs": [
    {
     "data": {
      "text/plain": [
       "<sqlite3.Cursor at 0x7fefb8b54b90>"
      ]
     },
     "execution_count": 42,
     "metadata": {},
     "output_type": "execute_result"
    }
   ],
   "source": [
    "cur.execute(\"SELECT name FROM sqlite_master WHERE type='table'\")"
   ]
  },
  {
   "cell_type": "code",
   "execution_count": 43,
   "metadata": {
    "tags": [
     "outputPrepend"
    ]
   },
   "outputs": [
    {
     "name": "stdout",
     "output_type": "stream",
     "text": [
      "41438_1',), ('table_2_1604842_1',), ('table_2_1604940_12',), ('table_2_16050349_10',), ('table_2_16050349_14',), ('table_2_16050349_6',), ('table_2_160510_5',), ('table_2_16056990_12',), ('table_2_16066729_1',), ('table_2_16067721_1',), ('table_2_16070554_1',), ('table_2_16078390_1',), ('table_2_1608306_4',), ('table_2_16090138_1',), ('table_2_160994_2',), ('table_2_16100029_2',), ('table_2_16100029_3',), ('table_2_1610301_1',), ('table_2_1615758_2',), ('table_2_16181680_3',), ('table_2_16183862_1',), ('table_2_16185580_1',), ('table_2_1618638_2',), ('table_2_16194551_5',), ('table_2_161972_2',), ('table_2_161972_6',), ('table_2_16215078_1',), ('table_2_162342_2',), ('table_2_16234974_1',), ('table_2_16236714_2',), ('table_2_1625631_1',), ('table_2_1625862_8',), ('table_2_16270492_2',), ('table_2_16275569_1',), ('table_2_16279834_3',), ('table_2_1628307_5',), ('table_2_16285899_1',), ('table_2_1629086_5',), ('table_2_16292316_4',), ('table_2_16293403_29',), ('table_2_16295105_1',), ('table_2_16296982_1',), ('table_2_16299161_2',), ('table_2_16299790_3',), ('table_2_16301437_1',), ('table_2_16311967_3',), ('table_2_16316920_1',), ('table_2_1631887_4',), ('table_2_16340209_1',), ('table_2_163464_3',), ('table_2_16352467_1',), ('table_2_1635723_1',), ('table_2_16366700_1',), ('table_2_1636806_2',), ('table_2_1637041_2',), ('table_2_16380510_1',), ('table_2_16388316_1',), ('table_2_16388478_4',), ('table_2_1639306_2',), ('table_2_1639306_3',), ('table_2_16395908_3',), ('table_2_16400024_5',), ('table_2_16403980_2',), ('table_2_16404058_1',), ('table_2_16404058_2',), ('table_2_16404968_31',), ('table_2_16405998_1',), ('table_2_16406423_2',), ('table_2_16406736_1',), ('table_2_1641457_2',), ('table_2_16435448_4',), ('table_2_16435990_19',), ('table_2_16449896_1',), ('table_2_16454477_12',), ('table_2_16457250_2',), ('table_2_16457250_7',), ('table_2_16457934_5',), ('table_2_1646586_3',), ('table_2_1646960_3',), ('table_2_16471432_4',), ('table_2_16472331_7',), ('table_2_16494005_1',), ('table_2_16494599_2',), ('table_2_16507549_1',), ('table_2_16514575_5',), ('table_2_16514575_7',), ('table_2_16518708_16',), ('table_2_16518708_4',), ('table_2_16549823_7',), ('table_2_16561399_2',), ('table_2_16566850_11',), ('table_2_16575609_4',), ('table_2_16578883_1',), ('table_2_1658421_3',), ('table_2_1658720_2',), ('table_2_16593943_13',), ('table_2_16603208_1',), ('table_2_16605179_2',), ('table_2_16610571_1',), ('table_2_166170_5',), ('table_2_16618361_3',), ('table_2_16623550_1',), ('table_2_16623894_6',), ('table_2_1662630_5',), ('table_2_16636833_1',), ('table_2_16637278_1',), ('table_2_16640814_6',), ('table_2_16642318_1',), ('table_2_16642773_2',), ('table_2_16646567_1',), ('table_2_16649537_6',), ('table_2_16649605_5',), ('table_2_16649811_5',), ('table_2_16653153_11',), ('table_2_16653153_15',), ('table_2_16653153_33',), ('table_2_16658270_1',), ('table_2_16660939_1',), ('table_2_1666604_1',), ('table_2_16668557_1',), ('table_2_16670746_2',), ('table_2_16677990_2',), ('table_2_16678103_2',), ('table_2_16678191_2',), ('table_2_16678530_2',), ('table_2_167051_1',), ('table_2_16707879_10',), ('table_2_16710910_2',), ('table_2_16710944_2',), ('table_2_16710987_1',), ('table_2_16712547_1',), ('table_2_1671401_3',), ('table_2_16729076_1',), ('table_2_16729457_18',), ('table_2_1673723_10',), ('table_2_16741821_9',), ('table_2_16746295_4',), ('table_2_16751596_5',), ('table_2_1676073_12',), ('table_2_16764708_1',), ('table_2_16764781_3',), ('table_2_16765033_2',), ('table_2_16768514_21',), ('table_2_1677211_1',), ('table_2_16772687_12',), ('table_2_16772687_18',), ('table_2_16772687_19',), ('table_2_16772687_5',), ('table_2_16773359_1',), ('table_2_16776312_6',), ('table_2_16778576_2',), ('table_2_16783007_1',), ('table_2_16785053_2',), ('table_2_16785055_1',), ('table_2_16791908_1',), ('table_2_16792415_2',), ('table_2_16795570_1',), ('table_2_16799784_8',), ('table_2_1682026_5',), ('table_2_16823523_11',), ('table_2_16825334_1',), ('table_2_16827273_1',), ('table_2_16831299_2',), ('table_2_16832887_1',), ('table_2_16845107_1',), ('table_2_16845634_1',), ('table_2_16846_6',), ('table_2_16850008_1',), ('table_2_16850796_1',), ('table_2_16864441_1',), ('table_2_16882018_1',), ('table_2_16882190_2',), ('table_2_16885554_4',), ('table_2_16894271_5',), ('table_2_16899_3',), ('table_2_16899309_5',), ('table_2_16912096_4',), ('table_2_16912145_1',), ('table_2_16920816_1',), ('table_2_16927321_6',), ('table_2_16931017_2',), ('table_2_169320_1',), ('table_2_16933845_1',), ('table_2_16946097_4',), ('table_2_16946425_1',), ('table_2_16948973_2',), ('table_2_16950053_1',), ('table_2_169741_3',), ('table_2_16977283_2',), ('table_2_16981801_2',), ('table_2_16981858_6',), ('table_2_16982965_2',), ('table_2_16982973_1',), ('table_2_16993379_1',), ('table_2_17004028_3',), ('table_2_17004128_3',), ('table_2_17008475_1',), ('table_2_17029703_3',), ('table_2_17032393_2',), ('table_2_170325_2',), ('table_2_17034845_3',), ('table_2_17035268_2',), ('table_2_17035864_1',), ('table_2_17038035_2',), ('table_2_17040191_8',), ('table_2_17042893_14',), ('table_2_17054550_2',), ('table_2_17056450_5',), ('table_2_17058287_1',), ('table_2_17058843_1',), ('table_2_17064229_1',), ('table_2_17064796_4',), ('table_2_17064796_5',), ('table_2_17064840_4',), ('table_2_17064870_8',), ('table_2_17065454_3',), ('table_2_17069469_2',), ('table_2_17080868_5',), ('table_2_17090201_1',), ('table_2_17093305_1',), ('table_2_17093372_4',), ('table_2_17093870_5',), ('table_2_17100961_17',), ('table_2_17100961_24',), ('table_2_17100961_26',), ('table_2_17100961_31',), ('table_2_17100961_36',), ('table_2_17100961_41',), ('table_2_17100961_48',), ('table_2_17100961_53',), ('table_2_17100961_56',), ('table_2_17100961_58',), ('table_2_17100961_60',), ('table_2_17100961_76',), ('table_2_17101496_4',), ('table_2_171019_1',), ('table_2_17102115_3',), ('table_2_17103645_12',), ('table_2_17104677_8',), ('table_2_17104991_4',), ('table_2_1711074_2',), ('table_2_17115722_6',), ('table_2_17116064_4',), ('table_2_17118657_7',), ('table_2_171200_2',), ('table_2_17120059_4',), ('table_2_17120964_10',), ('table_2_17121661_6',), ('table_2_17121669_6',), ('table_2_171222_2',), ('table_2_171229_2',), ('table_2_171236_2',), ('table_2_1712496_1',), ('table_2_17128242_6',), ('table_2_17129364_2',), ('table_2_171354_2',), ('table_2_171361_1',), ('table_2_171368_2',), ('table_2_17139590_1',), ('table_2_17139989_1',), ('table_2_17142454_4',), ('table_2_17161431_5',), ('table_2_17162128_7',), ('table_2_17162166_2',), ('table_2_17162179_1',), ('table_2_17162228_5',), ('table_2_17162255_3',), ('table_2_17162255_5',), ('table_2_17167467_3',), ('table_2_171680_1',), ('table_2_17169170_4',), ('table_2_171692_1',), ('table_2_1717109_5',), ('table_2_17175240_1',), ('table_2_17185248_1',), ('table_2_17190012_5',), ('table_2_17190012_8',), ('table_2_17190456_3',), ('table_2_1720632_2',), ('table_2_17210476_5',), ('table_2_17214300_1',), ('table_2_17214919_2',), ('table_2_1721801_3',), ('table_2_17223835_2',), ('table_2_17226349_1',), ('table_2_17231125_1',), ('table_2_17231211_4',), ('table_2_17231232_4',), ('table_2_17231232_6',), ('table_2_17231246_2',), ('table_2_17231267_1',), ('table_2_17231351_3',), ('table_2_17231351_6',), ('table_2_1723516_10',), ('table_2_1723582_6',), ('table_2_1723582_8',), ('table_2_17239112_7',), ('table_2_17239180_1',), ('table_2_17244483_1',), ('table_2_17245444_4',), ('table_2_17245527_6',), ('table_2_17248696_5',), ('table_2_17262467_2',), ('table_2_17264629_1',), ('table_2_17269395_6',), ('table_2_17271235_3',), ('table_2_17273336_12',), ('table_2_17275_1',), ('table_2_17277086_1',), ('table_2_17277086_3',), ('table_2_17277086_5',), ('table_2_17277136_1',), ('table_2_17277219_4',), ('table_2_17277237_1',), ('table_2_17277237_3',), ('table_2_1727920_1',), ('table_2_17282079_3',), ('table_2_17285433_3',), ('table_2_17286713_2',), ('table_2_17287870_1',), ('table_2_17288845_6',), ('table_2_17288861_6',), ('table_2_17288869_5',), ('table_2_17290150_7',), ('table_2_17290169_4',), ('table_2_17290216_1',), ('table_2_17290223_1',), ('table_2_17292579_3',), ('table_2_17299309_2',), ('table_2_17299309_4',), ('table_2_1730771_1',), ('table_2_1730774_6',), ('table_2_173082_3',), ('table_2_17308321_1',), ('table_2_17309500_1',), ('table_2_17310913_4',), ('table_2_17310913_5',), ('table_2_17311417_6',), ('table_2_17311466_5',), ('table_2_17311759_6',), ('table_2_17311797_10',), ('table_2_17311797_14',), ('table_2_1731607_1',), ('table_2_17323267_2',), ('table_2_17323351_4',), ('table_2_17323360_4',), ('table_2_17323912_2',), ('table_2_1732466_42',), ('table_2_17324788_5',), ('table_2_17325937_5',), ('table_2_1732978_1',), ('table_2_1733457_1',), ('table_2_17335602_1',), ('table_2_17337726_62',), ('table_2_17338813_8',), ('table_2_17344582_9',), ('table_2_17355716_7',), ('table_2_17357472_1',), ('table_2_17357560_1',), ('table_2_17360840_4',), ('table_2_17360840_6',), ('table_2_17360905_20',), ('table_2_17361223_1',), ('table_2_17371250_13',), ('table_2_17378237_2',), ('table_2_17382360_10',), ('table_2_17382360_7',), ('table_2_17382360_8',), ('table_2_17382411_6',), ('table_2_17382981_2',), ('table_2_17384746_3',), ('table_2_1738964_1',), ('table_2_174003_1',), ('table_2_17404333_1',), ('table_2_17407017_2',), ('table_2_1740913_1',), ('table_2_17409365_1',), ('table_2_17409365_3',), ('table_2_17412873_11',), ('table_2_17413485_1',), ('table_2_1741728_5',), ('table_2_17430068_1',), ('table_2_17430092_7',), ('table_2_17430115_1',), ('table_2_17430257_1',), ('table_2_17433882_2',), ('table_2_17437287_3',), ('table_2_17438349_6',), ('table_2_17440434_2',), ('table_2_17440483_6',), ('table_2_17440650_2',), ('table_2_17443117_2',), ('table_2_17444611_1',), ('table_2_17445288_2',), ('table_2_17445847_2',), ('table_2_17449461_4',), ('table_2_1745717_2',), ('table_2_17463957_2',), ('table_2_17472859_2',), ('table_2_17480962_2',), ('table_2_17503189_1',), ('table_2_17511295_17',), ('table_2_17511295_6',), ('table_2_17511295_9',), ('table_2_17514226_1',), ('table_2_1752264_1',), ('table_2_17524651_3',), ('table_2_17524651_4',), ('table_2_17525117_2',), ('table_2_17525955_2',), ('table_2_17538072_1',), ('table_2_17538810_9',), ('table_2_17543955_4',), ('table_2_17562992_3',), ('table_2_17573987_1',), ('table_2_17577104_1',), ('table_2_17577133_7',), ('table_2_17584390_1',), ('table_2_17587775_4',), ('table_2_17591791_1',), ('table_2_17599495_3',), ('table_2_17601760_1',), ('table_2_17607736_2',), ('table_2_17608125_6',), ('table_2_17608926_6',), ('table_2_17610737_2',), ('table_2_17610752_1',), ('table_2_17614618_2',), ('table_2_17617561_2',), ('table_2_1761786_1',), ('table_2_17620547_6',), ('table_2_17622423_12',), ('table_2_17622423_4',), ('table_2_17624408_2',), ('table_2_17625749_1',), ('table_2_17626681_7',), ('table_2_17631598_2',), ('table_2_1763266_9',), ('table_2_17634218_8',), ('table_2_17634218_9',), ('table_2_17636704_1',), ('table_2_17637180_2',), ('table_2_17637370_13',), ('table_2_17643221_2',), ('table_2_17650725_1',), ('table_2_176524_2',), ('table_2_1765243_3',), ('table_2_17653342_1',), ('table_2_17660359_11',), ('table_2_17678435_11',), ('table_2_17679324_9',), ('table_2_17692084_2',), ('table_2_17693482_2',), ('table_2_1769428_2',), ('table_2_17695272_4',), ('table_2_17702976_1',), ('table_2_17703223_3',), ('table_2_17716055_2',), ('table_2_1771935_1',), ('table_2_17720042_1',), ('table_2_17733765_5',), ('table_2_1773647_1',), ('table_2_17746037_19',), ('table_2_17746037_3',), ('table_2_17751803_3',), ('table_2_17751846_3',), ('table_2_17751851_1',), ('table_2_17751859_4',), ('table_2_1775470_1',), ('table_2_17757354_2',), ('table_2_17759945_4',), ('table_2_17759945_6',), ('table_2_17759945_8',), ('table_2_17760670_2',), ('table_2_17769769_3',), ('table_2_17774593_9',), ('table_2_17775406_1',), ('table_2_17776244_2',), ('table_2_17776244_3',), ('table_2_17781949_5',), ('table_2_17785973_1',), ('table_2_177860_3',), ('table_2_17786346_1',), ('table_2_17794738_4',), ('table_2_17798093_20',), ('table_2_17798130_9',), ('table_2_1780045_1',), ('table_2_17814458_1',), ('table_2_17822_4',), ('table_2_17822529_2',), ('table_2_17822543_4',), ('table_2_17837478_4',), ('table_2_17837782_4',), ('table_2_17837800_1',), ('table_2_17838670_5',), ('table_2_17840109_1',), ('table_2_17840654_3',), ('table_2_17860791_2',), ('table_2_1786641_1',), ('table_2_17870625_1',), ('table_2_1787654_4',), ('table_2_17881033_1',), ('table_2_17900687_1',), ('table_2_17907102_4',), ('table_2_1790790_1',), ('table_2_1791243_1',), ('table_2_17918213_3',), ('table_2_17919342_1',), ('table_2_17922541_1',), ('table_2_1792333_1',), ('table_2_179348_2',), ('table_2_17937080_4',), ('table_2_17937080_9',), ('table_2_17940740_2',), ('table_2_17941795_4',), ('table_2_17950516_6',), ('table_2_1795208_8',), ('table_2_17968229_5',), ('table_2_17968233_2',), ('table_2_17968277_1',), ('table_2_17968292_5',), ('table_2_17968300_6',), ('table_2_17978030_1',), ('table_2_17982197_8',), ('table_2_17982205_4',), ('table_2_17986709_4',), ('table_2_17991748_7',), ('table_2_17991902_2',), ('table_2_17993994_10',), ('table_2_17997366_2',), ('table_2_1799800_1',), ('table_2_1800293_3',), ('table_2_18004363_1',), ('table_2_18005521_2',), ('table_2_18005917_1',), ('table_2_18007091_1',), ('table_2_18007222_6',), ('table_2_18009462_6',), ('table_2_18009787_2',), ('table_2_18017216_2',), ('table_2_18017216_4',), ('table_2_18017347_3',), ('table_2_1802173_1',), ('table_2_180234_1',), ('table_2_18026409_8',), ('table_2_18026889_5',), ('table_2_18026889_6',), ('table_2_18027810_4',), ('table_2_18036726_4',), ('table_2_18044375_6',), ('table_2_18047346_1',), ('table_2_18049082_5',), ('table_2_1805191_14',), ('table_2_1805191_18',), ('table_2_1805191_21',), ('table_2_1805191_38',), ('table_2_18054397_14',), ('table_2_18054397_15',), ('table_2_18058018_9',), ('table_2_18060467_7',), ('table_2_1806210_10',), ('table_2_18065287_2',), ('table_2_18073616_2',), ('table_2_18077237_15',), ('table_2_18078011_2',), ('table_2_18081953_1',), ('table_2_18082586_5',), ('table_2_18097219_7',), ('table_2_18098292_5',), ('table_2_18102742_1',), ('table_2_1810336_1',), ('table_2_18113463_3',), ('table_2_18113463_4',), ('table_2_18113463_5',), ('table_2_18116279_2',), ('table_2_18116279_3',), ('table_2_18116595_3',), ('table_2_18120476_1',), ('table_2_18131508_2',), ('table_2_18133211_2',), ('table_2_18135501_1',), ('table_2_18137936_2',), ('table_2_18139722_2',), ('table_2_18150723_4',), ('table_2_18153721_7',), ('table_2_18160020_12',), ('table_2_18168735_1',), ('table_2_1816947_2',), ('table_2_18170681_7',), ('table_2_18170681_8',), ('table_2_18170886_1',), ('table_2_18174910_8',), ('table_2_18178534_2',), ('table_2_18178534_4',), ('table_2_18178534_5',), ('table_2_18178534_6',), ('table_2_18178870_1',), ('table_2_18182309_2',), ('table_2_18185973_2',), ('table_2_1818751_2',), ('table_2_18188607_5',), ('table_2_1818951_3',), ('table_2_18191407_16',), ('table_2_18191407_2',), ('table_2_18204624_1',), ('table_2_18207272_2',), ('table_2_1821178_1',), ('table_2_18220834_1',), ('table_2_18223138_1',), ('table_2_18223138_3',), ('table_2_18226024_3',), ('table_2_18226024_5',), ('table_2_18226024_7',), ('table_2_182410_7',), ('table_2_1824778_2',), ('table_2_182499_1',), ('table_2_18259953_4',), ('table_2_18278508_3',), ('table_2_18279844_2',), ('table_2_18283614_1',), ('table_2_1828549_1',), ('table_2_18289217_8',), ('table_2_1828926_1',), ('table_2_18292491_1',), ('table_2_1830541_1',), ('table_2_18313582_1',), ('table_2_18315735_2',), ('table_2_18324411_5',), ('table_2_18332170_1',), ('table_2_18339377_4',), ('table_2_183628_10',), ('table_2_18379129_3',), ('table_2_18385965_3',), ('table_2_18394791_5',), ('table_2_18394824_6',), ('table_2_18395166_2',), ('table_2_18402956_3',), ('table_2_18409087_7',), ('table_2_18409276_1',), ('table_2_18420030_1',), ('table_2_18426579_1',), ('table_2_18433136_3',), ('table_2_18444214_1',), ('table_2_18454234_3',), ('table_2_18467775_1',), ('table_2_18472494_2',), ('table_2_18484319_8',), ('table_2_18493040_4',), ('table_2_18493143_4',), ('table_2_18493740_3',), ('table_2_18499677_5',), ('table_2_18499964_1',), ('table_2_18504892_1',), ('table_2_1851542_3',), ('table_2_1851722_25',), ('table_2_1851722_51',), ('table_2_1851722_55',), ('table_2_18517912_2',), ('table_2_18524_3',), ('table_2_1852630_11',), ('table_2_185272_2',), ('table_2_1853235_2',), ('table_2_18539861_4',), ('table_2_18547818_2',), ('table_2_18566436_1',), ('table_2_18569011_13',), ('table_2_18569011_6',), ('table_2_18569011_8',), ('table_2_18569105_3',), ('table_2_18569131_3',), ('table_2_18569929_4',), ('table_2_18572696_1',), ('table_2_18578971_3',), ('table_2_18579281_5',), ('table_2_18591990_3',), ('table_2_18593648_10',), ('table_2_18593648_8',), ('table_2_18600121_2',), ('table_2_18600760_12',), ('table_2_18600829_4',), ('table_2_18603914_4',), ('table_2_18620528_2',), ('table_2_18620528_4',), ('table_2_18620528_7',), ('table_2_18621456_22',), ('table_2_1862384_1',), ('table_2_18624168_2',), ('table_2_18624773_3',), ('table_2_18625461_4',), ('table_2_18625479_5',), ('table_2_18626383_2',), ('table_2_18628670_2',), ('table_2_18628904_16',), ('table_2_18628904_18',), ('table_2_18628904_23',), ('table_2_18632367_4',), ('table_2_1864289_5',), ('table_2_18646220_5',), ('table_2_18649514_6',), ('table_2_18649514_7',), ('table_2_18652198_1',), ('table_2_18657589_2',), ('table_2_18657589_6',), ('table_2_18662026_6',), ('table_2_18662028_6',), ('table_2_18662083_1',), ('table_2_18662643_11',), ('table_2_18662643_16',), ('table_2_18662673_3',), ('table_2_18662685_12',), ('table_2_18662685_3',), ('table_2_18662689_3',), ('table_2_18662695_11',), ('table_2_18662700_4',), ('table_2_18666541_3',), ('table_2_1867069_1',), ('table_2_1867831_1',), ('table_2_18686317_1',), ('table_2_18690306_3',), ('table_2_18692014_7',), ('table_2_18697186_1',), ('table_2_18703579_4',), ('table_2_18704095_2',), ('table_2_18706426_1',), ('table_2_18707612_2',), ('table_2_18711843_4',), ('table_2_18711843_5',), ('table_2_18714684_2',), ('table_2_18719696_11',), ('table_2_1871974_3',), ('table_2_18729407_6',), ('table_2_18730658_4',), ('table_2_18732372_1',), ('table_2_18733329_1',), ('table_2_18733362_1',), ('table_2_18744745_2',), ('table_2_18750429_4',), ('table_2_1876262_3',), ('table_2_1876262_5',), ('table_2_1876262_6',), ('table_2_18765652_1',), ('table_2_18771190_15',), ('table_2_18772558_3',), ('table_2_18772558_4',), ('table_2_18782055_2',), ('table_2_18788871_4',), ('table_2_18792948_1',), ('table_2_18792948_4',), ('table_2_18792948_6',), ('table_2_18792950_1',), ('table_2_18792950_3',), ('table_2_18802185_4',), ('table_2_18807607_2',), ('table_2_1881174_1',), ('table_2_18811741_16',), ('table_2_18814912_4',), ('table_2_18821998_1',), ('table_2_18826487_1',), ('table_2_18842986_2',), ('table_2_18843333_2',), ('table_2_18843924_4',), ('table_2_18847456_1',), ('table_2_18862490_2',), ('table_2_18866859_6',), ('table_2_18868206_3',), ('table_2_18871102_3',), ('table_2_18874135_1',), ('table_2_18880018_2',), ('table_2_1888577_1',), ('table_2_18896497_2',), ('table_2_18903697_1',), ('table_2_18908350_2',), ('table_2_18910203_1',), ('table_2_18918776_12',), ('table_2_18921118_1',), ('table_2_18934662_7',), ('table_2_18936986_3',), ('table_2_18938150_1',), ('table_2_1893924_6',), ('table_2_18942275_1',), ('table_2_18942405_10',), ('table_2_18942405_11',), ('table_2_18942405_8',), ('table_2_18943_1',), ('table_2_18943807_1',), ('table_2_18947170_7',), ('table_2_18951015_2',), ('table_2_18963843_1',), ('table_2_18964684_2',), ('table_2_18965848_4',), ('table_2_18977789_1',), ('table_2_18982988_2',), ('table_2_18986759_1',), ('table_2_18987481_4',), ('table_2_18987966_12',), ('table_2_18987966_7',), ('table_2_18987966_8',), ('table_2_18988532_1',), ('table_2_18993396_1',), ('table_2_18999963_3',), ('table_2_19000748_1',), ('table_2_19000872_1',), ('table_2_19001175_2',), ('table_2_19004438_1',)]\n"
     ]
    }
   ],
   "source": [
    "print(cur.fetchall())"
   ]
  },
  {
   "cell_type": "code",
   "execution_count": 46,
   "metadata": {},
   "outputs": [
    {
     "name": "stdout",
     "output_type": "stream",
     "text": [
      "('johnny miller', 'united states', '1973', 282.0, 2.0, 't4')\n",
      "('hale irwin', 'united states', '1974 , 1979', 284.0, 4.0, '6')\n",
      "('lee trevino', 'united states', '1968 , 1971', 286.0, 6.0, 't9')\n",
      "('tom watson', 'united states', '1982', 287.0, 7.0, 't11')\n",
      "('david graham', 'australia', '1981', 287.0, 7.0, 't11')\n",
      "('jack nicklaus', 'united states', '1962 , 1967 , 1972 , 1980', 289.0, 9.0, 't21')\n",
      "('hubert green', 'united states', '1977', 291.0, 11.0, 't30')\n",
      "('gary player', 'south africa', '1965', 294.0, 14.0, 't43')\n"
     ]
    }
   ],
   "source": [
    "for row in cur.execute('SELECT * FROM table_2_17231267_1'):\n",
    "    print(row)"
   ]
  },
  {
   "cell_type": "markdown",
   "metadata": {},
   "source": [
    "# Pickle file"
   ]
  },
  {
   "cell_type": "code",
   "execution_count": 24,
   "metadata": {},
   "outputs": [],
   "source": [
    "import pickle\n",
    "import sys"
   ]
  },
  {
   "cell_type": "code",
   "execution_count": 25,
   "metadata": {},
   "outputs": [
    {
     "data": {
      "text/plain": [
       "'/repo/SPARTA/code'"
      ]
     },
     "execution_count": 25,
     "metadata": {},
     "output_type": "execute_result"
    }
   ],
   "source": [
    "pwd"
   ]
  },
  {
   "cell_type": "code",
   "execution_count": 180,
   "metadata": {},
   "outputs": [],
   "source": [
    "with open('./data/ko_wikisql1.1/wikisql.bridge.question-split.ppl-0.85.2.dn.no_from.bert.pkl', 'rb') as f:\n",
    "    engko_data = pickle.load(f)"
   ]
  },
  {
   "cell_type": "code",
   "execution_count": 181,
   "metadata": {},
   "outputs": [],
   "source": [
    "with open('./data/ko_wikisql1.1/wikisql.bridge.question-split.ppl-0.85.2.dn.no_from.kobert.pkl', 'rb') as f:\n",
    "    ko_data = pickle.load(f)"
   ]
  },
  {
   "cell_type": "code",
   "execution_count": 182,
   "metadata": {},
   "outputs": [],
   "source": [
    "with open('./data/wikisql1.1/wikisql.bridge.question-split.ppl-0.85.2.dn.no_from.bert.pkl', 'rb') as f:\n",
    "    eng_data = pickle.load(f)"
   ]
  },
  {
   "cell_type": "code",
   "execution_count": 183,
   "metadata": {},
   "outputs": [],
   "source": [
    "with open('./data/multi_wikisql1.1/wikisql.bridge.question-split.ppl-0.85.2.dn.no_from.bert.pkl', 'rb') as f:\n",
    "    multi_data = pickle.load(f)"
   ]
  },
  {
   "cell_type": "code",
   "execution_count": 186,
   "metadata": {},
   "outputs": [
    {
     "name": "stdout",
     "output_type": "stream",
     "text": [
      "####################\n",
      "--------------------\n",
      "English BERT\n",
      "NL: b\"what's the\\xc2\\xa0singles w-l\\xc2\\xa0for kim doo-hwan\"\n",
      "NL tokens: [b'what', b\"'\", b's', b'the', b'singles', b'w', b'-', b'l', b'for', b'kim', b'doo', b'-', b'h', b'##wan']\n",
      "NL tokens (original): [b'what', b\"'\", b's', b'the', b'singles', b'w', b'-', b'l', b'for', b'kim', b'doo', b'-', b'h', b'##wan']\n",
      "['[CLS]', 'what', \"'\", 's', 'the', 'singles', 'w', '-', 'l', 'for', 'kim', 'doo', '-', 'h', '##wan', '[SEP]', '[unused52]', '[unused50]', 'squad', 'members', '[unused51]', 'player', '[unused49]', 'kim', 'doo', '-', 'h', '##wan', '[unused51]', 'years', 'played', '[unused51]', 'total', 'w', '-', 'l', '[unused51]', 'singles', 'w', '-', 'l', '[unused51]', 'doubles', 'w', '-', 'l', '[SEP]']\n",
      "Target 0: b''\n",
      "b\"Target form: [{'sel': 3, 'conds': [[0, 0, 'Kim Doo-Hwan']], 'agg': 0}]\"\n",
      "\n",
      "--------------------\n",
      "Eng+Kor BERT\n",
      "NL: b'\\xea\\xb9\\x80\\xeb\\x91\\x90\\xed\\x99\\x98\\xec\\x9d\\x98 \\xec\\x8b\\xb1\\xea\\xb8\\x80\\xec\\x9d\\x80 \\xeb\\xad\\x90\\xec\\x95\\xbc'\n",
      "NL tokens: [b'\\xea\\xb9\\x80', b'\\xeb\\x91\\x90', b'\\xed\\x99\\x98', b'\\xec\\x9d\\x98', b'\\xec\\x8b\\xb1', b'\\xea\\xb8\\x80', b'\\xec\\x9d\\x80', b'\\xeb\\xad\\x90', b'\\xec\\x95\\xbc']\n",
      "NL tokens (original): [b'\\xea\\xb9\\x80', b'\\xeb\\x91\\x90', b'\\xed\\x99\\x98', b'\\xec\\x9d\\x98', b'\\xec\\x8b\\xb1', b'\\xea\\xb8\\x80', b'\\xec\\x9d\\x80', b'\\xeb\\xad\\x90', b'\\xec\\x95\\xbc']\n",
      "['[CLS]', '김', '두', '환', '의', '싱', '글', '은', '뭐', '야', '[SEP]', '[unused52]', '[unused50]', 'squad', 'members', '[unused51]', 'pl', 'ay', 'er', '[unused51]', 'years', 'pl', 'ay', 'ed', '[unused51]', 'total', 'w', '-', 'l', '[unused51]', 'singles', 'w', '-', 'l', '[unused51]', 'doubles', 'w', '-', 'l', '[SEP]']\n",
      "Target 0: b''\n",
      "b\"Target form: [{'sel': 3, 'conds': [[0, 0, 'Kim Doo-Hwan']], 'agg': 0}]\"\n",
      "\n",
      "--------------------\n",
      "Korean BERT\n",
      "NL: b'\\xea\\xb9\\x80\\xeb\\x91\\x90\\xed\\x99\\x98\\xec\\x9d\\x98 \\xec\\x8b\\xb1\\xea\\xb8\\x80\\xec\\x9d\\x80 \\xeb\\xad\\x90\\xec\\x95\\xbc'\n",
      "NL tokens: [b'[UNK]', b'[UNK]', b'[UNK]']\n",
      "NL tokens (original): [b'\\xea\\xb9\\x80', b'\\xeb\\x91\\x90', b'\\xed\\x99\\x98']\n",
      "['[CLS]', '[UNK]', '[UNK]', '[UNK]', '[SEP]', '[unused52]', '[unused50]', '[UNK]', '[UNK]', '[unused51]', '[UNK]', '[unused51]', '[UNK]', '[UNK]', '[unused51]', '[UNK]', 'W', '-', 'L', '[unused51]', '[UNK]', 'W', '-', 'L', '[unused51]', '[UNK]', 'W', '-', 'L', '[SEP]']\n",
      "Target 0: b''\n",
      "b\"Target form: [{'sel': 3, 'conds': [[0, 0, 'Kim Doo-Hwan']], 'agg': 0}]\"\n",
      "\n",
      "--------------------\n",
      "Multi-Lingual BERT\n",
      "NL: b'\\xea\\xb9\\x80\\xeb\\x91\\x90\\xed\\x99\\x98\\xec\\x9d\\x98 \\xec\\x8b\\xb1\\xea\\xb8\\x80\\xec\\x9d\\x80 \\xeb\\xad\\x90\\xec\\x95\\xbc'\n",
      "NL tokens: [b'\\xe1\\x84\\x80', b'##\\xe1\\x85\\xb5\\xe1\\x86\\xb7', b'##\\xe1\\x84\\x83', b'##\\xe1\\x85\\xae', b'##\\xe1\\x84\\x92\\xe1\\x85\\xaa\\xe1\\x86\\xab', b'##\\xe1\\x84\\x8b\\xe1\\x85\\xb4', b'\\xe1\\x84\\x89\\xe1\\x85\\xb5\\xe1\\x86\\xbc\\xe1\\x84\\x80\\xe1\\x85\\xb3\\xe1\\x86\\xaf', b'##\\xe1\\x84\\x8b\\xe1\\x85\\xb3\\xe1\\x86\\xab', b'\\xe1\\x84\\x86', b'##\\xe1\\x85\\xaf', b'##\\xe1\\x84\\x8b\\xe1\\x85\\xa3']\n",
      "NL tokens (original): [b'\\xe1\\x84\\x80', b'##\\xe1\\x85\\xb5\\xe1\\x86\\xb7', b'##\\xe1\\x84\\x83', b'##\\xe1\\x85\\xae', b'##\\xe1\\x84\\x92\\xe1\\x85\\xaa\\xe1\\x86\\xab', b'##\\xe1\\x84\\x8b\\xe1\\x85\\xb4', b'\\xe1\\x84\\x89\\xe1\\x85\\xb5\\xe1\\x86\\xbc\\xe1\\x84\\x80\\xe1\\x85\\xb3\\xe1\\x86\\xaf', b'##\\xe1\\x84\\x8b\\xe1\\x85\\xb3\\xe1\\x86\\xab', b'\\xe1\\x84\\x86', b'##\\xe1\\x85\\xaf', b'##\\xe1\\x84\\x8b\\xe1\\x85\\xa3']\n",
      "['[CLS]', 'ᄀ', '##ᅵᆷ', '##ᄃ', '##ᅮ', '##환', '##의', '싱글', '##은', 'ᄆ', '##ᅯ', '##야', '[SEP]', '[unused52]', '[unused50]', 'squad', 'members', '[unused51]', 'player', '[unused51]', 'years', 'played', '[unused51]', 'total', 'w', '-', 'l', '[unused51]', 'singles', 'w', '-', 'l', '[unused51]', 'doubles', 'w', '-', 'l', '[SEP]']\n",
      "Target 0: b''\n",
      "b\"Target form: [{'sel': 3, 'conds': [[0, 0, 'Kim Doo-Hwan']], 'agg': 0}]\"\n",
      "\n",
      "####################\n",
      "--------------------\n",
      "English BERT\n",
      "NL: b\"what's the total number of\\xc2\\xa0singles w-l\\xc2\\xa0with\\xc2\\xa0doubles w-l\\xc2\\xa0of 0\\xe2\\x80\\x930 and\\xc2\\xa0total w-l\\xc2\\xa0of 3\\xe2\\x80\\x931\"\n",
      "NL tokens: [b'what', b\"'\", b's', b'the', b'total', b'number', b'of', b'singles', b'w', b'-', b'l', b'with', b'doubles', b'w', b'-', b'l', b'of', b'0', b'\\xe2\\x80\\x93', b'0', b'and', b'total', b'w', b'-', b'l', b'of', b'3', b'\\xe2\\x80\\x93', b'1']\n",
      "NL tokens (original): [b'what', b\"'\", b's', b'the', b'total', b'number', b'of', b'singles', b'w', b'-', b'l', b'with', b'doubles', b'w', b'-', b'l', b'of', b'0', b'\\xe2\\x80\\x93', b'0', b'and', b'total', b'w', b'-', b'l', b'of', b'3', b'\\xe2\\x80\\x93', b'1']\n",
      "['[CLS]', 'what', \"'\", 's', 'the', 'total', 'number', 'of', 'singles', 'w', '-', 'l', 'with', 'doubles', 'w', '-', 'l', 'of', '0', '–', '0', 'and', 'total', 'w', '-', 'l', 'of', '3', '–', '1', '[SEP]', '[unused52]', '[unused50]', 'squad', 'members', '[unused51]', 'player', '[unused51]', 'years', 'played', '[unused51]', 'total', 'w', '-', 'l', '[unused49]', '3', '–', '1', '[unused49]', '0', '–', '0', '[unused51]', 'singles', 'w', '-', 'l', '[unused49]', '3', '–', '1', '[unused49]', '0', '–', '0', '[unused51]', 'doubles', 'w', '-', 'l', '[unused49]', '0', '–', '0', '[SEP]']\n",
      "Target 0: b''\n",
      "b\"Target form: [{'sel': 3, 'conds': [[4, 0, '0\\xe2\\x80\\x930'], [2, 0, '3\\xe2\\x80\\x931']], 'agg': 3}]\"\n",
      "\n",
      "--------------------\n",
      "Eng+Kor BERT\n",
      "NL: b'\\xeb\\xb3\\xb5\\xec\\x8b\\x9d WL\\xec\\x9d\\xb4 0\\xe2\\x80\\x930\\xec\\x9d\\xb4\\xea\\xb3\\xa0 \\xec\\xb4\\x9d WL\\xec\\x9d\\xb4 3\\xe2\\x80\\x931 \\xec\\x9d\\xb8 \\xec\\xb4\\x9d \\xec\\x8b\\xb1\\xea\\xb8\\x80 \\xec\\x88\\x98\\xeb\\x8a\\x94 \\xec\\x96\\xbc\\xeb\\xa7\\x88\\xec\\x9e\\x85\\xeb\\x8b\\x88\\xea\\xb9\\x8c?'\n",
      "NL tokens: [b'\\xeb\\xb3\\xb5', b'\\xec\\x8b\\x9d', b'w', b'##l', b'\\xec\\x9d\\xb4', b'0', b'\\xe2\\x80\\x93', b'0', b'\\xec\\x9d\\xb4', b'\\xea\\xb3\\xa0', b'\\xec\\xb4\\x9d', b'w', b'##l', b'\\xec\\x9d\\xb4', b'3', b'\\xe2\\x80\\x93', b'1', b'\\xec\\x9d\\xb8', b'\\xec\\xb4\\x9d', b'\\xec\\x8b\\xb1', b'\\xea\\xb8\\x80', b'\\xec\\x88\\x98', b'\\xeb\\x8a\\x94', b'\\xec\\x96\\xbc', b'\\xeb\\xa7\\x88', b'\\xec\\x9e\\x85', b'\\xeb\\x8b\\x88', b'\\xea\\xb9\\x8c', b'?']\n",
      "NL tokens (original): [b'\\xeb\\xb3\\xb5', b'\\xec\\x8b\\x9d', b'W', b'##L', b'\\xec\\x9d\\xb4', b'0', b'\\xe2\\x80\\x93', b'0', b'\\xec\\x9d\\xb4', b'\\xea\\xb3\\xa0', b'\\xec\\xb4\\x9d', b'W', b'##L', b'\\xec\\x9d\\xb4', b'3', b'\\xe2\\x80\\x93', b'1', b'\\xec\\x9d\\xb8', b'\\xec\\xb4\\x9d', b'\\xec\\x8b\\xb1', b'\\xea\\xb8\\x80', b'\\xec\\x88\\x98', b'\\xeb\\x8a\\x94', b'\\xec\\x96\\xbc', b'\\xeb\\xa7\\x88', b'\\xec\\x9e\\x85', b'\\xeb\\x8b\\x88', b'\\xea\\xb9\\x8c', b'?']\n",
      "['[CLS]', '복', '식', 'w', '##l', '이', '0', '–', '0', '이', '고', '총', 'w', '##l', '이', '3', '–', '1', '인', '총', '싱', '글', '수', '는', '얼', '마', '입', '니', '까', '?', '[SEP]', '[unused52]', '[unused50]', 'squad', 'members', '[unused51]', 'pl', 'ay', 'er', '[unused51]', 'years', 'pl', 'ay', 'ed', '[unused51]', 'total', 'w', '-', 'l', '[unused49]', '3', '–', '13', '[unused51]', 'singles', 'w', '-', 'l', '[unused49]', '3', '–', '1', '[unused51]', 'doubles', 'w', '-', 'l', '[SEP]']\n",
      "Target 0: b''\n",
      "b\"Target form: [{'sel': 3, 'conds': [[4, 0, '0\\xe2\\x80\\x930'], [2, 0, '3\\xe2\\x80\\x931']], 'agg': 3}]\"\n",
      "\n",
      "--------------------\n",
      "Korean BERT\n",
      "NL: b'\\xeb\\xb3\\xb5\\xec\\x8b\\x9d WL\\xec\\x9d\\xb4 0\\xe2\\x80\\x930\\xec\\x9d\\xb4\\xea\\xb3\\xa0 \\xec\\xb4\\x9d WL\\xec\\x9d\\xb4 3\\xe2\\x80\\x931 \\xec\\x9d\\xb8 \\xec\\xb4\\x9d \\xec\\x8b\\xb1\\xea\\xb8\\x80 \\xec\\x88\\x98\\xeb\\x8a\\x94 \\xec\\x96\\xbc\\xeb\\xa7\\x88\\xec\\x9e\\x85\\xeb\\x8b\\x88\\xea\\xb9\\x8c?'\n",
      "NL tokens: [b'[UNK]', b'[UNK]', b'0', b'[UNK]', b'[UNK]', b'\\xec\\xb4\\x9d', b'[UNK]', b'3', b'[UNK]', b'1', b'\\xec\\x9d\\xb8', b'\\xec\\xb4\\x9d', b'[UNK]', b'\\xec\\x88\\x98\\xeb\\x8a\\x94', b'[UNK]', b'?']\n",
      "NL tokens (original): [b'\\xeb\\xb3\\xb5', b'\\xec\\x8b\\x9d', b'W', b'L', b'\\xec\\x9d\\xb4', b'0', b'\\xe2\\x80\\x93', b'0', b'\\xec\\x9d\\xb4', b'\\xea\\xb3\\xa0', b'\\xec\\xb4\\x9d', b'W', b'L', b'\\xec\\x9d\\xb4 ', b'3', b'\\xe2\\x80\\x93']\n",
      "['[CLS]', '[UNK]', '[UNK]', '0', '[UNK]', '[UNK]', '총', '[UNK]', '3', '[UNK]', '1', '인', '총', '[UNK]', '수는', '[UNK]', '?', '[SEP]', '[unused52]', '[unused50]', '[UNK]', '[UNK]', '[unused51]', '[UNK]', '[unused51]', '[UNK]', '[UNK]', '[unused51]', '[UNK]', 'W', '-', 'L', '[unused49]', '3', '[UNK]', '1', '[unused51]', '[UNK]', 'W', '-', 'L', '[unused49]', '3', '[UNK]', '1', '[unused51]', '[UNK]', 'W', '-', 'L', '[SEP]']\n",
      "Target 0: b''\n",
      "b\"Target form: [{'sel': 3, 'conds': [[4, 0, '0\\xe2\\x80\\x930'], [2, 0, '3\\xe2\\x80\\x931']], 'agg': 3}]\"\n",
      "\n",
      "--------------------\n",
      "Multi-Lingual BERT\n",
      "NL: b'\\xeb\\xb3\\xb5\\xec\\x8b\\x9d WL\\xec\\x9d\\xb4 0\\xe2\\x80\\x930\\xec\\x9d\\xb4\\xea\\xb3\\xa0 \\xec\\xb4\\x9d WL\\xec\\x9d\\xb4 3\\xe2\\x80\\x931 \\xec\\x9d\\xb8 \\xec\\xb4\\x9d \\xec\\x8b\\xb1\\xea\\xb8\\x80 \\xec\\x88\\x98\\xeb\\x8a\\x94 \\xec\\x96\\xbc\\xeb\\xa7\\x88\\xec\\x9e\\x85\\xeb\\x8b\\x88\\xea\\xb9\\x8c?'\n",
      "NL tokens: [b'\\xe1\\x84\\x87', b'##\\xe1\\x85\\xa9\\xe1\\x86\\xa8', b'##\\xe1\\x84\\x89\\xe1\\x85\\xb5\\xe1\\x86\\xa8', b'w', b'##l', b'##\\xe1\\x84\\x8b\\xe1\\x85\\xb5', b'0', b'[UNK]', b'0', b'##\\xe1\\x84\\x8b\\xe1\\x85\\xb5\\xe1\\x84\\x80\\xe1\\x85\\xa9', b'\\xe1\\x84\\x8e\\xe1\\x85\\xa9\\xe1\\x86\\xbc', b'w', b'##l', b'##\\xe1\\x84\\x8b\\xe1\\x85\\xb5', b'3', b'[UNK]', b'1', b'\\xe1\\x84\\x8b\\xe1\\x85\\xb5\\xe1\\x86\\xab', b'\\xe1\\x84\\x8e\\xe1\\x85\\xa9\\xe1\\x86\\xbc', b'\\xe1\\x84\\x89\\xe1\\x85\\xb5\\xe1\\x86\\xbc\\xe1\\x84\\x80\\xe1\\x85\\xb3\\xe1\\x86\\xaf', b'\\xe1\\x84\\x89\\xe1\\x85\\xae', b'##\\xe1\\x84\\x82\\xe1\\x85\\xb3\\xe1\\x86\\xab', b'\\xe1\\x84\\x8b', b'##\\xe1\\x85\\xa5\\xe1\\x86\\xaf', b'##\\xe1\\x84\\x86\\xe1\\x85\\xa1', b'##\\xe1\\x84\\x8b\\xe1\\x85\\xb5\\xe1\\x86\\xb8', b'##\\xe1\\x84\\x82\\xe1\\x85\\xb5', b'##\\xe1\\x84\\x81', b'##\\xe1\\x85\\xa1', b'?']\n",
      "NL tokens (original): [b'\\xe1\\x84\\x87', b'##\\xe1\\x85\\xa9\\xe1\\x86\\xa8', b'##\\xe1\\x84\\x89\\xe1\\x85\\xb5\\xe1\\x86\\xa8', b'w', b'##l', b'##\\xe1\\x84\\x8b\\xe1\\x85\\xb5', b'0', b'[UNK]', b'0', b'##\\xe1\\x84\\x8b\\xe1\\x85\\xb5\\xe1\\x84\\x80\\xe1\\x85\\xa9', b'\\xe1\\x84\\x8e\\xe1\\x85\\xa9\\xe1\\x86\\xbc', b'w', b'##l', b'##\\xe1\\x84\\x8b\\xe1\\x85\\xb5', b'3', b'[UNK]', b'1', b'\\xe1\\x84\\x8b\\xe1\\x85\\xb5\\xe1\\x86\\xab', b'\\xe1\\x84\\x8e\\xe1\\x85\\xa9\\xe1\\x86\\xbc', b'\\xe1\\x84\\x89\\xe1\\x85\\xb5\\xe1\\x86\\xbc\\xe1\\x84\\x80\\xe1\\x85\\xb3\\xe1\\x86\\xaf', b'\\xe1\\x84\\x89\\xe1\\x85\\xae', b'##\\xe1\\x84\\x82\\xe1\\x85\\xb3\\xe1\\x86\\xab', b'\\xe1\\x84\\x8b', b'##\\xe1\\x85\\xa5\\xe1\\x86\\xaf', b'##\\xe1\\x84\\x86\\xe1\\x85\\xa1', b'##\\xe1\\x84\\x8b\\xe1\\x85\\xb5\\xe1\\x86\\xb8', b'##\\xe1\\x84\\x82\\xe1\\x85\\xb5', b'##\\xe1\\x84\\x81', b'##\\xe1\\x85\\xa1', b'?']\n",
      "['[CLS]', 'ᄇ', '##ᅩᆨ', '##식', 'w', '##l', '##이', '0', '[UNK]', '0', '##이고', '총', 'w', '##l', '##이', '3', '[UNK]', '1', '인', '총', '싱글', '수', '##는', 'ᄋ', '##ᅥᆯ', '##마', '##입', '##니', '##ᄁ', '##ᅡ', '?', '[SEP]', '[unused52]', '[unused50]', 'squad', 'members', '[unused51]', 'player', '[unused51]', 'years', 'played', '[unused51]', 'total', 'w', '-', 'l', '[unused49]', '3', '[UNK]', '13', '[unused51]', 'singles', 'w', '-', 'l', '[unused49]', '3', '[UNK]', '1', '[unused51]', 'doubles', 'w', '-', 'l', '[SEP]']\n",
      "Target 0: b''\n",
      "b\"Target form: [{'sel': 3, 'conds': [[4, 0, '0\\xe2\\x80\\x930'], [2, 0, '3\\xe2\\x80\\x931']], 'agg': 3}]\"\n",
      "\n",
      "####################\n",
      "--------------------\n",
      "English BERT\n",
      "NL: b\"what's the\\xc2\\xa0doubles w-l\\xc2\\xa0with\\xc2\\xa0years played\\xc2\\xa0value of 1 (1968)\"\n",
      "NL tokens: [b'what', b\"'\", b's', b'the', b'doubles', b'w', b'-', b'l', b'with', b'years', b'played', b'value', b'of', b'1', b'(', b'1968', b')']\n",
      "NL tokens (original): [b'what', b\"'\", b's', b'the', b'doubles', b'w', b'-', b'l', b'with', b'years', b'played', b'value', b'of', b'1', b'(', b'1968', b')']\n",
      "['[CLS]', 'what', \"'\", 's', 'the', 'doubles', 'w', '-', 'l', 'with', 'years', 'played', 'value', 'of', '1', '(', '1968', ')', '[SEP]', '[unused52]', '[unused50]', 'squad', 'members', '[unused51]', 'player', '[unused51]', 'years', 'played', '[unused49]', '1', '(', '1968', ')', '[unused51]', 'total', 'w', '-', 'l', '[unused51]', 'singles', 'w', '-', 'l', '[unused51]', 'doubles', 'w', '-', 'l', '[SEP]']\n",
      "Target 0: b''\n",
      "b\"Target form: [{'sel': 4, 'conds': [[1, 0, '1 (1968)']], 'agg': 0}]\"\n",
      "\n",
      "--------------------\n",
      "Eng+Kor BERT\n",
      "NL: b'\\xed\\x94\\x8c\\xeb\\xa0\\x88\\xec\\x9d\\xb4 \\xed\\x9a\\x9f\\xec\\x88\\x98\\xea\\xb0\\x80 1 \\xec\\x9d\\xb8 \\xeb\\xb3\\xb5\\xec\\x8b\\x9d WL\\xec\\x9d\\x80 \\xec\\x96\\xbc\\xeb\\xa7\\x88\\xec\\x9e\\x85\\xeb\\x8b\\x88\\xea\\xb9\\x8c? (1968)'\n",
      "NL tokens: [b'\\xed\\x94\\x8c', b'\\xeb\\xa0\\x88', b'\\xec\\x9d\\xb4', b'\\xed\\x9a\\x9f', b'\\xec\\x88\\x98\\xea\\xb0\\x80', b'1', b'\\xec\\x9d\\xb8', b'\\xeb\\xb3\\xb5', b'\\xec\\x8b\\x9d', b'w', b'##l', b'\\xec\\x9d\\x80', b'\\xec\\x96\\xbc', b'\\xeb\\xa7\\x88', b'\\xec\\x9e\\x85', b'\\xeb\\x8b\\x88', b'\\xea\\xb9\\x8c', b'?', b'(1', b'96', b'##8', b')']\n",
      "NL tokens (original): [b'\\xed\\x94\\x8c', b'\\xeb\\xa0\\x88', b'\\xec\\x9d\\xb4', b'\\xed\\x9a\\x9f', b'\\xec\\x88\\x98\\xea\\xb0\\x80', b'1', b'\\xec\\x9d\\xb8', b'\\xeb\\xb3\\xb5', b'\\xec\\x8b\\x9d', b'W', b'##L', b'\\xec\\x9d\\x80', b'\\xec\\x96\\xbc', b'\\xeb\\xa7\\x88', b'\\xec\\x9e\\x85', b'\\xeb\\x8b\\x88', b'\\xea\\xb9\\x8c', b'?', b'(1', b'96', b'##8', b')']\n",
      "['[CLS]', '플', '레', '이', '횟', '수가', '1', '인', '복', '식', 'w', '##l', '은', '얼', '마', '입', '니', '까', '?', '(1', '96', '##8', ')', '[SEP]', '[unused52]', '[unused50]', 'squad', 'members', '[unused51]', 'pl', 'ay', 'er', '[unused51]', 'years', 'pl', 'ay', 'ed', '[unused51]', 'total', 'w', '-', 'l', '[unused51]', 'singles', 'w', '-', 'l', '[unused51]', 'doubles', 'w', '-', 'l', '[SEP]']\n",
      "Target 0: b''\n",
      "b\"Target form: [{'sel': 4, 'conds': [[1, 0, '1 (1968)']], 'agg': 0}]\"\n",
      "\n",
      "--------------------\n",
      "Korean BERT\n",
      "NL: b'\\xed\\x94\\x8c\\xeb\\xa0\\x88\\xec\\x9d\\xb4 \\xed\\x9a\\x9f\\xec\\x88\\x98\\xea\\xb0\\x80 1 \\xec\\x9d\\xb8 \\xeb\\xb3\\xb5\\xec\\x8b\\x9d WL\\xec\\x9d\\x80 \\xec\\x96\\xbc\\xeb\\xa7\\x88\\xec\\x9e\\x85\\xeb\\x8b\\x88\\xea\\xb9\\x8c? (1968)'\n",
      "NL tokens: [b'\\xed\\x94\\x8c\\xeb\\xa0\\x88\\xec\\x9d\\xb4', b'[UNK]', b'1', b'\\xec\\x9d\\xb8', b'[UNK]', b'[UNK]', b'[UNK]', b'?', b'(', b'[UNK]', b')']\n",
      "NL tokens (original): [b'\\xed\\x94\\x8c\\xeb\\xa0\\x88\\xec\\x9d\\xb4', b'\\xed\\x9a\\x9f', b'\\xec\\x88\\x98', b'\\xea\\xb0\\x80', b'1', b'\\xec\\x9d\\xb8', b'\\xeb\\xb3\\xb5', b'\\xec\\x8b\\x9d', b'W', b'L', b'\\xec\\x9d\\x80']\n",
      "['[CLS]', '플레이', '[UNK]', '1', '인', '[UNK]', '[UNK]', '[UNK]', '?', '(', '[UNK]', ')', '[SEP]', '[unused52]', '[unused50]', '[UNK]', '[UNK]', '[unused51]', '[UNK]', '[unused51]', '[UNK]', '[UNK]', '[unused51]', '[UNK]', 'W', '-', 'L', '[unused51]', '[UNK]', 'W', '-', 'L', '[unused51]', '[UNK]', 'W', '-', 'L', '[SEP]']\n",
      "Target 0: b''\n",
      "b\"Target form: [{'sel': 4, 'conds': [[1, 0, '1 (1968)']], 'agg': 0}]\"\n",
      "\n",
      "--------------------\n",
      "Multi-Lingual BERT\n",
      "NL: b'\\xed\\x94\\x8c\\xeb\\xa0\\x88\\xec\\x9d\\xb4 \\xed\\x9a\\x9f\\xec\\x88\\x98\\xea\\xb0\\x80 1 \\xec\\x9d\\xb8 \\xeb\\xb3\\xb5\\xec\\x8b\\x9d WL\\xec\\x9d\\x80 \\xec\\x96\\xbc\\xeb\\xa7\\x88\\xec\\x9e\\x85\\xeb\\x8b\\x88\\xea\\xb9\\x8c? (1968)'\n",
      "NL tokens: [b'\\xe1\\x84\\x91', b'##\\xe1\\x85\\xb3\\xe1\\x86\\xaf', b'##\\xe1\\x84\\x85\\xe1\\x85\\xa6', b'##\\xe1\\x84\\x8b\\xe1\\x85\\xb5', b'\\xe1\\x84\\x92', b'##\\xe1\\x85\\xac', b'##\\xe1\\x86\\xba', b'##\\xe1\\x84\\x89\\xe1\\x85\\xae\\xe1\\x84\\x80\\xe1\\x85\\xa1', b'1', b'\\xe1\\x84\\x8b\\xe1\\x85\\xb5\\xe1\\x86\\xab', b'\\xe1\\x84\\x87', b'##\\xe1\\x85\\xa9\\xe1\\x86\\xa8', b'##\\xe1\\x84\\x89\\xe1\\x85\\xb5\\xe1\\x86\\xa8', b'w', b'##l', b'##\\xe1\\x84\\x8b\\xe1\\x85\\xb3\\xe1\\x86\\xab', b'\\xe1\\x84\\x8b', b'##\\xe1\\x85\\xa5\\xe1\\x86\\xaf', b'##\\xe1\\x84\\x86\\xe1\\x85\\xa1', b'##\\xe1\\x84\\x8b\\xe1\\x85\\xb5\\xe1\\x86\\xb8', b'##\\xe1\\x84\\x82\\xe1\\x85\\xb5', b'##\\xe1\\x84\\x81', b'##\\xe1\\x85\\xa1', b'?', b'(', b'1968', b')']\n",
      "NL tokens (original): [b'\\xe1\\x84\\x91', b'##\\xe1\\x85\\xb3\\xe1\\x86\\xaf', b'##\\xe1\\x84\\x85\\xe1\\x85\\xa6', b'##\\xe1\\x84\\x8b\\xe1\\x85\\xb5', b'\\xe1\\x84\\x92', b'##\\xe1\\x85\\xac', b'##\\xe1\\x86\\xba', b'##\\xe1\\x84\\x89\\xe1\\x85\\xae\\xe1\\x84\\x80\\xe1\\x85\\xa1', b'1', b'\\xe1\\x84\\x8b\\xe1\\x85\\xb5\\xe1\\x86\\xab', b'\\xe1\\x84\\x87', b'##\\xe1\\x85\\xa9\\xe1\\x86\\xa8', b'##\\xe1\\x84\\x89\\xe1\\x85\\xb5\\xe1\\x86\\xa8', b'w', b'##l', b'##\\xe1\\x84\\x8b\\xe1\\x85\\xb3\\xe1\\x86\\xab', b'\\xe1\\x84\\x8b', b'##\\xe1\\x85\\xa5\\xe1\\x86\\xaf', b'##\\xe1\\x84\\x86\\xe1\\x85\\xa1', b'##\\xe1\\x84\\x8b\\xe1\\x85\\xb5\\xe1\\x86\\xb8', b'##\\xe1\\x84\\x82\\xe1\\x85\\xb5', b'##\\xe1\\x84\\x81', b'##\\xe1\\x85\\xa1', b'?', b'(', b'1968', b')']\n",
      "['[CLS]', 'ᄑ', '##ᅳᆯ', '##레', '##이', 'ᄒ', '##ᅬ', '##ᆺ', '##수가', '1', '인', 'ᄇ', '##ᅩᆨ', '##식', 'w', '##l', '##은', 'ᄋ', '##ᅥᆯ', '##마', '##입', '##니', '##ᄁ', '##ᅡ', '?', '(', '1968', ')', '[SEP]', '[unused52]', '[unused50]', 'squad', 'members', '[unused51]', 'player', '[unused51]', 'years', 'played', '[unused51]', 'total', 'w', '-', 'l', '[unused51]', 'singles', 'w', '-', 'l', '[unused51]', 'doubles', 'w', '-', 'l', '[SEP]']\n",
      "Target 0: b''\n",
      "b\"Target form: [{'sel': 4, 'conds': [[1, 0, '1 (1968)']], 'agg': 0}]\"\n",
      "\n",
      "####################\n",
      "--------------------\n",
      "English BERT\n",
      "NL: b'what\\xc2\\xa0years are played\\xc2\\xa0for player\\xc2\\xa0 im chung-yang'\n",
      "NL tokens: [b'what', b'years', b'are', b'played', b'for', b'player', b'im', b'chung', b'-', b'yang']\n",
      "NL tokens (original): [b'what', b'years', b'are', b'played', b'for', b'player', b'im', b'chung', b'-', b'yang']\n",
      "['[CLS]', 'what', 'years', 'are', 'played', 'for', 'player', 'im', 'chung', '-', 'yang', '[SEP]', '[unused52]', '[unused50]', 'squad', 'members', '[unused51]', 'player', '[unused49]', 'im', 'chung', '-', 'yang', '[unused51]', 'years', 'played', '[unused51]', 'total', 'w', '-', 'l', '[unused51]', 'singles', 'w', '-', 'l', '[unused51]', 'doubles', 'w', '-', 'l', '[SEP]']\n",
      "Target 0: b''\n",
      "b\"Target form: [{'sel': 1, 'conds': [[0, 0, 'Im Chung-Yang']], 'agg': 0}]\"\n",
      "\n",
      "--------------------\n",
      "Eng+Kor BERT\n",
      "NL: b'\\xec\\x9e\\x84\\xec\\xb6\\xa9 \\xec\\x96\\x91 \\xec\\x84\\xa0\\xec\\x88\\x98\\xeb\\x8a\\x94 \\xeb\\xaa\\x87 \\xeb\\x85\\x84 \\xeb\\x8f\\x99\\xec\\x95\\x88 \\xed\\x94\\x8c\\xeb\\xa0\\x88\\xec\\x9d\\xb4'\n",
      "NL tokens: [b'\\xec\\x9e\\x84', b'\\xec\\xb6\\xa9', b'\\xec\\x96\\x91', b'\\xec\\x84\\xa0\\xec\\x88\\x98', b'\\xeb\\x8a\\x94', b'\\xeb\\xaa\\x87', b'\\xeb\\x85\\x84', b'\\xeb\\x8f\\x99\\xec\\x95\\x88', b'\\xed\\x94\\x8c', b'\\xeb\\xa0\\x88', b'\\xec\\x9d\\xb4']\n",
      "NL tokens (original): [b'\\xec\\x9e\\x84', b'\\xec\\xb6\\xa9', b'\\xec\\x96\\x91', b'\\xec\\x84\\xa0\\xec\\x88\\x98', b'\\xeb\\x8a\\x94', b'\\xeb\\xaa\\x87', b'\\xeb\\x85\\x84', b'\\xeb\\x8f\\x99\\xec\\x95\\x88', b'\\xed\\x94\\x8c', b'\\xeb\\xa0\\x88', b'\\xec\\x9d\\xb4']\n",
      "['[CLS]', '임', '충', '양', '선수', '는', '몇', '년', '동안', '플', '레', '이', '[SEP]', '[unused52]', '[unused50]', 'squad', 'members', '[unused51]', 'pl', 'ay', 'er', '[unused51]', 'years', 'pl', 'ay', 'ed', '[unused51]', 'total', 'w', '-', 'l', '[unused51]', 'singles', 'w', '-', 'l', '[unused51]', 'doubles', 'w', '-', 'l', '[SEP]']\n",
      "Target 0: b''\n",
      "b\"Target form: [{'sel': 1, 'conds': [[0, 0, 'Im Chung-Yang']], 'agg': 0}]\"\n",
      "\n",
      "--------------------\n",
      "Korean BERT\n",
      "NL: b'\\xec\\x9e\\x84\\xec\\xb6\\xa9 \\xec\\x96\\x91 \\xec\\x84\\xa0\\xec\\x88\\x98\\xeb\\x8a\\x94 \\xeb\\xaa\\x87 \\xeb\\x85\\x84 \\xeb\\x8f\\x99\\xec\\x95\\x88 \\xed\\x94\\x8c\\xeb\\xa0\\x88\\xec\\x9d\\xb4'\n",
      "NL tokens: [b'[UNK]', b'\\xec\\x96\\x91', b'[UNK]', b'\\xeb\\xaa\\x87', b'\\xeb\\x85\\x84', b'\\xeb\\x8f\\x99\\xec\\x95\\x88', b'\\xed\\x94\\x8c\\xeb\\xa0\\x88\\xec\\x9d\\xb4']\n",
      "NL tokens (original): [b'\\xec\\x9e\\x84', b'\\xec\\xb6\\xa9', b'\\xec\\x96\\x91', b'\\xec\\x84\\xa0', b'\\xec\\x88\\x98', b'\\xeb\\x8a\\x94 ', b'\\xeb\\xaa\\x87 \\xeb\\x85\\x84']\n",
      "['[CLS]', '[UNK]', '양', '[UNK]', '몇', '년', '동안', '플레이', '[SEP]', '[unused52]', '[unused50]', '[UNK]', '[UNK]', '[unused51]', '[UNK]', '[unused51]', '[UNK]', '[UNK]', '[unused51]', '[UNK]', 'W', '-', 'L', '[unused51]', '[UNK]', 'W', '-', 'L', '[unused51]', '[UNK]', 'W', '-', 'L', '[SEP]']\n",
      "Target 0: b''\n",
      "b\"Target form: [{'sel': 1, 'conds': [[0, 0, 'Im Chung-Yang']], 'agg': 0}]\"\n",
      "\n",
      "--------------------\n",
      "Multi-Lingual BERT\n",
      "NL: b'\\xec\\x9e\\x84\\xec\\xb6\\xa9 \\xec\\x96\\x91 \\xec\\x84\\xa0\\xec\\x88\\x98\\xeb\\x8a\\x94 \\xeb\\xaa\\x87 \\xeb\\x85\\x84 \\xeb\\x8f\\x99\\xec\\x95\\x88 \\xed\\x94\\x8c\\xeb\\xa0\\x88\\xec\\x9d\\xb4'\n",
      "NL tokens: [b'\\xe1\\x84\\x8b\\xe1\\x85\\xb5', b'##\\xe1\\x86\\xb7', b'##\\xe1\\x84\\x8e', b'##\\xe1\\x85\\xae\\xe1\\x86\\xbc', b'\\xe1\\x84\\x8b', b'##\\xe1\\x85\\xa3\\xe1\\x86\\xbc', b'\\xe1\\x84\\x89\\xe1\\x85\\xa5\\xe1\\x86\\xab\\xe1\\x84\\x89\\xe1\\x85\\xae', b'##\\xe1\\x84\\x82\\xe1\\x85\\xb3\\xe1\\x86\\xab', b'\\xe1\\x84\\x86\\xe1\\x85\\xa7\\xe1\\x86\\xbe', b'\\xe1\\x84\\x82', b'##\\xe1\\x85\\xa7\\xe1\\x86\\xab', b'\\xe1\\x84\\x83\\xe1\\x85\\xa9\\xe1\\x86\\xbc\\xe1\\x84\\x8b\\xe1\\x85\\xa1\\xe1\\x86\\xab', b'\\xe1\\x84\\x91', b'##\\xe1\\x85\\xb3\\xe1\\x86\\xaf', b'##\\xe1\\x84\\x85\\xe1\\x85\\xa6', b'##\\xe1\\x84\\x8b\\xe1\\x85\\xb5']\n",
      "NL tokens (original): [b'\\xe1\\x84\\x8b\\xe1\\x85\\xb5', b'##\\xe1\\x86\\xb7', b'##\\xe1\\x84\\x8e', b'##\\xe1\\x85\\xae\\xe1\\x86\\xbc', b'\\xe1\\x84\\x8b', b'##\\xe1\\x85\\xa3\\xe1\\x86\\xbc', b'\\xe1\\x84\\x89\\xe1\\x85\\xa5\\xe1\\x86\\xab\\xe1\\x84\\x89\\xe1\\x85\\xae', b'##\\xe1\\x84\\x82\\xe1\\x85\\xb3\\xe1\\x86\\xab', b'\\xe1\\x84\\x86\\xe1\\x85\\xa7\\xe1\\x86\\xbe', b'\\xe1\\x84\\x82', b'##\\xe1\\x85\\xa7\\xe1\\x86\\xab', b'\\xe1\\x84\\x83\\xe1\\x85\\xa9\\xe1\\x86\\xbc\\xe1\\x84\\x8b\\xe1\\x85\\xa1\\xe1\\x86\\xab', b'\\xe1\\x84\\x91', b'##\\xe1\\x85\\xb3\\xe1\\x86\\xaf', b'##\\xe1\\x84\\x85\\xe1\\x85\\xa6', b'##\\xe1\\x84\\x8b\\xe1\\x85\\xb5']\n",
      "['[CLS]', '이', '##ᆷ', '##ᄎ', '##ᅮᆼ', 'ᄋ', '##ᅣᆼ', '선수', '##는', '몇', 'ᄂ', '##ᅧᆫ', '동안', 'ᄑ', '##ᅳᆯ', '##레', '##이', '[SEP]', '[unused52]', '[unused50]', 'squad', 'members', '[unused51]', 'player', '[unused51]', 'years', 'played', '[unused51]', 'total', 'w', '-', 'l', '[unused51]', 'singles', 'w', '-', 'l', '[unused51]', 'doubles', 'w', '-', 'l', '[SEP]']\n",
      "Target 0: b''\n",
      "b\"Target form: [{'sel': 1, 'conds': [[0, 0, 'Im Chung-Yang']], 'agg': 0}]\"\n",
      "\n",
      "####################\n",
      "--------------------\n",
      "English BERT\n",
      "NL: b'What is the name of the 375 crest length?'\n",
      "NL tokens: [b'what', b'is', b'the', b'name', b'of', b'the', b'375', b'crest', b'length', b'?']\n",
      "NL tokens (original): [b'What', b'is', b'the', b'name', b'of', b'the', b'375', b'crest', b'length', b'?']\n",
      "['[CLS]', 'what', 'is', 'the', 'name', 'of', 'the', '375', 'crest', 'length', '?', '[SEP]', '[unused52]', '[unused50]', 'see', 'also', '[unused51]', 'name', '[unused51]', 'canton', '[unused51]', 'height', '(', 'meters', ')', '[unused51]', 'crest', 'length', '(', 'meters', ')', '[unused51]', 'type', '[unused51]', 'year', 'of', 'construction', '[unused51]', 'name', 'of', 'the', 'lake', '[SEP]']\n",
      "Target 0: b''\n",
      "b\"Target form: [{'sel': 0, 'conds': [[3, 0, 375]], 'agg': 0}]\"\n",
      "\n",
      "--------------------\n",
      "Eng+Kor BERT\n",
      "NL: b'375 \\xeb\\xac\\xb8\\xec\\x9e\\xa5 \\xea\\xb8\\xb8\\xec\\x9d\\xb4\\xec\\x9d\\x98 \\xec\\x9d\\xb4\\xeb\\xa6\\x84\\xec\\x9d\\x80 \\xeb\\xac\\xb4\\xec\\x97\\x87\\xec\\x9e\\x85\\xeb\\x8b\\x88\\xea\\xb9\\x8c?'\n",
      "NL tokens: [b'375', b'\\xeb\\xac\\xb8', b'\\xec\\x9e\\xa5', b'\\xea\\xb8\\xb8', b'\\xec\\x9d\\xb4', b'\\xec\\x9d\\x98', b'\\xec\\x9d\\xb4', b'\\xeb\\xa6\\x84', b'\\xec\\x9d\\x80', b'\\xeb\\xac\\xb4', b'\\xec\\x97\\x87', b'\\xec\\x9e\\x85', b'\\xeb\\x8b\\x88', b'\\xea\\xb9\\x8c', b'?']\n",
      "NL tokens (original): [b'375', b'\\xeb\\xac\\xb8', b'\\xec\\x9e\\xa5', b'\\xea\\xb8\\xb8', b'\\xec\\x9d\\xb4', b'\\xec\\x9d\\x98', b'\\xec\\x9d\\xb4', b'\\xeb\\xa6\\x84', b'\\xec\\x9d\\x80', b'\\xeb\\xac\\xb4', b'\\xec\\x97\\x87', b'\\xec\\x9e\\x85', b'\\xeb\\x8b\\x88', b'\\xea\\xb9\\x8c', b'?']\n",
      "['[CLS]', '375', '문', '장', '길', '이', '의', '이', '름', '은', '무', '엇', '입', '니', '까', '?', '[SEP]', '[unused52]', '[unused50]', 'see', 'a', 'ls', 'o', '[unused51]', 'name', '[unused51]', 'canton', '[unused51]', 'height', '(', 'meters', ')', '[unused51]', 'crest', 'length', '(', 'meters', ')', '[unused51]', 'type', '[unused51]', 'year', 'of', 'con', '##st', '##ru', '##c', 'tion', '[unused51]', 'name', 'of', 'the', 'lake', '[SEP]']\n",
      "Target 0: b''\n",
      "b\"Target form: [{'sel': 0, 'conds': [[3, 0, 375]], 'agg': 0}]\"\n",
      "\n",
      "--------------------\n",
      "Korean BERT\n",
      "NL: b'375 \\xeb\\xac\\xb8\\xec\\x9e\\xa5 \\xea\\xb8\\xb8\\xec\\x9d\\xb4\\xec\\x9d\\x98 \\xec\\x9d\\xb4\\xeb\\xa6\\x84\\xec\\x9d\\x80 \\xeb\\xac\\xb4\\xec\\x97\\x87\\xec\\x9e\\x85\\xeb\\x8b\\x88\\xea\\xb9\\x8c?'\n",
      "NL tokens: [b'[UNK]', b'[UNK]', b'[UNK]', b'[UNK]', b'[UNK]', b'?']\n",
      "NL tokens (original): [b'3', b'7', b'5', b'\\xeb\\xac\\xb8', b'\\xec\\x9e\\xa5', b'\\xea\\xb8\\xb8']\n",
      "['[CLS]', '[UNK]', '[UNK]', '[UNK]', '[UNK]', '[UNK]', '?', '[SEP]', '[unused52]', '[unused50]', '[UNK]', '[UNK]', '[unused51]', '[UNK]', '[unused51]', '[UNK]', '[unused51]', '[UNK]', '(', '[UNK]', ')', '[unused51]', '[UNK]', '[UNK]', '(', '[UNK]', ')', '[unused51]', '[UNK]', '[unused51]', '[UNK]', '[UNK]', '[UNK]', '[unused51]', '[UNK]', '[UNK]', '[UNK]', '[UNK]', '[SEP]']\n",
      "Target 0: b''\n",
      "b\"Target form: [{'sel': 0, 'conds': [[3, 0, 375]], 'agg': 0}]\"\n",
      "\n",
      "--------------------\n",
      "Multi-Lingual BERT\n",
      "NL: b'375 \\xeb\\xac\\xb8\\xec\\x9e\\xa5 \\xea\\xb8\\xb8\\xec\\x9d\\xb4\\xec\\x9d\\x98 \\xec\\x9d\\xb4\\xeb\\xa6\\x84\\xec\\x9d\\x80 \\xeb\\xac\\xb4\\xec\\x97\\x87\\xec\\x9e\\x85\\xeb\\x8b\\x88\\xea\\xb9\\x8c?'\n",
      "NL tokens: [b'375', b'\\xe1\\x84\\x86', b'##\\xe1\\x85\\xae\\xe1\\x86\\xab', b'##\\xe1\\x84\\x8c\\xe1\\x85\\xa1\\xe1\\x86\\xbc', b'\\xe1\\x84\\x80', b'##\\xe1\\x85\\xb5\\xe1\\x86\\xaf', b'##\\xe1\\x84\\x8b\\xe1\\x85\\xb5', b'##\\xe1\\x84\\x8b\\xe1\\x85\\xb4', b'\\xe1\\x84\\x8b\\xe1\\x85\\xb5\\xe1\\x84\\x85\\xe1\\x85\\xb3\\xe1\\x86\\xb7\\xe1\\x84\\x8b\\xe1\\x85\\xb3\\xe1\\x86\\xab', b'\\xe1\\x84\\x86', b'##\\xe1\\x85\\xae\\xe1\\x84\\x8b\\xe1\\x85\\xa5', b'##\\xe1\\x86\\xba\\xe1\\x84\\x8b\\xe1\\x85\\xb5', b'##\\xe1\\x86\\xb8', b'##\\xe1\\x84\\x82\\xe1\\x85\\xb5', b'##\\xe1\\x84\\x81', b'##\\xe1\\x85\\xa1', b'?']\n",
      "NL tokens (original): [b'375', b'\\xe1\\x84\\x86', b'##\\xe1\\x85\\xae\\xe1\\x86\\xab', b'##\\xe1\\x84\\x8c\\xe1\\x85\\xa1\\xe1\\x86\\xbc', b'\\xe1\\x84\\x80', b'##\\xe1\\x85\\xb5\\xe1\\x86\\xaf', b'##\\xe1\\x84\\x8b\\xe1\\x85\\xb5', b'##\\xe1\\x84\\x8b\\xe1\\x85\\xb4', b'\\xe1\\x84\\x8b\\xe1\\x85\\xb5\\xe1\\x84\\x85\\xe1\\x85\\xb3\\xe1\\x86\\xb7\\xe1\\x84\\x8b\\xe1\\x85\\xb3\\xe1\\x86\\xab', b'\\xe1\\x84\\x86', b'##\\xe1\\x85\\xae\\xe1\\x84\\x8b\\xe1\\x85\\xa5', b'##\\xe1\\x86\\xba\\xe1\\x84\\x8b\\xe1\\x85\\xb5', b'##\\xe1\\x86\\xb8', b'##\\xe1\\x84\\x82\\xe1\\x85\\xb5', b'##\\xe1\\x84\\x81', b'##\\xe1\\x85\\xa1', b'?']\n",
      "['[CLS]', '375', 'ᄆ', '##ᅮᆫ', '##장', 'ᄀ', '##ᅵᆯ', '##이', '##의', '이름은', 'ᄆ', '##ᅮ어', '##ᆺ이', '##ᆸ', '##니', '##ᄁ', '##ᅡ', '?', '[SEP]', '[unused52]', '[unused50]', 'see', 'also', '[unused51]', 'name', '[unused51]', 'canton', '[unused51]', 'height', '(', 'meters', ')', '[unused51]', 'crest', 'length', '(', 'meters', ')', '[unused51]', 'type', '[unused51]', 'year', 'of', 'construction', '[unused51]', 'name', 'of', 'the', 'lake', '[SEP]']\n",
      "Target 0: b''\n",
      "b\"Target form: [{'sel': 0, 'conds': [[3, 0, 375]], 'agg': 0}]\"\n",
      "\n"
     ]
    }
   ],
   "source": [
    "for i in range(50, 55):\n",
    "    print('#'*20)\n",
    "    print('-'*20)\n",
    "    print(\"English BERT\")\n",
    "    eng_data['train'][i].pretty_print()\n",
    "    print('-'*20)\n",
    "    print(\"Eng+Kor BERT\")\n",
    "    engko_data['train'][i].pretty_print()\n",
    "    print('-'*20)\n",
    "    print(\"Korean BERT\")\n",
    "    ko_data['train'][i].pretty_print()\n",
    "    print('-'*20)\n",
    "    print(\"Multi-Lingual BERT\")\n",
    "    multi_data['train'][i].pretty_print()\n",
    "    "
   ]
  },
  {
   "cell_type": "code",
   "execution_count": 177,
   "metadata": {},
   "outputs": [
    {
     "name": "stdout",
     "output_type": "stream",
     "text": [
      "NL: b'\\xeb\\xa7\\x88\\xec\\x9d\\xb4\\xec\\x95\\xa0\\xeb\\xaf\\xb8\\xea\\xb0\\x80 \\xec\\xb2\\xab \\xeb\\xb2\\x88\\xec\\xa7\\xb8 \\xec\\xa4\\x80\\xea\\xb2\\xb0\\xec\\x8a\\xb9 \\xec\\xa7\\x84\\xec\\xb6\\x9c \\xec\\x9e\\x90\\xeb\\xa1\\x9c \\xec\\x84\\xa0\\xec\\xa0\\x95\\xeb\\x90\\x98\\xec\\x97\\x88\\xec\\x9d\\x84 \\xeb\\x95\\x8c \\xeb\\xaa\\xa8\\xeb\\x93\\xa0 \\xea\\xb2\\xbd\\xea\\xb8\\xb0\\xec\\x9d\\x98 \\xec\\xa0\\x90\\xec\\x88\\x98\\xeb\\xa5\\xbc \\xea\\xb8\\xb0\\xec\\x9e\\xac\\xed\\x95\\x98\\xec\\x8b\\xad\\xec\\x8b\\x9c\\xec\\x98\\xa4.'\n",
      "NL tokens: [b'\\xeb\\xa7\\x88', b'\\xec\\x9d\\xb4', b'\\xec\\x95\\xa0', b'\\xeb\\xaf\\xb8', b'\\xea\\xb0\\x80', b'\\xec\\xb2\\xab', b'\\xeb\\xb2\\x88', b'\\xec\\xa7\\xb8', b'\\xec\\xa4\\x80', b'\\xea\\xb2\\xb0', b'\\xec\\x8a\\xb9', b'\\xec\\xa7\\x84', b'\\xec\\xb6\\x9c', b'\\xec\\x9e\\x90', b'\\xeb\\xa1\\x9c', b'\\xec\\x84\\xa0', b'\\xec\\xa0\\x95', b'\\xeb\\x90\\x98\\xec\\x97\\x88', b'\\xec\\x9d\\x84', b'\\xeb\\x95\\x8c', b'\\xeb\\xaa\\xa8', b'\\xeb\\x93\\xa0', b'\\xea\\xb2\\xbd', b'\\xea\\xb8\\xb0', b'\\xec\\x9d\\x98', b'\\xec\\xa0\\x90', b'\\xec\\x88\\x98\\xeb\\xa5\\xbc', b'\\xea\\xb8\\xb0', b'\\xec\\x9e\\xac', b'\\xed\\x95\\x98', b'\\xec\\x8b\\xad', b'\\xec\\x8b\\x9c', b'\\xec\\x98\\xa4', b'.']\n",
      "NL tokens (original): [b'\\xeb\\xa7\\x88', b'\\xec\\x9d\\xb4', b'\\xec\\x95\\xa0', b'\\xeb\\xaf\\xb8', b'\\xea\\xb0\\x80', b'\\xec\\xb2\\xab', b'\\xeb\\xb2\\x88', b'\\xec\\xa7\\xb8', b'\\xec\\xa4\\x80', b'\\xea\\xb2\\xb0', b'\\xec\\x8a\\xb9', b'\\xec\\xa7\\x84', b'\\xec\\xb6\\x9c', b'\\xec\\x9e\\x90', b'\\xeb\\xa1\\x9c', b'\\xec\\x84\\xa0', b'\\xec\\xa0\\x95', b'\\xeb\\x90\\x98\\xec\\x97\\x88', b'\\xec\\x9d\\x84', b'\\xeb\\x95\\x8c', b'\\xeb\\xaa\\xa8', b'\\xeb\\x93\\xa0', b'\\xea\\xb2\\xbd', b'\\xea\\xb8\\xb0', b'\\xec\\x9d\\x98', b'\\xec\\xa0\\x90', b'\\xec\\x88\\x98\\xeb\\xa5\\xbc', b'\\xea\\xb8\\xb0', b'\\xec\\x9e\\xac', b'\\xed\\x95\\x98', b'\\xec\\x8b\\xad', b'\\xec\\x8b\\x9c', b'\\xec\\x98\\xa4', b'.']\n",
      "['[CLS]', '마', '이', '애', '미', '가', '첫', '번', '째', '준', '결', '승', '진', '출', '자', '로', '선', '정', '되었', '을', '때', '모', '든', '경', '기', '의', '점', '수를', '기', '재', '하', '십', '시', '오', '.', '[SEP]', '[unused52]', '[unused50]', 'division', 'ii', '[unused51]', 'year', '[unused51]', 'champion', '[unused51]', 'score', '[unused51]', 'runner', '-', 'up', '[unused51]', 'l', 'oc', 'ation', '[unused51]', 'semi', '-', 'finalist', '#1', '[unused51]', 'semi', '-', 'finalist', '#2', '[SEP]']\n",
      "Target 0: b''\n",
      "b\"Target form: [{'sel': 2, 'conds': [[5, 0, 'Miami']], 'agg': 0}]\"\n",
      "\n"
     ]
    }
   ],
   "source": [
    "engko_data['dev'][100].pretty_print()"
   ]
  },
  {
   "cell_type": "code",
   "execution_count": 178,
   "metadata": {},
   "outputs": [
    {
     "name": "stdout",
     "output_type": "stream",
     "text": [
      "NL: b'\\xeb\\xa7\\x88\\xec\\x9d\\xb4\\xec\\x95\\xa0\\xeb\\xaf\\xb8\\xea\\xb0\\x80 \\xec\\xb2\\xab \\xeb\\xb2\\x88\\xec\\xa7\\xb8 \\xec\\xa4\\x80\\xea\\xb2\\xb0\\xec\\x8a\\xb9 \\xec\\xa7\\x84\\xec\\xb6\\x9c \\xec\\x9e\\x90\\xeb\\xa1\\x9c \\xec\\x84\\xa0\\xec\\xa0\\x95\\xeb\\x90\\x98\\xec\\x97\\x88\\xec\\x9d\\x84 \\xeb\\x95\\x8c \\xeb\\xaa\\xa8\\xeb\\x93\\xa0 \\xea\\xb2\\xbd\\xea\\xb8\\xb0\\xec\\x9d\\x98 \\xec\\xa0\\x90\\xec\\x88\\x98\\xeb\\xa5\\xbc \\xea\\xb8\\xb0\\xec\\x9e\\xac\\xed\\x95\\x98\\xec\\x8b\\xad\\xec\\x8b\\x9c\\xec\\x98\\xa4.'\n",
      "NL tokens: [b'[UNK]', b'\\xec\\xb2\\xab', b'\\xeb\\xb2\\x88\\xec\\xa7\\xb8', b'[UNK]', b'[UNK]', b'\\xec\\x9e\\x90\\xeb\\xa1\\x9c', b'[UNK]', b'\\xeb\\x95\\x8c', b'[UNK]', b'[UNK]', b'[UNK]', b'[UNK]', b'.']\n",
      "NL tokens (original): [b'\\xeb\\xa7\\x88', b'\\xec\\x9d\\xb4', b'\\xec\\x95\\xa0\\xeb\\xaf\\xb8', b'\\xea\\xb0\\x80', b'\\xec\\xb2\\xab', b'\\xeb\\xb2\\x88\\xec\\xa7\\xb8', b'\\xec\\xa4\\x80', b'\\xea\\xb2\\xb0', b'\\xec\\x8a\\xb9', b'\\xec\\xa7\\x84', b'\\xec\\xb6\\x9c', b'\\xec\\x9e\\x90', b'\\xeb\\xa1\\x9c']\n",
      "['[CLS]', '[UNK]', '첫', '번째', '[UNK]', '[UNK]', '자로', '[UNK]', '때', '[UNK]', '[UNK]', '[UNK]', '[UNK]', '.', '[SEP]', '[unused52]', '[unused50]', '[UNK]', 'II', '[unused51]', '[UNK]', '[unused51]', '[UNK]', '[unused51]', '[UNK]', '[unused51]', '[UNK]', '-', '[UNK]', '[unused51]', '[UNK]', '[unused51]', '[UNK]', '-', '[UNK]', '#', '1', '[unused51]', '[UNK]', '-', '[UNK]', '#', '2', '[SEP]']\n",
      "Target 0: b''\n",
      "b\"Target form: [{'sel': 2, 'conds': [[5, 0, 'Miami']], 'agg': 0}]\"\n",
      "\n"
     ]
    }
   ],
   "source": [
    "ko_data['dev'][100].pretty_print()"
   ]
  },
  {
   "cell_type": "code",
   "execution_count": 179,
   "metadata": {},
   "outputs": [
    {
     "ename": "NameError",
     "evalue": "name 'data' is not defined",
     "output_type": "error",
     "traceback": [
      "\u001b[0;31m---------------------------------------------------------------------------\u001b[0m",
      "\u001b[0;31mNameError\u001b[0m                                 Traceback (most recent call last)",
      "\u001b[0;32m<ipython-input-179-d355a9f391b9>\u001b[0m in \u001b[0;36m<module>\u001b[0;34m\u001b[0m\n\u001b[0;32m----> 1\u001b[0;31m \u001b[0mdata\u001b[0m\u001b[0;34m[\u001b[0m\u001b[0;34m'train'\u001b[0m\u001b[0;34m]\u001b[0m\u001b[0;34m[\u001b[0m\u001b[0;36m100\u001b[0m\u001b[0;34m]\u001b[0m\u001b[0;34m.\u001b[0m\u001b[0mpretty_print\u001b[0m\u001b[0;34m(\u001b[0m\u001b[0;34m)\u001b[0m\u001b[0;34m\u001b[0m\u001b[0;34m\u001b[0m\u001b[0m\n\u001b[0m",
      "\u001b[0;31mNameError\u001b[0m: name 'data' is not defined"
     ]
    }
   ],
   "source": [
    "data['train'][100].pretty_print()"
   ]
  },
  {
   "cell_type": "code",
   "execution_count": 57,
   "metadata": {},
   "outputs": [
    {
     "name": "stdout",
     "output_type": "stream",
     "text": [
      "NL: b'\\xeb\\x82\\xa8\\xed\\x98\\xb8\\xec\\xa3\\xbc\\xec\\x97\\x90 \\xeb\\x8c\\x80\\xed\\x95\\x9c \\xeb\\xa9\\x94\\xeb\\xaa\\xa8\\xea\\xb0\\x80 \\xeb\\xac\\xb4\\xec\\x97\\x87\\xec\\x9d\\xb8\\xec\\xa7\\x80 \\xec\\x95\\x8c\\xeb\\xa0\\xa4\\xec\\xa3\\xbc\\xec\\x84\\xb8\\xec\\x9a\\x94.'\n",
      "NL tokens: [b'\\xe1\\x84\\x82', b'##\\xe1\\x85\\xa1\\xe1\\x86\\xb7', b'##\\xe1\\x84\\x92\\xe1\\x85\\xa9', b'##\\xe1\\x84\\x8c\\xe1\\x85\\xae', b'##\\xe1\\x84\\x8b\\xe1\\x85\\xa6', b'\\xe1\\x84\\x83\\xe1\\x85\\xa2\\xe1\\x84\\x92\\xe1\\x85\\xa1\\xe1\\x86\\xab', b'\\xe1\\x84\\x86', b'##\\xe1\\x85\\xa6', b'##\\xe1\\x84\\x86\\xe1\\x85\\xa9', b'##\\xe1\\x84\\x80\\xe1\\x85\\xa1', b'\\xe1\\x84\\x86', b'##\\xe1\\x85\\xae\\xe1\\x84\\x8b\\xe1\\x85\\xa5', b'##\\xe1\\x86\\xba\\xe1\\x84\\x8b\\xe1\\x85\\xb5', b'##\\xe1\\x86\\xab', b'##\\xe1\\x84\\x8c\\xe1\\x85\\xb5', b'\\xe1\\x84\\x8b\\xe1\\x85\\xa1\\xe1\\x86\\xaf', b'##\\xe1\\x84\\x85\\xe1\\x85\\xa7', b'##\\xe1\\x84\\x8c\\xe1\\x85\\xae', b'##\\xe1\\x84\\x89\\xe1\\x85\\xa6', b'##\\xe1\\x84\\x8b\\xe1\\x85\\xad', b'.']\n",
      "NL tokens (original): [b'\\xe1\\x84\\x82', b'##\\xe1\\x85\\xa1\\xe1\\x86\\xb7', b'##\\xe1\\x84\\x92\\xe1\\x85\\xa9', b'##\\xe1\\x84\\x8c\\xe1\\x85\\xae', b'##\\xe1\\x84\\x8b\\xe1\\x85\\xa6', b'\\xe1\\x84\\x83\\xe1\\x85\\xa2\\xe1\\x84\\x92\\xe1\\x85\\xa1\\xe1\\x86\\xab', b'\\xe1\\x84\\x86', b'##\\xe1\\x85\\xa6', b'##\\xe1\\x84\\x86\\xe1\\x85\\xa9', b'##\\xe1\\x84\\x80\\xe1\\x85\\xa1', b'\\xe1\\x84\\x86', b'##\\xe1\\x85\\xae\\xe1\\x84\\x8b\\xe1\\x85\\xa5', b'##\\xe1\\x86\\xba\\xe1\\x84\\x8b\\xe1\\x85\\xb5', b'##\\xe1\\x86\\xab', b'##\\xe1\\x84\\x8c\\xe1\\x85\\xb5', b'\\xe1\\x84\\x8b\\xe1\\x85\\xa1\\xe1\\x86\\xaf', b'##\\xe1\\x84\\x85\\xe1\\x85\\xa7', b'##\\xe1\\x84\\x8c\\xe1\\x85\\xae', b'##\\xe1\\x84\\x89\\xe1\\x85\\xa6', b'##\\xe1\\x84\\x8b\\xe1\\x85\\xad', b'.']\n",
      "['[CLS]', 'ᄂ', '##ᅡᆷ', '##호', '##주', '##에', '대한', 'ᄆ', '##ᅦ', '##모', '##가', 'ᄆ', '##ᅮ어', '##ᆺ이', '##ᆫ', '##지', '알', '##려', '##주', '##세', '##요', '.', '[SEP]', '[unused52]', '[unused50]', 'state', '/', 'territory', '[unused51]', 'state', '/', 'territory', '[unused51]', 'text', '/', 'background', 'colour', '[unused51]', 'format', '[unused51]', 'current', 'slogan', '[unused51]', 'current', 'series', '[unused51]', 'notes', '[SEP]']\n",
      "Target 0: b''\n",
      "b\"Target form: [{'sel': 5, 'conds': [[3, 0, 'SOUTH AUSTRALIA']], 'agg': 0}]\"\n",
      "\n"
     ]
    }
   ],
   "source": [
    "multi_data['train'][0].pretty_print()"
   ]
  },
  {
   "cell_type": "code",
   "execution_count": 145,
   "metadata": {},
   "outputs": [],
   "source": [
    "import torch\n",
    "from transformers import BertTokenizer, BertModel\n",
    "\n",
    "tokenizer = BertTokenizer.from_pretrained(\"bert-base-cased\")\n",
    "model = BertModel.from_pretrained(\"bert-base-cased\")"
   ]
  },
  {
   "cell_type": "code",
   "execution_count": 146,
   "metadata": {},
   "outputs": [
    {
     "data": {
      "text/plain": [
       "['[UNK]', '[UNK]', '[UNK]', '[UNK]']"
      ]
     },
     "execution_count": 146,
     "metadata": {},
     "output_type": "execute_result"
    }
   ],
   "source": [
    "tokenizer.tokenize('내 몸이 너무 아파')"
   ]
  },
  {
   "cell_type": "code",
   "execution_count": 29,
   "metadata": {},
   "outputs": [
    {
     "data": {
      "application/vnd.jupyter.widget-view+json": {
       "model_id": "15529538fc1b4c50b241ac123ba8aeb2",
       "version_major": 2,
       "version_minor": 0
      },
      "text/plain": [
       "HBox(children=(IntProgress(value=0, description='Downloading', max=213450, style=ProgressStyle(description_wid…"
      ]
     },
     "metadata": {},
     "output_type": "display_data"
    },
    {
     "name": "stdout",
     "output_type": "stream",
     "text": [
      "\n"
     ]
    },
    {
     "data": {
      "application/vnd.jupyter.widget-view+json": {
       "model_id": "7232b7ebfc5042f9b28761b48cb2ae11",
       "version_major": 2,
       "version_minor": 0
      },
      "text/plain": [
       "HBox(children=(IntProgress(value=0, description='Downloading', max=433, style=ProgressStyle(description_width=…"
      ]
     },
     "metadata": {},
     "output_type": "display_data"
    },
    {
     "name": "stdout",
     "output_type": "stream",
     "text": [
      "\n"
     ]
    },
    {
     "data": {
      "application/vnd.jupyter.widget-view+json": {
       "model_id": "45447fd10f314fb8ae368046cebb3f1d",
       "version_major": 2,
       "version_minor": 0
      },
      "text/plain": [
       "HBox(children=(IntProgress(value=0, description='Downloading', max=435779157, style=ProgressStyle(description_…"
      ]
     },
     "metadata": {},
     "output_type": "display_data"
    },
    {
     "name": "stdout",
     "output_type": "stream",
     "text": [
      "\n",
      "28996\n",
      "28997\n",
      "tensor([ 2.0105e-02,  4.1210e-02, -8.6391e-03, -1.2895e-02, -2.6548e-02,\n",
      "         1.2749e-02, -2.8585e-02,  2.9357e-02, -2.8315e-02, -1.6660e-03,\n",
      "        -2.8184e-02, -2.4176e-02, -1.1917e-02, -5.0954e-02, -5.3747e-03,\n",
      "        -2.3604e-02,  1.5609e-02,  8.0757e-03, -1.1517e-02, -8.6824e-03,\n",
      "         6.1110e-04,  1.4534e-02, -5.8289e-03,  1.3068e-02, -2.6396e-02,\n",
      "        -1.5126e-02, -4.6017e-03, -3.7856e-03, -3.0076e-02,  2.6408e-02,\n",
      "         4.2605e-03,  4.5580e-03, -1.6992e-02,  8.4462e-03,  1.6670e-02,\n",
      "        -7.7514e-03, -3.0544e-02,  1.1164e-02,  8.2609e-04, -9.2539e-03,\n",
      "         3.8989e-02, -2.1804e-02,  9.4779e-03,  1.6304e-03, -2.1960e-02,\n",
      "        -1.8996e-02,  2.2673e-02,  9.4029e-03,  5.8221e-03, -1.2463e-02,\n",
      "        -5.4119e-03,  2.4861e-02, -6.2257e-04,  4.0769e-02, -1.2550e-02,\n",
      "         1.2010e-02, -1.3524e-02, -1.0534e-02, -2.9601e-02,  1.2069e-02,\n",
      "        -2.6971e-02,  2.8995e-02,  7.6551e-03, -2.7225e-02, -2.7898e-02,\n",
      "         3.7611e-03, -1.0652e-02, -2.4479e-02, -2.2796e-02,  2.7228e-02,\n",
      "         1.3483e-02,  1.8584e-02, -6.1082e-04, -8.0583e-04,  6.4151e-03,\n",
      "         1.0712e-03,  6.6526e-03, -1.6035e-02,  1.5809e-02, -1.6755e-02,\n",
      "         2.8719e-02, -4.0017e-02,  3.2521e-02,  3.0280e-02,  3.6783e-03,\n",
      "         7.0912e-03, -5.9868e-03,  1.7179e-02, -1.8200e-02, -1.3692e-02,\n",
      "         1.0183e-02,  5.9831e-03,  2.1280e-02,  1.3371e-02, -2.2406e-02,\n",
      "        -1.6151e-02, -1.1078e-02,  1.9652e-02, -1.2140e-03,  7.7753e-03,\n",
      "        -3.0240e-02,  8.7024e-03,  2.4065e-02, -1.5370e-02, -8.5715e-04,\n",
      "        -8.5931e-03,  3.6466e-02,  2.2572e-02, -1.4723e-02, -6.2755e-03,\n",
      "         3.7843e-04, -1.2997e-02, -4.2351e-03,  1.5766e-02, -4.3190e-03,\n",
      "         1.9556e-02,  2.3832e-03,  2.6483e-03, -1.3928e-03,  9.6538e-03,\n",
      "        -8.0596e-03,  2.6131e-02, -1.4116e-02, -1.2676e-02, -2.1891e-02,\n",
      "        -1.3423e-02, -2.1934e-02, -2.0906e-02,  4.8412e-03,  1.4203e-02,\n",
      "         2.4164e-02,  1.6842e-02,  1.9085e-02, -3.5288e-02, -4.3413e-02,\n",
      "         2.2853e-02, -5.6426e-03,  5.1936e-03, -2.1006e-02,  3.6706e-02,\n",
      "         3.5954e-02,  1.5244e-02,  6.5930e-04, -8.0340e-03,  1.1706e-02,\n",
      "         9.2737e-03, -1.5013e-02,  4.2860e-04,  5.6152e-03,  2.4036e-04,\n",
      "        -1.2711e-02, -1.5728e-03, -1.6656e-02, -4.5815e-03,  3.6364e-02,\n",
      "         1.2689e-03,  2.8501e-02,  1.9906e-02,  3.6046e-02,  6.2852e-04,\n",
      "         1.6739e-02,  1.6218e-02, -2.6689e-02, -8.5047e-03, -1.0269e-02,\n",
      "         1.4069e-02,  1.3235e-02, -3.1891e-02,  2.8747e-02, -3.0126e-03,\n",
      "         1.5365e-02,  1.7203e-02,  1.0687e-02, -1.0593e-02,  1.8870e-02,\n",
      "        -1.2024e-02, -1.6801e-03, -1.9720e-02, -1.7710e-02, -1.4968e-02,\n",
      "        -1.0887e-03,  7.4627e-03, -6.1215e-03, -4.7897e-02,  3.1479e-02,\n",
      "         1.4061e-02,  2.0603e-02, -1.8247e-02, -9.6833e-03,  2.6633e-02,\n",
      "        -2.2312e-02, -4.7164e-02,  1.3462e-03,  2.2146e-03, -3.5903e-02,\n",
      "        -1.0072e-02,  9.7817e-03, -3.6105e-03,  1.1886e-02,  9.6432e-03,\n",
      "        -3.8040e-03, -2.8169e-02, -8.6554e-03,  1.7804e-02,  8.6695e-03,\n",
      "         3.3162e-02,  1.5678e-02,  2.1011e-02,  3.1902e-02, -9.9471e-03,\n",
      "        -3.1407e-02,  1.7446e-02,  6.0581e-02,  2.8391e-02,  2.2741e-02,\n",
      "         1.0508e-03, -5.8935e-03, -1.9877e-02,  4.4671e-03, -3.7090e-03,\n",
      "        -2.9904e-02,  1.9561e-02, -1.7120e-02, -1.6564e-02,  1.4909e-02,\n",
      "         7.9150e-03,  8.2177e-03,  8.9409e-03, -2.3303e-02, -3.5057e-03,\n",
      "         7.9698e-03,  9.7130e-03, -2.6581e-02,  2.0544e-02,  6.0624e-03,\n",
      "         7.1362e-03, -2.0047e-02,  3.2954e-02,  1.1842e-02,  6.8801e-03,\n",
      "         1.3682e-03, -1.2242e-02,  2.2680e-02, -2.9139e-02,  1.5723e-02,\n",
      "         6.4495e-03,  1.8747e-03, -2.3711e-02, -3.7229e-02,  3.5495e-02,\n",
      "        -1.9076e-02,  9.5600e-03,  2.4063e-02,  1.2249e-02, -2.0787e-02,\n",
      "        -1.2192e-02, -5.3649e-03, -2.3136e-02,  2.6611e-02, -8.5970e-03,\n",
      "        -1.1722e-02, -3.0182e-02, -9.9997e-04,  7.7162e-03,  3.0859e-02,\n",
      "        -1.5406e-02,  1.7070e-02,  7.4798e-03,  1.8491e-02, -2.8763e-03,\n",
      "        -5.1078e-03,  3.4242e-02, -1.5462e-02, -2.7981e-02, -1.5221e-02,\n",
      "         1.8886e-03,  3.9994e-03,  1.6642e-02,  1.4574e-02, -1.9021e-02,\n",
      "        -2.0481e-02,  5.7452e-03, -1.4432e-02, -2.5131e-02, -1.4610e-03,\n",
      "         5.3836e-03,  2.8631e-02, -1.5565e-02, -1.0009e-02,  8.0213e-04,\n",
      "         1.5970e-02,  3.4829e-03, -6.4747e-03, -9.1203e-04, -3.2740e-03,\n",
      "         4.0291e-03,  3.6663e-02, -3.0278e-02,  2.0908e-03, -5.8732e-03,\n",
      "         2.5121e-02,  1.7734e-02,  2.2035e-02,  3.4126e-03, -5.3198e-03,\n",
      "         7.6320e-03,  3.0501e-02, -4.4029e-02,  1.3455e-02, -6.2202e-03,\n",
      "        -3.8341e-03,  1.1159e-02, -2.1243e-02,  1.0810e-02,  1.9088e-02,\n",
      "        -2.8236e-03, -1.4453e-02,  2.1880e-02, -2.9822e-02, -8.4934e-03,\n",
      "         1.9353e-02, -4.3455e-03,  2.7521e-02,  6.2618e-03, -6.7535e-03,\n",
      "         1.6598e-02,  6.5077e-03,  1.0300e-02,  1.8147e-02,  3.1322e-02,\n",
      "        -4.2048e-02, -2.6558e-02,  2.2358e-02,  1.3632e-02, -1.2611e-03,\n",
      "        -3.6469e-02, -3.4290e-03,  2.2085e-02, -9.7856e-03,  4.7912e-02,\n",
      "        -5.6325e-04, -2.2646e-02, -1.7953e-02, -3.7431e-02, -4.4695e-03,\n",
      "        -4.0708e-03, -4.6796e-02, -5.4234e-03, -8.2857e-03,  1.2629e-02,\n",
      "        -4.0510e-02, -1.8105e-02,  2.8512e-02, -3.1696e-03,  6.1783e-03,\n",
      "         7.3461e-03,  3.0609e-02,  2.1668e-03, -7.7623e-04, -5.7273e-04,\n",
      "         1.5558e-02,  1.4367e-02, -3.6441e-03,  1.6789e-02, -1.3261e-02,\n",
      "        -1.8080e-02,  3.5845e-02,  3.0455e-02, -4.1081e-02, -2.6236e-02,\n",
      "         5.2693e-03,  4.9464e-02,  4.8095e-03,  1.1238e-02, -1.0646e-02,\n",
      "        -1.6814e-02,  1.1544e-02, -2.2407e-02,  5.2615e-03, -3.6361e-02,\n",
      "         5.0919e-03, -1.5940e-02, -1.4540e-02,  1.3205e-02,  7.0437e-03,\n",
      "         2.1815e-02, -7.7862e-03,  2.1611e-02, -1.1434e-02,  9.2925e-03,\n",
      "         2.0270e-02, -2.1426e-02,  8.7612e-03,  1.2808e-02, -2.8985e-03,\n",
      "         1.0348e-02, -2.3809e-02, -1.5695e-02,  4.9537e-03,  2.1832e-02,\n",
      "         2.9640e-02, -1.5375e-02,  1.9278e-02,  2.4163e-02,  2.7047e-02,\n",
      "        -1.2805e-02, -1.2608e-02,  2.8610e-03, -4.6654e-03, -1.3952e-02,\n",
      "        -2.9542e-02,  3.3213e-02,  5.9428e-04, -1.7584e-02,  3.5207e-02,\n",
      "        -2.1048e-02, -3.6015e-02, -3.2483e-02, -3.5836e-02,  8.6347e-03,\n",
      "        -7.5682e-04, -2.3290e-02,  9.2467e-03, -5.1569e-02,  1.9774e-04,\n",
      "        -2.1587e-02,  1.1000e-03, -1.8351e-03, -1.0747e-02,  3.3777e-02,\n",
      "        -1.9597e-02, -1.9487e-02,  1.9371e-02, -1.2348e-02,  4.6184e-03,\n",
      "         1.9033e-02,  1.3547e-02, -4.1312e-02,  1.3707e-02,  3.0773e-02,\n",
      "        -3.1927e-02,  1.1945e-02, -1.4838e-02, -2.2772e-02,  1.3962e-02,\n",
      "        -3.5912e-03,  1.7826e-02, -4.0260e-03, -1.3333e-02,  3.9665e-02,\n",
      "        -3.0875e-03, -1.5139e-02, -2.1106e-02,  2.5570e-03,  9.2277e-03,\n",
      "         1.6693e-02, -2.0054e-02,  6.2691e-03, -1.2723e-02, -8.7222e-03,\n",
      "        -1.3908e-02, -1.7883e-02, -1.3681e-03,  2.4283e-02,  1.8313e-02,\n",
      "        -2.6997e-02, -5.6459e-03,  1.2782e-02, -2.1768e-02,  7.6668e-03,\n",
      "         2.6432e-02,  3.8706e-02,  2.3358e-02, -7.5261e-03,  4.2073e-03,\n",
      "        -2.8182e-02, -2.4417e-02,  3.0876e-02, -1.7889e-03,  4.1029e-03,\n",
      "         4.8645e-03, -3.8856e-02,  3.5537e-03, -2.9993e-03,  2.1320e-02,\n",
      "        -2.6576e-02, -4.1301e-03,  2.7727e-02,  3.2920e-03, -4.3802e-02,\n",
      "         2.0154e-02,  3.3602e-02, -2.2277e-02, -1.1420e-02, -7.7387e-03,\n",
      "        -4.4954e-02,  5.4816e-02,  8.2440e-03, -4.6532e-02, -5.3978e-03,\n",
      "        -1.0119e-02,  1.9339e-02, -1.7922e-02, -2.8403e-03,  2.6848e-02,\n",
      "        -1.7417e-02,  1.3872e-02, -1.2178e-02, -1.3841e-02,  2.0613e-02,\n",
      "         2.0352e-02, -1.6787e-02, -1.5077e-02,  1.6743e-02,  1.2485e-02,\n",
      "        -2.6010e-02,  3.3249e-04, -5.0548e-03, -1.1064e-02,  1.6472e-02,\n",
      "         2.5520e-02, -1.6916e-03,  1.5031e-02, -1.6129e-02,  1.0348e-02,\n",
      "        -1.1234e-04, -3.8950e-02, -1.2720e-02, -1.8601e-03,  2.6810e-02,\n",
      "        -5.4161e-02,  3.9847e-03,  1.2088e-02,  2.6704e-02,  5.4112e-03,\n",
      "        -2.5344e-02,  5.5830e-03,  1.3830e-02,  7.1845e-03, -4.3604e-02,\n",
      "        -9.9835e-03, -4.4759e-03,  5.3945e-02,  1.4994e-03, -1.6534e-03,\n",
      "         5.2502e-04,  6.4354e-03, -1.6792e-02,  1.3424e-02, -9.6201e-03,\n",
      "        -1.3059e-04,  2.7632e-03, -1.9090e-02,  8.6977e-03,  9.5628e-03,\n",
      "        -2.2711e-02,  1.4177e-02, -3.0723e-02, -4.2081e-03, -1.2733e-02,\n",
      "         1.6013e-02,  1.7718e-02,  3.1935e-02,  7.6698e-03,  2.7986e-03,\n",
      "        -1.2239e-02,  1.2794e-02, -2.4807e-02,  8.2252e-03,  1.1988e-02,\n",
      "        -1.0991e-02, -6.4865e-03,  2.2967e-02,  1.0058e-02, -3.8354e-02,\n",
      "         1.2320e-02,  3.1962e-04,  6.2517e-03, -2.5813e-03,  2.6285e-02,\n",
      "         5.2423e-04, -1.5589e-02, -3.1902e-03, -7.2866e-03, -1.9327e-02,\n",
      "         1.7065e-02,  8.2033e-05,  5.3294e-03, -6.6873e-03, -2.8476e-03,\n",
      "        -1.4814e-02, -1.1373e-02, -7.3048e-03,  2.5512e-03,  1.3609e-02,\n",
      "        -3.4814e-02,  5.3507e-03,  6.9792e-03,  4.7845e-02,  1.1754e-02,\n",
      "        -1.3530e-02,  2.4771e-02,  4.6794e-02, -1.6206e-02, -4.4004e-02,\n",
      "         2.4754e-02, -8.5980e-03, -2.8718e-02,  8.1512e-03, -3.6138e-02,\n",
      "         2.9566e-02,  2.6253e-03, -2.4187e-03,  2.2305e-03, -2.5069e-02,\n",
      "         9.4491e-03, -2.5931e-02, -1.8893e-02,  1.0287e-02,  9.6928e-03,\n",
      "         4.2315e-02,  2.4783e-02,  7.1591e-03, -2.2227e-02, -2.1298e-02,\n",
      "        -2.5999e-02, -2.4673e-02, -9.1982e-03,  2.2357e-02, -1.3406e-02,\n",
      "         4.3042e-03, -2.4452e-02, -3.4168e-02, -2.8615e-02,  7.3774e-03,\n",
      "         2.8233e-02, -2.9364e-02,  3.4266e-02,  1.8980e-02, -1.3314e-02,\n",
      "         3.8320e-02, -5.0456e-02,  4.8403e-03,  1.2029e-02, -5.5905e-03,\n",
      "        -3.7340e-02,  6.1789e-03,  3.0815e-02,  4.1451e-03, -2.0121e-02,\n",
      "         8.7140e-03, -3.0568e-02, -4.3231e-02, -3.2499e-02, -1.8183e-02,\n",
      "        -1.1391e-02, -5.3851e-04,  7.2126e-03, -4.1586e-03,  3.4217e-02,\n",
      "         9.3953e-03,  5.0592e-03,  1.0638e-02, -4.5494e-02, -2.4568e-02,\n",
      "         9.0468e-03, -1.8717e-02,  4.5857e-03,  2.4281e-02, -2.6659e-02,\n",
      "        -3.8488e-02, -1.2423e-02,  2.3831e-02,  9.6451e-03, -1.6959e-03,\n",
      "        -2.0085e-02,  3.5268e-03, -5.7089e-03, -2.1944e-02,  1.4222e-02,\n",
      "         1.9463e-02,  3.8220e-03,  4.7485e-02,  4.2030e-03,  1.9575e-03,\n",
      "         9.8413e-03, -2.4814e-02, -2.9705e-02,  3.9811e-03, -1.4540e-03,\n",
      "         7.6712e-03,  4.9133e-02,  3.8828e-02,  8.4557e-03,  4.4117e-03,\n",
      "        -6.7543e-03,  1.1378e-02,  1.3988e-02, -1.1838e-02,  1.2081e-02,\n",
      "        -2.2100e-02, -5.3463e-04, -2.2322e-03, -4.4197e-03,  7.1645e-03,\n",
      "        -2.9384e-03, -1.3646e-02, -1.0035e-02,  2.2071e-02,  3.6764e-03,\n",
      "         3.5271e-03, -3.1749e-02,  2.7857e-02, -3.5243e-02,  2.2872e-02,\n",
      "        -1.5448e-02,  4.9467e-03, -2.0918e-03, -2.0330e-02,  1.5629e-02,\n",
      "        -1.9451e-02, -1.1141e-02,  6.2666e-03,  1.9953e-02, -1.5948e-02,\n",
      "         8.6057e-03, -9.6107e-03,  5.6842e-03, -2.3035e-02,  8.8647e-03,\n",
      "        -4.3369e-03, -3.5819e-02,  3.2054e-02,  1.8259e-02, -3.3333e-02,\n",
      "         1.0566e-02, -5.7521e-03,  7.6798e-03,  6.5608e-03, -1.2901e-02,\n",
      "        -1.8717e-02,  4.0461e-02,  1.6136e-02, -2.2549e-02,  4.1405e-02,\n",
      "         1.3884e-02, -1.5663e-02,  6.2712e-03,  8.5961e-03,  6.1051e-02,\n",
      "         3.7300e-02, -1.5643e-02, -1.3774e-02, -3.5622e-03, -1.4642e-03,\n",
      "         1.3799e-03, -3.0519e-02,  6.3878e-03,  3.6667e-02, -1.6874e-02,\n",
      "         6.1781e-04,  1.2824e-04,  1.6335e-02,  1.0012e-02,  1.9706e-02,\n",
      "         2.8520e-02, -1.9077e-02, -1.6424e-02], grad_fn=<SliceBackward>)\n",
      "tensor([0., 0., 0., 0., 0., 0., 0., 0., 0., 0., 0., 0., 0., 0., 0., 0., 0., 0., 0., 0., 0., 0., 0., 0.,\n",
      "        0., 0., 0., 0., 0., 0., 0., 0., 0., 0., 0., 0., 0., 0., 0., 0., 0., 0., 0., 0., 0., 0., 0., 0.,\n",
      "        0., 0., 0., 0., 0., 0., 0., 0., 0., 0., 0., 0., 0., 0., 0., 0., 0., 0., 0., 0., 0., 0., 0., 0.,\n",
      "        0., 0., 0., 0., 0., 0., 0., 0., 0., 0., 0., 0., 0., 0., 0., 0., 0., 0., 0., 0., 0., 0., 0., 0.,\n",
      "        0., 0., 0., 0., 0., 0., 0., 0., 0., 0., 0., 0., 0., 0., 0., 0., 0., 0., 0., 0., 0., 0., 0., 0.,\n",
      "        0., 0., 0., 0., 0., 0., 0., 0., 0., 0., 0., 0., 0., 0., 0., 0., 0., 0., 0., 0., 0., 0., 0., 0.,\n",
      "        0., 0., 0., 0., 0., 0., 0., 0., 0., 0., 0., 0., 0., 0., 0., 0., 0., 0., 0., 0., 0., 0., 0., 0.,\n",
      "        0., 0., 0., 0., 0., 0., 0., 0., 0., 0., 0., 0., 0., 0., 0., 0., 0., 0., 0., 0., 0., 0., 0., 0.,\n",
      "        0., 0., 0., 0., 0., 0., 0., 0., 0., 0., 0., 0., 0., 0., 0., 0., 0., 0., 0., 0., 0., 0., 0., 0.,\n",
      "        0., 0., 0., 0., 0., 0., 0., 0., 0., 0., 0., 0., 0., 0., 0., 0., 0., 0., 0., 0., 0., 0., 0., 0.,\n",
      "        0., 0., 0., 0., 0., 0., 0., 0., 0., 0., 0., 0., 0., 0., 0., 0., 0., 0., 0., 0., 0., 0., 0., 0.,\n",
      "        0., 0., 0., 0., 0., 0., 0., 0., 0., 0., 0., 0., 0., 0., 0., 0., 0., 0., 0., 0., 0., 0., 0., 0.,\n",
      "        0., 0., 0., 0., 0., 0., 0., 0., 0., 0., 0., 0., 0., 0., 0., 0., 0., 0., 0., 0., 0., 0., 0., 0.,\n",
      "        0., 0., 0., 0., 0., 0., 0., 0., 0., 0., 0., 0., 0., 0., 0., 0., 0., 0., 0., 0., 0., 0., 0., 0.,\n",
      "        0., 0., 0., 0., 0., 0., 0., 0., 0., 0., 0., 0., 0., 0., 0., 0., 0., 0., 0., 0., 0., 0., 0., 0.,\n",
      "        0., 0., 0., 0., 0., 0., 0., 0., 0., 0., 0., 0., 0., 0., 0., 0., 0., 0., 0., 0., 0., 0., 0., 0.,\n",
      "        0., 0., 0., 0., 0., 0., 0., 0., 0., 0., 0., 0., 0., 0., 0., 0., 0., 0., 0., 0., 0., 0., 0., 0.,\n",
      "        0., 0., 0., 0., 0., 0., 0., 0., 0., 0., 0., 0., 0., 0., 0., 0., 0., 0., 0., 0., 0., 0., 0., 0.,\n",
      "        0., 0., 0., 0., 0., 0., 0., 0., 0., 0., 0., 0., 0., 0., 0., 0., 0., 0., 0., 0., 0., 0., 0., 0.,\n",
      "        0., 0., 0., 0., 0., 0., 0., 0., 0., 0., 0., 0., 0., 0., 0., 0., 0., 0., 0., 0., 0., 0., 0., 0.,\n",
      "        0., 0., 0., 0., 0., 0., 0., 0., 0., 0., 0., 0., 0., 0., 0., 0., 0., 0., 0., 0., 0., 0., 0., 0.,\n",
      "        0., 0., 0., 0., 0., 0., 0., 0., 0., 0., 0., 0., 0., 0., 0., 0., 0., 0., 0., 0., 0., 0., 0., 0.,\n",
      "        0., 0., 0., 0., 0., 0., 0., 0., 0., 0., 0., 0., 0., 0., 0., 0., 0., 0., 0., 0., 0., 0., 0., 0.,\n",
      "        0., 0., 0., 0., 0., 0., 0., 0., 0., 0., 0., 0., 0., 0., 0., 0., 0., 0., 0., 0., 0., 0., 0., 0.,\n",
      "        0., 0., 0., 0., 0., 0., 0., 0., 0., 0., 0., 0., 0., 0., 0., 0., 0., 0., 0., 0., 0., 0., 0., 0.,\n",
      "        0., 0., 0., 0., 0., 0., 0., 0., 0., 0., 0., 0., 0., 0., 0., 0., 0., 0., 0., 0., 0., 0., 0., 0.,\n",
      "        0., 0., 0., 0., 0., 0., 0., 0., 0., 0., 0., 0., 0., 0., 0., 0., 0., 0., 0., 0., 0., 0., 0., 0.,\n",
      "        0., 0., 0., 0., 0., 0., 0., 0., 0., 0., 0., 0., 0., 0., 0., 0., 0., 0., 0., 0., 0., 0., 0., 0.,\n",
      "        0., 0., 0., 0., 0., 0., 0., 0., 0., 0., 0., 0., 0., 0., 0., 0., 0., 0., 0., 0., 0., 0., 0., 0.,\n",
      "        0., 0., 0., 0., 0., 0., 0., 0., 0., 0., 0., 0., 0., 0., 0., 0., 0., 0., 0., 0., 0., 0., 0., 0.,\n",
      "        0., 0., 0., 0., 0., 0., 0., 0., 0., 0., 0., 0., 0., 0., 0., 0., 0., 0., 0., 0., 0., 0., 0., 0.,\n",
      "        0., 0., 0., 0., 0., 0., 0., 0., 0., 0., 0., 0., 0., 0., 0., 0., 0., 0., 0., 0., 0., 0., 0., 0.],\n",
      "       grad_fn=<SliceBackward>)\n"
     ]
    }
   ],
   "source": [
    "import torch\n",
    "from transformers import BertTokenizer, BertModel\n",
    "\n",
    "tokenizer = BertTokenizer.from_pretrained(\"bert-base-cased\")\n",
    "model = BertModel.from_pretrained(\"bert-base-cased\")\n",
    "\n",
    "print(len(tokenizer))  # 28996\n",
    "tokenizer.add_tokens([\"NEW_TOKEN\"])\n",
    "print(len(tokenizer))  # 28997\n",
    "\n",
    "model.resize_token_embeddings(len(tokenizer)) \n",
    "# The new vector is added at the end of the embedding matrix\n",
    "\n",
    "print(model.embeddings.word_embeddings.weight[-1, :])\n",
    "# Randomly generated matrix\n",
    "\n",
    "model.embeddings.word_embeddings.weight[-1, :] = torch.zeros([model.config.hidden_size])\n",
    "\n",
    "print(model.embeddings.word_embeddings.weight[-1, :])\n",
    "# outputs a vector of zeros of shape [768]"
   ]
  },
  {
   "cell_type": "code",
   "execution_count": 119,
   "metadata": {},
   "outputs": [],
   "source": [
    "kor_tokenizer = BertTokenizer.from_pretrained('monologg/kobert')"
   ]
  },
  {
   "cell_type": "code",
   "execution_count": 166,
   "metadata": {},
   "outputs": [
    {
     "data": {
      "text/plain": [
       "36615"
      ]
     },
     "execution_count": 166,
     "metadata": {},
     "output_type": "execute_result"
    }
   ],
   "source": [
    "len(tokenizer.vocab)"
   ]
  },
  {
   "cell_type": "code",
   "execution_count": 94,
   "metadata": {},
   "outputs": [
    {
     "data": {
      "text/plain": [
       "8002"
      ]
     },
     "execution_count": 94,
     "metadata": {},
     "output_type": "execute_result"
    }
   ],
   "source": [
    "len(kor_tokenizer)"
   ]
  },
  {
   "cell_type": "code",
   "execution_count": 120,
   "metadata": {},
   "outputs": [],
   "source": [
    "kor_words = list(kor_tokenizer.vocab.keys())"
   ]
  },
  {
   "cell_type": "code",
   "execution_count": 88,
   "metadata": {
    "scrolled": true
   },
   "outputs": [
    {
     "data": {
      "text/plain": [
       "1586"
      ]
     },
     "execution_count": 88,
     "metadata": {},
     "output_type": "execute_result"
    }
   ],
   "source": [
    "tokenizer.vocab['air']"
   ]
  },
  {
   "cell_type": "code",
   "execution_count": 167,
   "metadata": {},
   "outputs": [],
   "source": [
    "for kw in kor_words:\n",
    "    if kw not in tokenizer.vocab:\n",
    "        if '▁' in kw:\n",
    "            kw = kw.replace('▁', '#')\n",
    "        tokenizer.add_tokens([kw])\n",
    "        tokenizer.vocab[kw] = len(tokenizer.vocab)\n",
    "# model.resize_token_embeddings(len(tokenizer)) \n"
   ]
  },
  {
   "cell_type": "code",
   "execution_count": 168,
   "metadata": {},
   "outputs": [
    {
     "data": {
      "text/plain": [
       "36615"
      ]
     },
     "execution_count": 168,
     "metadata": {},
     "output_type": "execute_result"
    }
   ],
   "source": [
    "len(tokenizer.vocab)"
   ]
  },
  {
   "cell_type": "code",
   "execution_count": null,
   "metadata": {},
   "outputs": [],
   "source": []
  },
  {
   "cell_type": "code",
   "execution_count": 156,
   "metadata": {},
   "outputs": [
    {
     "data": {
      "text/plain": [
       "['사', '랑', '할', '때', '마다']"
      ]
     },
     "execution_count": 156,
     "metadata": {},
     "output_type": "execute_result"
    }
   ],
   "source": [
    "tokenizer.tokenize('사랑할 때마다')"
   ]
  },
  {
   "cell_type": "code",
   "execution_count": 123,
   "metadata": {},
   "outputs": [
    {
     "data": {
      "text/plain": [
       "('./vocab.txt', './special_tokens_map.json', './added_tokens.json')"
      ]
     },
     "execution_count": 123,
     "metadata": {},
     "output_type": "execute_result"
    }
   ],
   "source": [
    "tokenizer.save_pretrained('.')"
   ]
  },
  {
   "cell_type": "code",
   "execution_count": 125,
   "metadata": {},
   "outputs": [
    {
     "data": {
      "text/plain": [
       "28996"
      ]
     },
     "execution_count": 125,
     "metadata": {},
     "output_type": "execute_result"
    }
   ],
   "source": [
    "len(tokenizer.vocab)"
   ]
  },
  {
   "cell_type": "code",
   "execution_count": 126,
   "metadata": {},
   "outputs": [
    {
     "ename": "TypeError",
     "evalue": "object of type 'BertModel' has no len()",
     "output_type": "error",
     "traceback": [
      "\u001b[0;31m---------------------------------------------------------------------------\u001b[0m",
      "\u001b[0;31mTypeError\u001b[0m                                 Traceback (most recent call last)",
      "\u001b[0;32m<ipython-input-126-bafc21b277ab>\u001b[0m in \u001b[0;36m<module>\u001b[0;34m\u001b[0m\n\u001b[0;32m----> 1\u001b[0;31m \u001b[0mlen\u001b[0m\u001b[0;34m(\u001b[0m\u001b[0mmodel\u001b[0m\u001b[0;34m)\u001b[0m\u001b[0;34m\u001b[0m\u001b[0;34m\u001b[0m\u001b[0m\n\u001b[0m",
      "\u001b[0;31mTypeError\u001b[0m: object of type 'BertModel' has no len()"
     ]
    }
   ],
   "source": []
  },
  {
   "cell_type": "code",
   "execution_count": null,
   "metadata": {},
   "outputs": [],
   "source": []
  }
 ],
 "metadata": {
  "kernelspec": {
   "display_name": "Python 3",
   "language": "python",
   "name": "python3"
  },
  "language_info": {
   "codemirror_mode": {
    "name": "ipython",
    "version": 3
   },
   "file_extension": ".py",
   "mimetype": "text/x-python",
   "name": "python",
   "nbconvert_exporter": "python",
   "pygments_lexer": "ipython3",
   "version": "3.6.9"
  }
 },
 "nbformat": 4,
 "nbformat_minor": 2
}
