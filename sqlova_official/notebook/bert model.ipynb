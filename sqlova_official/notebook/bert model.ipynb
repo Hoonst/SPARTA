{
 "cells": [
  {
   "cell_type": "code",
   "execution_count": 16,
   "id": "87064ab4",
   "metadata": {
    "ExecuteTime": {
     "end_time": "2021-04-15T13:46:58.841685Z",
     "start_time": "2021-04-15T13:46:58.611372Z"
    }
   },
   "outputs": [],
   "source": [
    "%reload_ext autoreload\n",
    "%autoreload 2\n",
    "\n",
    "from transformers import BertConfig, BertModel\n",
    "import torch\n",
    "\n",
    "import sys \n",
    "sys.path.append('../')\n",
    "\n",
    "from train import get_data, get_opt, construct_hyper_param\n",
    "from sqlova.utils.utils_wikisql import get_models, get_fields, get_g, get_g_wvi_corenlp, get_wemb_bert, \\\n",
    "                                       get_g_wvi_bert_from_g_wvi_corenlp\n",
    "import argparse"
   ]
  },
  {
   "cell_type": "code",
   "execution_count": 2,
   "id": "65bb2abd",
   "metadata": {},
   "outputs": [],
   "source": [
    "device = 'cuda:1' if torch.cuda.is_available() else 'cpu'"
   ]
  },
  {
   "cell_type": "code",
   "execution_count": 3,
   "id": "3c8a564f",
   "metadata": {
    "scrolled": true
   },
   "outputs": [
    {
     "name": "stdout",
     "output_type": "stream",
     "text": [
      "BERT-type: uncased_L-12_H-768_A-12\n"
     ]
    }
   ],
   "source": [
    "parser = argparse.ArgumentParser()\n",
    "args = construct_hyper_param(parser, notebook=True)\n",
    "args.bS = 8"
   ]
  },
  {
   "cell_type": "code",
   "execution_count": 19,
   "id": "a46e4bf2",
   "metadata": {},
   "outputs": [],
   "source": [
    "path_h = '../data/sqlova_data' \n",
    "path_wikisql = '../data/sqlova_data'  \n",
    "BERT_PT_PATH = path_wikisql"
   ]
  },
  {
   "cell_type": "markdown",
   "id": "1120cda2",
   "metadata": {},
   "source": [
    "# Load Data"
   ]
  },
  {
   "cell_type": "code",
   "execution_count": 20,
   "id": "8ee0612d",
   "metadata": {},
   "outputs": [],
   "source": [
    "train_data, train_table, dev_data, dev_table, train_loader, dev_loader = get_data(path_wikisql, args)"
   ]
  },
  {
   "cell_type": "markdown",
   "id": "20c5025a",
   "metadata": {},
   "source": [
    "# Load Model"
   ]
  },
  {
   "cell_type": "code",
   "execution_count": 6,
   "id": "8628435b",
   "metadata": {},
   "outputs": [],
   "source": [
    "path_model_bert = '../model_bert_best.pt'\n",
    "path_model = '../model_best.pt'"
   ]
  },
  {
   "cell_type": "code",
   "execution_count": 7,
   "id": "3468001d",
   "metadata": {},
   "outputs": [
    {
     "name": "stdout",
     "output_type": "stream",
     "text": [
      "Batch_size = 8\n",
      "BERT parameters:\n",
      "learning rate: 1e-05\n",
      "Fine-tune BERT: False\n",
      "Seq-to-SQL: the number of final BERT layers to be used: 2\n",
      "Seq-to-SQL: the size of hidden dimension = 100\n",
      "Seq-to-SQL: LSTM encoding layer size = 2\n",
      "Seq-to-SQL: dropout rate = 0.3\n",
      "Seq-to-SQL: learning rate = 0.001\n"
     ]
    }
   ],
   "source": [
    "# To start from the pre-trained models, un-comment following lines.\n",
    "\n",
    "model, model_bert, tokenizer, bert_config = get_models(args, BERT_PT_PATH, trained=True,\n",
    "                                                       path_model_bert=path_model_bert, path_model=path_model,\n",
    "                                                       device=device)"
   ]
  },
  {
   "cell_type": "code",
   "execution_count": 8,
   "id": "584390bd",
   "metadata": {},
   "outputs": [],
   "source": [
    "opt, opt_bert = get_opt(args, model, model_bert, args.fine_tune)"
   ]
  },
  {
   "cell_type": "markdown",
   "id": "83b516bc",
   "metadata": {},
   "source": [
    "# Train example"
   ]
  },
  {
   "cell_type": "code",
   "execution_count": 21,
   "id": "03091bb3",
   "metadata": {},
   "outputs": [],
   "source": [
    "t = next(iter(train_loader))"
   ]
  },
  {
   "cell_type": "code",
   "execution_count": 10,
   "id": "66170c55",
   "metadata": {},
   "outputs": [],
   "source": [
    "nlu, nlu_t, sql_i, sql_q, sql_t, tb, hs_t, hds = get_fields(t, train_table, no_hs_t=True, no_sql_t=True)"
   ]
  },
  {
   "cell_type": "code",
   "execution_count": 22,
   "id": "c02d11cc",
   "metadata": {},
   "outputs": [],
   "source": [
    "g_sc, g_sa, g_wn, g_wc, g_wo, g_wv = get_g(sql_i)\n",
    "g_wvi_corenlp = get_g_wvi_corenlp(t)"
   ]
  },
  {
   "cell_type": "code",
   "execution_count": 12,
   "id": "89b842e6",
   "metadata": {},
   "outputs": [],
   "source": [
    "wemb_n, wemb_h, l_n, l_hpu, l_hs, \\\n",
    "nlu_tt, t_to_tt_idx, tt_to_t_idx  = get_wemb_bert(bert_config, \n",
    "                                                  model_bert, \n",
    "                                                  tokenizer, \n",
    "                                                  nlu_t, \n",
    "                                                  hds, \n",
    "                                                  args.max_seq_length,\n",
    "                                                  num_out_layers_n=args.num_target_layers, \n",
    "                                                  num_out_layers_h=args.num_target_layers, \n",
    "                                                  device=device)"
   ]
  },
  {
   "cell_type": "code",
   "execution_count": 18,
   "id": "895ade4c",
   "metadata": {},
   "outputs": [
    {
     "data": {
      "text/plain": [
       "[[[6, 7], [13, 15]],\n",
       " [[7, 8]],\n",
       " [[2, 2], [6, 6]],\n",
       " None,\n",
       " None,\n",
       " [[0, 0], [7, 8], [4, 4]],\n",
       " [[0, 1]],\n",
       " [[2, 2]]]"
      ]
     },
     "execution_count": 18,
     "metadata": {},
     "output_type": "execute_result"
    }
   ],
   "source": [
    "g_wvi_corenlp"
   ]
  },
  {
   "cell_type": "code",
   "execution_count": 23,
   "id": "22cb4765",
   "metadata": {},
   "outputs": [
    {
     "data": {
      "text/plain": [
       "[[[10, 12]],\n",
       " [],\n",
       " [[5, 11]],\n",
       " [[6, 8]],\n",
       " [[5, 6]],\n",
       " [[11, 12]],\n",
       " [[9, 10]],\n",
       " [[5, 5]]]"
      ]
     },
     "execution_count": 23,
     "metadata": {},
     "output_type": "execute_result"
    }
   ],
   "source": [
    "g_wvi_corenlp"
   ]
  },
  {
   "cell_type": "code",
   "execution_count": 17,
   "id": "c128d53c",
   "metadata": {},
   "outputs": [
    {
     "ename": "TypeError",
     "evalue": "'NoneType' object is not iterable",
     "output_type": "error",
     "traceback": [
      "\u001b[0;31m---------------------------------------------------------------------------\u001b[0m",
      "\u001b[0;31mTypeError\u001b[0m                                 Traceback (most recent call last)",
      "\u001b[0;32m<ipython-input-17-01d0f195c761>\u001b[0m in \u001b[0;36m<module>\u001b[0;34m\u001b[0m\n\u001b[0;32m----> 1\u001b[0;31m \u001b[0mg_wvi\u001b[0m \u001b[0;34m=\u001b[0m \u001b[0mget_g_wvi_bert_from_g_wvi_corenlp\u001b[0m\u001b[0;34m(\u001b[0m\u001b[0mt_to_tt_idx\u001b[0m\u001b[0;34m,\u001b[0m \u001b[0mg_wvi_corenlp\u001b[0m\u001b[0;34m)\u001b[0m\u001b[0;34m\u001b[0m\u001b[0;34m\u001b[0m\u001b[0m\n\u001b[0m",
      "\u001b[0;32m/data/SPARTA/sqlova/sqlova/utils/utils_wikisql.py\u001b[0m in \u001b[0;36mget_g_wvi_bert_from_g_wvi_corenlp\u001b[0;34m(wh_to_wp_index, g_wvi_corenlp)\u001b[0m\n\u001b[1;32m   1346\u001b[0m         \u001b[0mwh_to_wp_index1\u001b[0m \u001b[0;34m=\u001b[0m \u001b[0mwh_to_wp_index\u001b[0m\u001b[0;34m[\u001b[0m\u001b[0mb\u001b[0m\u001b[0;34m]\u001b[0m\u001b[0;34m\u001b[0m\u001b[0;34m\u001b[0m\u001b[0m\n\u001b[1;32m   1347\u001b[0m         \u001b[0mg_wvi1\u001b[0m \u001b[0;34m=\u001b[0m \u001b[0;34m[\u001b[0m\u001b[0;34m]\u001b[0m\u001b[0;34m\u001b[0m\u001b[0;34m\u001b[0m\u001b[0m\n\u001b[0;32m-> 1348\u001b[0;31m         \u001b[0;32mfor\u001b[0m \u001b[0mi_wn\u001b[0m\u001b[0;34m,\u001b[0m \u001b[0mg_wvi_corenlp11\u001b[0m \u001b[0;32min\u001b[0m \u001b[0menumerate\u001b[0m\u001b[0;34m(\u001b[0m\u001b[0mg_wvi_corenlp1\u001b[0m\u001b[0;34m)\u001b[0m\u001b[0;34m:\u001b[0m\u001b[0;34m\u001b[0m\u001b[0;34m\u001b[0m\u001b[0m\n\u001b[0m\u001b[1;32m   1349\u001b[0m \u001b[0;34m\u001b[0m\u001b[0m\n\u001b[1;32m   1350\u001b[0m             \u001b[0mst_idx\u001b[0m\u001b[0;34m,\u001b[0m \u001b[0med_idx\u001b[0m \u001b[0;34m=\u001b[0m \u001b[0mg_wvi_corenlp11\u001b[0m\u001b[0;34m\u001b[0m\u001b[0;34m\u001b[0m\u001b[0m\n",
      "\u001b[0;31mTypeError\u001b[0m: 'NoneType' object is not iterable"
     ]
    }
   ],
   "source": [
    "g_wvi = get_g_wvi_bert_from_g_wvi_corenlp(t_to_tt_idx, g_wvi_corenlp)"
   ]
  },
  {
   "cell_type": "code",
   "execution_count": null,
   "id": "f84f95b6",
   "metadata": {},
   "outputs": [],
   "source": []
  },
  {
   "cell_type": "code",
   "execution_count": 13,
   "id": "4d748dc0",
   "metadata": {},
   "outputs": [
    {
     "data": {
      "text/plain": [
       "torch.Size([8, 32, 1536])"
      ]
     },
     "execution_count": 13,
     "metadata": {},
     "output_type": "execute_result"
    }
   ],
   "source": [
    "wemb_n.shape"
   ]
  },
  {
   "cell_type": "code",
   "execution_count": null,
   "id": "da051a96",
   "metadata": {},
   "outputs": [],
   "source": []
  }
 ],
 "metadata": {
  "hide_input": false,
  "kernelspec": {
   "display_name": "Python 3",
   "language": "python",
   "name": "python3"
  },
  "language_info": {
   "codemirror_mode": {
    "name": "ipython",
    "version": 3
   },
   "file_extension": ".py",
   "mimetype": "text/x-python",
   "name": "python",
   "nbconvert_exporter": "python",
   "pygments_lexer": "ipython3",
   "version": "3.8.3"
  },
  "toc": {
   "base_numbering": 1,
   "nav_menu": {},
   "number_sections": true,
   "sideBar": true,
   "skip_h1_title": false,
   "title_cell": "Table of Contents",
   "title_sidebar": "Contents",
   "toc_cell": false,
   "toc_position": {},
   "toc_section_display": true,
   "toc_window_display": false
  }
 },
 "nbformat": 4,
 "nbformat_minor": 5
}
