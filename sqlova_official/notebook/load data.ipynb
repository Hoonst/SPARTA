{
 "cells": [
  {
   "cell_type": "code",
   "execution_count": 5,
   "id": "f5c8ddde",
   "metadata": {
    "ExecuteTime": {
     "end_time": "2021-04-15T14:07:06.497079Z",
     "start_time": "2021-04-15T14:07:05.927162Z"
    }
   },
   "outputs": [],
   "source": [
    "%reload_ext autoreload\n",
    "%autoreload 2\n",
    "\n",
    "import sys\n",
    "sys.path.append('../')\n",
    "\n",
    "from sqlova.utils.utils_wikisql import load_wikisql_data\n",
    "from konlpy.tag import Mecab\n",
    "from pprint import pprint"
   ]
  },
  {
   "cell_type": "code",
   "execution_count": 6,
   "id": "b44ed8c3",
   "metadata": {
    "ExecuteTime": {
     "end_time": "2021-04-15T14:07:07.570921Z",
     "start_time": "2021-04-15T14:07:07.534821Z"
    }
   },
   "outputs": [],
   "source": [
    "path_wikisql = '../data/multi_wikisql'\n",
    "name = 'train'\n",
    "\n",
    "data, tables = load_wikisql_data(path_wikisql=path_wikisql, mode=name, no_tok=True, no_hs_tok=True)"
   ]
  },
  {
   "cell_type": "code",
   "execution_count": 7,
   "id": "75d94d9d",
   "metadata": {},
   "outputs": [
    {
     "data": {
      "text/plain": [
       "56355"
      ]
     },
     "execution_count": 7,
     "metadata": {},
     "output_type": "execute_result"
    }
   ],
   "source": [
    "len(data)"
   ]
  },
  {
   "cell_type": "code",
   "execution_count": 12,
   "id": "e622e65b",
   "metadata": {},
   "outputs": [
    {
     "name": "stdout",
     "output_type": "stream",
     "text": [
      "{'phase': 1,\n",
      " 'question': '1998-200 1 을 플레이 한 Player 는 몇 번입니까?',\n",
      " 'sql': {'agg': 2, 'conds': [[4, 0, '1998-2001']], 'sel': 1},\n",
      " 'table_id': '1-10015132-21'}\n",
      "['1998', '-', '200', '1', '을', '플레이', '한', 'Player', '는', '몇', '번', '입니까', '?']\n",
      "['1998', '-', '2001']\n"
     ]
    }
   ],
   "source": [
    "idx = 23\n",
    "mecab = Mecab() \n",
    "pprint(data[idx])\n",
    "question_token = mecab.morphs(str(data[idx]['question']))\n",
    "print(question_token)\n",
    "wv_token = mecab.morphs(str(data[idx]['sql']['conds'][0][2]))\n",
    "print(wv_token)"
   ]
  },
  {
   "cell_type": "code",
   "execution_count": null,
   "id": "723bb3de",
   "metadata": {},
   "outputs": [],
   "source": []
  }
 ],
 "metadata": {
  "hide_input": false,
  "kernelspec": {
   "display_name": "Python 3",
   "language": "python",
   "name": "python3"
  },
  "language_info": {
   "codemirror_mode": {
    "name": "ipython",
    "version": 3
   },
   "file_extension": ".py",
   "mimetype": "text/x-python",
   "name": "python",
   "nbconvert_exporter": "python",
   "pygments_lexer": "ipython3",
   "version": "3.8.3"
  },
  "toc": {
   "base_numbering": 1,
   "nav_menu": {},
   "number_sections": true,
   "sideBar": true,
   "skip_h1_title": false,
   "title_cell": "Table of Contents",
   "title_sidebar": "Contents",
   "toc_cell": false,
   "toc_position": {},
   "toc_section_display": true,
   "toc_window_display": false
  }
 },
 "nbformat": 4,
 "nbformat_minor": 5
}
