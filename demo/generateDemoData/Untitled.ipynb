{
 "cells": [
  {
   "cell_type": "code",
   "execution_count": 6,
   "id": "overhead-emperor",
   "metadata": {},
   "outputs": [],
   "source": [
    "with open('../generateDemoData/test.jsonl', 'r') as json_file:\n",
    "    json_list = list(json_file)"
   ]
  },
  {
   "cell_type": "code",
   "execution_count": 7,
   "id": "contemporary-failure",
   "metadata": {},
   "outputs": [
    {
     "output_type": "execute_result",
     "data": {
      "text/plain": [
       "['{\"phase\":1,\"question\":\"2021/04/22 13 에서 2021/04/22 14 사이에 3LINEID의 평균 LOADTIME을 알려줘,\"sql\":{\"conds\":[[4,1,\"2021/04/22 13\",4,2,\"2021/04/22 14\"]],\"sel\":13,\"agg\":5},\"table_id\":\"1-11111\"}\\n',\n",
       " '{\"phase\":1,\"question\":2021/04/22 12 에서 2021/04/22 13 사이에 1 LINEID의 평균 UNLOADTIME을 알려줘,\"sql\":{\"conds\":[[4,1,\"2021/04/22 12\",4,2,\"2021/04/22 13\"]],\"sel\":12,\"agg\":5},\"table_id\":\"1-11111\"}\\n',\n",
       " '{\"phase\":1,\"question\":\"2021/04/22 10 에서 2021/04/22 11 사이에 5 LINEID의 평균 SCHEDULED QUEUE시간을 알려줘,\"sql\":{\"conds\":[[4,1,\"2021/04/22 10\",4,2,\"2021/04/22 11\"]],\"sel\":11,\"agg\":5},\"table_id\":\"1-11111\"}\\n',\n",
       " '{\"phase\":1,\"question\":2021/04/22 15 에서 2021/04/22 16 사이에 378 ROBOT_ID가 반송한 TODEVICE를 알려줘,\"sql\":{\"conds\":[[4,1,\"2021/04/22 15\",4,2,\"2021/04/22 16\",1,0,\"378\"]],\"sel\":3,\"agg\":0},\"table_id\":\"1-11111\"}\\n',\n",
       " '{\"phase\":1,\"question\":2021/04/22 15 에서 2021/04/22 16 사이에 378 ROBOT_ID가 반송한 FROMDEVICE를 알려줘,\"sql\":{\"conds\":[[4,1,\"2021/04/22 15\",4,2,\"2021/04/22 16\",1,0,\"378\"]],\"sel\":2,\"agg\":0},\"table_id\":\"1-11111\"}\\n',\n",
       " '{\"phase\":1,\"question\":2021/04/22 15 에서 2021/04/22 16 사이에 378 ROBOT_ID의 SCHEDULE_QUERE 값을 알려줘,\"sql\":{\"conds\":[[4,1,\"2021/04/22 15\",4,2,\"2021/04/22 16\",1,0,\"378\"]],\"sel\":11,\"agg\":0},\"table_id\":\"1-11111\"}\\n',\n",
       " '{\"phase\":1,\"question\":2021/04/22 15 에서 2021/04/22 16 사이에 378 ROBOT_ID의 UNLOADTIME을 알려줘,\"sql\":{\"conds\":[[4,1,\"2021/04/22 15\",4,2,\"2021/04/22 16\",1,0,\"378\"]],\"sel\":12,\"agg\":0},\"table_id\":\"1-11111\"}\\n',\n",
       " '{\"phase\":1,\"question\":2021/04/22 15 에서 2021/04/22 16 사이에 027 ROBOT_ID가 반송한 TODEVICE를 알려줘,\"sql\":{\"conds\":[[4,1,\"2021/04/22 15\",4,2,\"2021/04/22 16\",1,0,\"027\"]],\"sel\":3,\"agg\":0},\"table_id\":\"1-11111\"}\\n',\n",
       " '{\"phase\":1,\"question\":2021/04/22 15 에서 2021/04/22 16 사이에 050 ROBOT_ID가 반송한 FROMDEVICE를 알려줘,\"sql\":{\"conds\":[[4,1,\"2021/04/22 15\",4,2,\"2021/04/22 16\",1,0,\"050\"]],\"sel\":2,\"agg\":0},\"table_id\":\"1-11111\"}\\n',\n",
       " '{\"phase\":1,\"question\":2021/04/22 15 에서 2021/04/22 16 사이에 347 ROBOT_ID가 반송한 FROMDEVICE를 알려줘,\"sql\":{\"conds\":[[4,1,\"2021/04/22 15\",4,2,\"2021/04/22 16\",1,0,\"347\"]],\"sel\":2,\"agg\":0},\"table_id\":\"1-11111\"}\\n',\n",
       " '{\"phase\":1,\"question\":2021/04/22에 5 LINEID의 하루 총 TRANSFER_COUNT을 알려줘,\"sql\":{\"conds\":[[4,1,\"2021/04/22\",4,2,\"2021/04/23\",2,0,\"HOURLY\",1,0,\"5\"]],\"sel\":3,\"agg\":4},\"table_id\":\"1-11112\"}\\n',\n",
       " '{\"phase\":1,\"question\":2021/04/22에 4 LINEID의 하루 총 TRANSFER_COUNT을 알려줘,\"sql\":{\"conds\":[[4,1,\"2021/04/22\",4,2,\"2021/04/23\",2,0,\"HOURLY\",1,0,\"4\"]],\"sel\":3,\"agg\":4},\"table_id\":\"1-11112\"}\\n',\n",
       " '{\"phase\":1,\"question\":2021/04/21에 3 LINEID의 하루 총 TRANSFER_COUNT을 알려줘,\"sql\":{\"conds\":[[4,1,\"2021/04/21\",4,2,\"2021/04/22\",2,0,\"HOURLY\",1,0,\"3\"]],\"sel\":3,\"agg\":4},\"table_id\":\"1-11112\"}\\n',\n",
       " '{\"phase\":1,\"question\":2021/04/21에 2 LINEID의 하루 총 TRANSFER_COUNT을 알려줘,\"sql\":{\"conds\":[[4,1,\"2021/04/21\",4,2,\"2021/04/22\",2,0,\"HOURLY\",1,0,\"2\"]],\"sel\":3,\"agg\":4},\"table_id\":\"1-11112\"}\\n',\n",
       " '{\"phase\":1,\"question\":2021/04/21에 1 LINEID의 하루 총 TRANSFER_COUNT을 알려줘,\"sql\":{\"conds\":[[4,1,\"2021/04/21\",4,2,\"2021/04/22\",2,0,\"HOURLY\",1,0,\"1\"]],\"sel\":3,\"agg\":4},\"table_id\":\"1-11112\"}\\n',\n",
       " '{\"phase\":1,\"question\":2021/04/21 하루동안 1 LINEID의 시간별 TRANSFER_COUNT 중 가장 많았던 TRANSFER_COUNT을 알려줘,\"sql\":{\"conds\":[[4,1,\"2021/04/21\",4,2,\"2021/04/22\",2,0,\"HOURLY\",1,0,\"1\"]],\"sel\":3,\"agg\":1},\"table_id\":\"1-11112\"}\\n',\n",
       " '{\"phase\":1,\"question\":2021/04/21 하루동안 3 LINEID의 시간별 TRANSFER_COUNT 중 가장 많았던 TRANSFER_COUNT을 알려줘,\"sql\":{\"conds\":[[4,1,\"2021/04/21\",4,2,\"2021/04/22\",2,0,\"HOURLY\",1,0,\"3\"]],\"sel\":3,\"agg\":1},\"table_id\":\"1-11112\"}\\n',\n",
       " '{\"phase\":1,\"question\":2021/04/21 하루동안 2 LINEID의 시간별 TRANSFER_COUNT 중 가장 많았던 TRANSFER_COUNT을 알려줘,\"sql\":{\"conds\":[[4,1,\"2021/04/21\",4,2,\"2021/04/22\",2,0,\"HOURLY\",1,0,\"2\"]],\"sel\":3,\"agg\":1},\"table_id\":\"1-11112\"}\\n',\n",
       " '{\"phase\":1,\"question\":2021/04/21에 1 LINEID의 시간별 TRANSFER_COUNT 중 가장 적었던 TRANSFER_COUNT을 알려줘,\"sql\":{\"conds\":[[4,1,\"2021/04/21\",4,2,\"2021/04/22\",2,0,\"HOURLY\",1,0,\"1\"]],\"sel\":3,\"agg\":2},\"table_id\":\"1-11112\"}\\n',\n",
       " '{\"phase\":1,\"question\":2021/04/21에 1 LINEID의 시간별 평균 TRANSFER_COUNT을 알려줘,\"sql\":{\"conds\":[[4,1,\"2021/04/21\",4,2,\"2021/04/22\",2,0,\"HOURLY\",1,0,\"1\"]],\"sel\":3,\"agg\":5},\"table_id\":\"1-11112\"}\\n',\n",
       " '{\"phase\":1,\"question\":2021/04/21에 3 LINEID의 시간별 평균 TRANSFER_COUNT을 알려줘,\"sql\":{\"conds\":[[4,1,\"2021/04/21\",4,2,\"2021/04/22\",2,0,\"HOURLY\",1,0,\"3\"]],\"sel\":3,\"agg\":5},\"table_id\":\"1-11112\"}\\n',\n",
       " '{\"phase\":1,\"question\":2021/04/21에 5 LINEID의 시간별 평균 TRANSFER_COUNT을 알려줘,\"sql\":{\"conds\":[[4,1,\"2021/04/21\",4,2,\"2021/04/22\",2,0,\"HOURLY\",1,0,\"5\"]],\"sel\":3,\"agg\":5},\"table_id\":\"1-11112\"}\\n',\n",
       " '{\"phase\":1,\"question\":CAR_ID 43ZGY9에서 발생한 에러 횟수를 알려줘,\"sql\":{\"conds\":[[0,0,\"43ZGY9\"]],\"sel\":0,\"agg\":3},\"table_id\":\"1-11113\"}\\n',\n",
       " '{\"phase\":1,\"question\":CAR_ID WIS9EC 발생한 에러 횟수를 알려줘,\"sql\":{\"conds\":[[0,0,\"WIS9EC\"]],\"sel\":0,\"agg\":3},\"table_id\":\"1-11113\"}\\n',\n",
       " '{\"phase\":1,\"question\":394 ROBOT_ID에서 발생한 에러 총 횟수를 알려줘,\"sql\":{\"conds\":[[1,0,\"394\"]],\"sel\":0,\"agg\":3},\"table_id\":\"1-11113\"}\\n',\n",
       " '{\"phase\":1,\"question\":394 ROBOT_ID에서 발생한 평균 에러조치 시간을 알려줘,\"sql\":{\"conds\":[[1,0,\"394\"]],\"sel\":7,\"agg\":5},\"table_id\":\"1-11113\"}\\n',\n",
       " '{\"phase\":1,\"question\":408 ROBOT_ID에서 발생한 ERROR 횟수는?,\"sql\":{\"conds\":[[1,0,\"408\"]],\"sel\":0,\"agg\":3},\"table_id\":\"1-11113\"}\\n',\n",
       " '{\"phase\":1,\"question\":394 ROBOT_ID에서 발생한 평균 에러조치 시간을 알려줘,\"sql\":{\"conds\":[[1,0,\"394\"]],\"sel\":7,\"agg\":5},\"table_id\":\"1-11113\"}\\n',\n",
       " '{\"phase\":1,\"question\":792 ROBOT_ID이 M99NOQ 반송하다가 발생한 ERRORCODE는?,\"sql\":{\"conds\":[[1,0,\"792\",0,0,\"M99NOQ\"]],\"sel\":4,\"agg\":0},\"table_id\":\"1-11113\"}\\n',\n",
       " '{\"phase\":1,\"question\":792 ROBOT_ID이 069DCP 반송도중 발생한 ERROR의 ERRORCODE는?,\"sql\":{\"conds\":[[1,0,\"792\",0,0,\"069DCP\"]],\"sel\":4,\"agg\":0},\"table_id\":\"1-11113\"}\\n',\n",
       " '{\"phase\":1,\"question\":792 ROBOT_ID이 069DCP 반송도중 발생한 ERROR의 발생 DEVICE는?,\"sql\":{\"conds\":[[1,0,\"792\",0,0,\"069DCP\"]],\"sel\":2,\"agg\":0},\"table_id\":\"1-11113\"}\\n',\n",
       " '{\"phase\":1,\"question\":792 ROBOT_ID의 평균 RECOVERYTIME은 ?,\"sql\":{\"conds\":[[1,0,\"792\"]],\"sel\":7,\"agg\":5},\"table_id\":\"1-11113\"}\\n',\n",
       " '{\"phase\":1,\"question\": XPZCRU DEVICE의 SETUP 날짜는?,\"sql\":{\"conds\":[[0,0,\"XPZCRU\"]],\"sel\":6,\"agg\":0},\"table_id\":\"1-11114\"}\\n',\n",
       " '{\"phase\":1,\"question\": KYNOFX DEVICE가 언제 SETUP 되었는지 알려줘,\"sql\":{\"conds\":[[0,0,\"KYNOFX\"]],\"sel\":6,\"agg\":0},\"table_id\":\"1-11114\"}\\n',\n",
       " '{\"phase\":1,\"question\": BHCJRZ DEVICE의 SETUP 날짜를 알려줘,\"sql\":{\"conds\":[[0,0,\"BHCJRZ\"]],\"sel\":6,\"agg\":0},\"table_id\":\"1-11114\"}\\n',\n",
       " '{\"phase\":1,\"question\": KYNOFX DEVICE의 BAY명을 알려줘,\"sql\":{\"conds\":[[0,0,\"KYNOFX\"]],\"sel\":3,\"agg\":0},\"table_id\":\"1-11114\"}\\n',\n",
       " '{\"phase\":1,\"question\": XPZCRU DEVICE의 BAY 이름을 알려줘,\"sql\":{\"conds\":[[0,0,\"XPZCRU\"]],\"sel\":3,\"agg\":0},\"table_id\":\"1-11114\"}\\n',\n",
       " '{\"phase\":1,\"question\": NZPSYT DEVICE가 무슨 PROCESSNAME DEVICE인지 알려줘,\"sql\":{\"conds\":[[0,0,\"NZPSYT\"]],\"sel\":2,\"agg\":0},\"table_id\":\"1-11114\"}\\n',\n",
       " '{\"phase\":1,\"question\": XKYWEB 가 저장소인지 아닌지 알려줘,\"sql\":{\"conds\":[[0,0,\"XKYWEB\"]],\"sel\":5,\"agg\":0},\"table_id\":\"1-11114\"}\\n',\n",
       " '{\"phase\":1,\"question\": BHCJRZ DEVICE의 ZONE 명을 알려줘,\"sql\":{\"conds\":[[0,0,\"BHCJRZ\"]],\"sel\":4,\"agg\":0},\"table_id\":\"1-11114\"}\\n',\n",
       " '{\"phase\":1,\"question\": BHCJRZ DEVICE의 PROCESSNAME은?,\"sql\":{\"conds\":[[0,0,\"BHCJRZ\"]],\"sel\":2,\"agg\":0},\"table_id\":\"1-11114\"}\\n',\n",
       " '{\"phase\":1,\"question\": 2021/01/01 이후 SETUP된 DEVICE 개수를 알려줘,\"sql\":{\"conds\":[[6,1,\"2021/01/01\"]],\"sel\":0,\"agg\":3},\"table_id\":\"1-11114\"}\\n',\n",
       " '{\"phase\":1,\"question\": 2020/12/01 이후 SETUP된 DEVICE 개수를 알려줘,\"sql\":{\"conds\":[[6,1,\"2020/12/01\"]],\"sel\":0,\"agg\":3},\"table_id\":\"1-11114\"}']"
      ]
     },
     "metadata": {},
     "execution_count": 7
    }
   ],
   "source": [
    "json_list"
   ]
  },
  {
   "cell_type": "code",
   "execution_count": 15,
   "metadata": {},
   "outputs": [],
   "source": [
    "with open('../generateDemoData/test.tables.jsonl', 'r') as json_file:\n",
    "    json_table_list = list(json_file)"
   ]
  },
  {
   "cell_type": "code",
   "execution_count": 16,
   "metadata": {},
   "outputs": [
    {
     "output_type": "execute_result",
     "data": {
      "text/plain": [
       "4"
      ]
     },
     "metadata": {},
     "execution_count": 16
    }
   ],
   "source": [
    "len(json_table_list)"
   ]
  },
  {
   "cell_type": "code",
   "execution_count": 18,
   "metadata": {},
   "outputs": [
    {
     "output_type": "error",
     "ename": "AttributeError",
     "evalue": "'str' object has no attribute 'keys'",
     "traceback": [
      "\u001b[0;31m---------------------------------------------------------------------------\u001b[0m",
      "\u001b[0;31mAttributeError\u001b[0m                            Traceback (most recent call last)",
      "\u001b[0;32m<ipython-input-18-0173f00eb8f3>\u001b[0m in \u001b[0;36m<module>\u001b[0;34m\u001b[0m\n\u001b[0;32m----> 1\u001b[0;31m \u001b[0mjson_table_list\u001b[0m\u001b[0;34m[\u001b[0m\u001b[0;36m0\u001b[0m\u001b[0;34m]\u001b[0m\u001b[0;34m.\u001b[0m\u001b[0mkeys\u001b[0m\u001b[0;34m(\u001b[0m\u001b[0;34m)\u001b[0m\u001b[0;34m\u001b[0m\u001b[0;34m\u001b[0m\u001b[0m\n\u001b[0m",
      "\u001b[0;31mAttributeError\u001b[0m: 'str' object has no attribute 'keys'"
     ]
    }
   ],
   "source": [
    "json_table_list[0].keys()"
   ]
  },
  {
   "cell_type": "code",
   "execution_count": 19,
   "metadata": {},
   "outputs": [],
   "source": [
    "with open('../data/test.tables.jsonl', 'r') as json_file:\n",
    "    json_table_list = list(json_file)"
   ]
  },
  {
   "cell_type": "code",
   "execution_count": 23,
   "metadata": {},
   "outputs": [
    {
     "output_type": "execute_result",
     "data": {
      "text/plain": [
       "'{\"header\": [\"Player\", \"No.\", \"Nationality\", \"Position\", \"Years in Toronto\", \"School/Club Team\"], \"page_title\": \"Toronto Raptors all-time roster\", \"types\": [\"text\", \"text\", \"text\", \"text\", \"text\", \"text\"], \"id\": \"1-10015132-16\", \"section_title\": \"R\", \"caption\": \"R\", \"rows\": [[\"Aleksandar Radojevi\\\\u0107\", \"25\", \"Serbia\", \"Center\", \"1999-2000\", \"Barton CC (KS)\"], [\"Shawn Respert\", \"31\", \"United States\", \"Guard\", \"1997-98\", \"Michigan State\"], [\"Quentin Richardson\", \"N/A\", \"United States\", \"Forward\", \"2013-present\", \"DePaul\"], [\"Alvin Robertson\", \"7, 21\", \"United States\", \"Guard\", \"1995-96\", \"Arkansas\"], [\"Carlos Rogers\", \"33, 34\", \"United States\", \"Forward-Center\", \"1995-98\", \"Tennessee State\"], [\"Roy Rogers\", \"9\", \"United States\", \"Forward\", \"1998\", \"Alabama\"], [\"Jalen Rose\", \"5\", \"United States\", \"Guard-Forward\", \"2003-06\", \"Michigan\"], [\"Terrence Ross\", \"31\", \"United States\", \"Guard\", \"2012-present\", \"Washington\"]], \"name\": \"table_10015132_16\"}\\n'"
      ]
     },
     "metadata": {},
     "execution_count": 23
    }
   ],
   "source": [
    "json_table_list[0]"
   ]
  },
  {
   "cell_type": "code",
   "execution_count": null,
   "metadata": {},
   "outputs": [],
   "source": []
  }
 ],
 "metadata": {
  "kernelspec": {
   "display_name": "Python 3",
   "language": "python",
   "name": "python3"
  }
 },
 "nbformat": 4,
 "nbformat_minor": 5
}