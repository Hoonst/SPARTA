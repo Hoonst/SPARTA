{
 "metadata": {
  "orig_nbformat": 2,
  "kernelspec": {
   "name": "python3",
   "display_name": "Python 3",
   "language": "python"
  }
 },
 "nbformat": 4,
 "nbformat_minor": 2,
 "cells": [
  {
   "cell_type": "code",
   "execution_count": 5,
   "metadata": {},
   "outputs": [],
   "source": [
    "import os\n",
    "import sys\n",
    "import urllib.request\n",
    "\n",
    "import json\n",
    "from tqdm import tqdm\n",
    "import time\n",
    "import pandas as pd\n",
    "\n",
    "import argparse \n",
    "\n",
    "import translate"
   ]
  },
  {
   "source": [
    "# First\n",
    " Train data extract"
   ],
   "cell_type": "markdown",
   "metadata": {}
  },
  {
   "cell_type": "code",
   "execution_count": 6,
   "metadata": {},
   "outputs": [
    {
     "output_type": "stream",
     "name": "stderr",
     "text": [
      "TRAIN: 56355it [00:00, 74822.06it/s]\n",
      "TRAIN.TABLES: 18585it [00:01, 15524.41it/s]\n"
     ]
    }
   ],
   "source": [
    "data = translate.extract_data('train', './data')\n",
    "\n",
    "questions = [\" \".join(d['question'].split()) for d in data]\n",
    "table_ids =[d['table_id'] for d in data]\n",
    "tables = translate.extract_data('train.tables', './data')"
   ]
  },
  {
   "source": [
    "utb = upper_transform_bulk(questions, tables, table_ids)"
   ],
   "cell_type": "code",
   "metadata": {
    "tags": []
   },
   "execution_count": 7,
   "outputs": [
    {
     "output_type": "stream",
     "name": "stderr",
     "text": [
      "Converting questions to upper letter: 100%|██████████| 56355/56355 [07:48<00:00, 120.30it/s]\n"
     ]
    }
   ]
  },
  {
   "cell_type": "code",
   "execution_count": 9,
   "metadata": {},
   "outputs": [],
   "source": [
    "question_df = pd.DataFrame({'question': utb})\n",
    "question_df.to_excel('train_question.xlsx', index=False)"
   ]
  },
  {
   "cell_type": "code",
   "execution_count": 77,
   "metadata": {},
   "outputs": [],
   "source": [
    "f = open('ko_question.txt', 'r')\n",
    "lines = f.readlines()"
   ]
  },
  {
   "cell_type": "code",
   "execution_count": 11,
   "metadata": {},
   "outputs": [
    {
     "output_type": "error",
     "ename": "NameError",
     "evalue": "name 'filepath' is not defined",
     "traceback": [
      "\u001b[0;31m---------------------------------------------------------------------------\u001b[0m",
      "\u001b[0;31mNameError\u001b[0m                                 Traceback (most recent call last)",
      "\u001b[0;32m<ipython-input-11-24029c47fd57>\u001b[0m in \u001b[0;36m<module>\u001b[0;34m\u001b[0m\n\u001b[0;32m----> 1\u001b[0;31m \u001b[0mfile\u001b[0m \u001b[0;34m=\u001b[0m \u001b[0mopen\u001b[0m\u001b[0;34m(\u001b[0m\u001b[0mfilepath\u001b[0m\u001b[0;34m,\u001b[0m \u001b[0;34m'r'\u001b[0m\u001b[0;34m)\u001b[0m\u001b[0;34m\u001b[0m\u001b[0;34m\u001b[0m\u001b[0m\n\u001b[0m",
      "\u001b[0;31mNameError\u001b[0m: name 'filepath' is not defined"
     ]
    }
   ],
   "source": []
  },
  {
   "cell_type": "code",
   "execution_count": 16,
   "metadata": {},
   "outputs": [],
   "source": [
    "filepath = 'ko_data/ko_train.jsonl'\n",
    "file = open(filepath, 'r').readlines()\n",
    "# with open(filepath, 'w', encoding='utf-8') as f:\n"
   ]
  },
  {
   "cell_type": "code",
   "execution_count": 18,
   "metadata": {},
   "outputs": [
    {
     "output_type": "execute_result",
     "data": {
      "text/plain": [
       "'{\"phase\": 1, \"table_id\": \"1-1000181-1\", \"question\": \"South Australia 의 Notes 가 무엇인지 알려주세요.\", \"sql\": {\"sel\": 5, \"conds\": [[3, 0, \"SOUTH AUSTRALIA\"]], \"agg\": 0}}\\n'"
      ]
     },
     "metadata": {},
     "execution_count": 18
    }
   ],
   "source": [
    "file[0]"
   ]
  },
  {
   "cell_type": "code",
   "execution_count": 78,
   "metadata": {},
   "outputs": [],
   "source": [
    "lines = [line.replace('[\\\\', '') for line in lines]\n",
    "lines = [line.replace('\\\\]', '') for line in lines]\n",
    "lines = [line.replace('\\n', '').strip()  for line in lines]\n",
    "\n",
    "lines = [' '.join(line.split()) for line in lines]"
   ]
  },
  {
   "cell_type": "code",
   "execution_count": 81,
   "metadata": {},
   "outputs": [],
   "source": [
    "for i in range(len(data)):\n",
    "    data[i]['question'] = lines[i]"
   ]
  },
  {
   "cell_type": "code",
   "execution_count": 86,
   "metadata": {},
   "outputs": [
    {
     "output_type": "error",
     "ename": "NameError",
     "evalue": "name 'args' is not defined",
     "traceback": [
      "\u001b[0;31m---------------------------------------------------------------------------\u001b[0m",
      "\u001b[0;31mNameError\u001b[0m                                 Traceback (most recent call last)",
      "\u001b[0;32m<ipython-input-86-01bd15ea6226>\u001b[0m in \u001b[0;36m<module>\u001b[0;34m\u001b[0m\n\u001b[0;32m----> 1\u001b[0;31m \u001b[0mtranslate\u001b[0m\u001b[0;34m.\u001b[0m\u001b[0minsert_ko_question\u001b[0m\u001b[0;34m(\u001b[0m\u001b[0mdata\u001b[0m\u001b[0;34m,\u001b[0m \u001b[0;34m'train'\u001b[0m\u001b[0;34m,\u001b[0m \u001b[0;34m'./ko_data'\u001b[0m\u001b[0;34m)\u001b[0m\u001b[0;34m\u001b[0m\u001b[0;34m\u001b[0m\u001b[0m\n\u001b[0m",
      "\u001b[0;32m/repo/SPARTA/translate.py\u001b[0m in \u001b[0;36minsert_ko_question\u001b[0;34m(data, name, savedir)\u001b[0m\n\u001b[1;32m     61\u001b[0m     \u001b[0mlines\u001b[0m \u001b[0;34m=\u001b[0m \u001b[0mfile\u001b[0m\u001b[0;34m.\u001b[0m\u001b[0mreadlines\u001b[0m\u001b[0;34m(\u001b[0m\u001b[0;34m)\u001b[0m\u001b[0;34m\u001b[0m\u001b[0;34m\u001b[0m\u001b[0m\n\u001b[1;32m     62\u001b[0m \u001b[0;34m\u001b[0m\u001b[0m\n\u001b[0;32m---> 63\u001b[0;31m     \u001b[0mlines\u001b[0m \u001b[0;34m=\u001b[0m \u001b[0;34m[\u001b[0m\u001b[0mline\u001b[0m\u001b[0;34m.\u001b[0m\u001b[0mreplace\u001b[0m\u001b[0;34m(\u001b[0m\u001b[0;34m'[\\\\'\u001b[0m\u001b[0;34m,\u001b[0m \u001b[0;34m''\u001b[0m\u001b[0;34m)\u001b[0m \u001b[0;32mfor\u001b[0m \u001b[0mline\u001b[0m \u001b[0;32min\u001b[0m \u001b[0mlines\u001b[0m\u001b[0;34m]\u001b[0m\u001b[0;34m\u001b[0m\u001b[0;34m\u001b[0m\u001b[0m\n\u001b[0m\u001b[1;32m     64\u001b[0m     \u001b[0mlines\u001b[0m \u001b[0;34m=\u001b[0m \u001b[0;34m[\u001b[0m\u001b[0mline\u001b[0m\u001b[0;34m.\u001b[0m\u001b[0mreplace\u001b[0m\u001b[0;34m(\u001b[0m\u001b[0;34m'\\\\]'\u001b[0m\u001b[0;34m,\u001b[0m \u001b[0;34m''\u001b[0m\u001b[0;34m)\u001b[0m \u001b[0;32mfor\u001b[0m \u001b[0mline\u001b[0m \u001b[0;32min\u001b[0m \u001b[0mlines\u001b[0m\u001b[0;34m]\u001b[0m\u001b[0;34m\u001b[0m\u001b[0;34m\u001b[0m\u001b[0m\n\u001b[1;32m     65\u001b[0m     \u001b[0mlines\u001b[0m \u001b[0;34m=\u001b[0m \u001b[0;34m[\u001b[0m\u001b[0mline\u001b[0m\u001b[0;34m.\u001b[0m\u001b[0mreplace\u001b[0m\u001b[0;34m(\u001b[0m\u001b[0;34m'\\n'\u001b[0m\u001b[0;34m,\u001b[0m \u001b[0;34m''\u001b[0m\u001b[0;34m)\u001b[0m\u001b[0;34m.\u001b[0m\u001b[0mstrip\u001b[0m\u001b[0;34m(\u001b[0m\u001b[0;34m)\u001b[0m  \u001b[0;32mfor\u001b[0m \u001b[0mline\u001b[0m \u001b[0;32min\u001b[0m \u001b[0mlines\u001b[0m\u001b[0;34m]\u001b[0m\u001b[0;34m\u001b[0m\u001b[0;34m\u001b[0m\u001b[0m\n",
      "\u001b[0;31mNameError\u001b[0m: name 'args' is not defined"
     ]
    }
   ],
   "source": [
    "translate.insert_ko_question(data, 'train', './ko_data')"
   ]
  },
  {
   "cell_type": "code",
   "execution_count": 83,
   "metadata": {},
   "outputs": [],
   "source": [
    "with open('text.jsonl', 'w', encoding='utf-8') as f:\n",
    "    for line in data:\n",
    "        json_record = json.dumps(line, ensure_ascii=False)\n",
    "        f.write(json_record + '\\n')"
   ]
  },
  {
   "cell_type": "code",
   "execution_count": 6,
   "metadata": {},
   "outputs": [
    {
     "output_type": "execute_result",
     "data": {
      "text/plain": [
       "'I Have Sexy 바디 In My Fucking Face'"
      ]
     },
     "metadata": {},
     "execution_count": 6
    }
   ],
   "source": [
    "'i HAVE SEXY 바디 In MY Fucking face'.title()"
   ]
  },
  {
   "cell_type": "code",
   "execution_count": 4,
   "metadata": {},
   "outputs": [
    {
     "output_type": "stream",
     "name": "stdout",
     "text": [
      "Geeks for geeks\n"
     ]
    }
   ],
   "source": [
    "name = \"geeks FOR geeks\"\n",
    " \n",
    "print(name.capitalize())"
   ]
  },
  {
   "cell_type": "code",
   "execution_count": 70,
   "metadata": {},
   "outputs": [],
   "source": [
    "lines = [line.replace('[\\\\', '') for line in lines]\n",
    "lines = [line.replace('\\\\]', '') for line in lines]\n",
    "lines = [line.replace('\\n', '').strip()  for line in lines]\n",
    "\n",
    "lines = [' '.join(line.split()) for line in lines]"
   ]
  },
  {
   "cell_type": "code",
   "execution_count": 169,
   "metadata": {
    "tags": [
     "outputPrepend"
    ]
   },
   "outputs": [
    {
     "output_type": "stream",
     "name": "stdout",
     "text": [
      "5132-2\n",
      "When the scoring rank was 117, what was the best finish? 1-10021158-3\n",
      "When the best finish was T69, how many people came in 2nd? 1-10021158-3\n",
      "How many wins were there when the money list rank was 183? 1-10021158-3\n",
      "When the money list rank was n/a, what was the scoring average? 1-10021158-3\n",
      "What time was the highest for 2nd finishers? 1-10021158-3\n",
      "When did the Metrostars have their first Rookie of the Year winner? 1-1004033-1\n",
      "What college did the Rookie of the Year from the Columbus Crew attend? 1-1004033-1\n",
      "How many teams had a #1 draft pick that won the Rookie of the Year Award? 1-1004033-1\n",
      "What position did the #10 draft pick play? 1-1004033-1\n",
      "what's the years played with singles w-l of 3–2 1-10023387-1\n",
      "what's the doubles w-l for player seol jae-min (none) 1-10023387-1\n",
      "what's the singles w-l for kim doo-hwan 1-10023387-1\n",
      "what's the total number of singles w-l with doubles w-l of 0–0 and total w-l of 3–1 1-10023387-1\n",
      "what's the doubles w-l with years played value of 1 (1968) 1-10023387-1\n",
      "what years are played for player im chung-yang 1-10023387-1\n",
      "What is the name of the 375 crest length? 1-10020178-1\n",
      "What is year of construction of spitallamm? 1-10020178-1\n",
      "What is the canton of grande dixence? 1-10020178-1\n",
      "What is the name where lago di luzzone is? 1-10020178-1\n",
      "What is the guardian mātṛkā for the guardian whose consort is Svāhā? 1-100518-1\n",
      "Where the mantra is \"oṃ yaṃ vāyuve namaḥ\", what is the direction of the guardian? 1-100518-1\n",
      "What weapon is used by the guardian whose consort is śacī? 1-100518-1\n",
      "What are the directions for the guardian whose weapon is khaḍga (sword)? 1-100518-1\n",
      "What are the weapons used by guardians for the direction East? 1-100518-1\n",
      "What are the directions for the guardian whose graha (planet) is bṛhaspati (Jupiter)? 1-100518-1\n",
      "What is the number of chapters listed for the fraternity with a headquarters in Austin, Texas? 1-10054296-1\n",
      "What are the members listed with the sorority classification 1-10054296-1\n",
      "Name the member that has 12 chapters 1-10054296-1\n",
      "Where is the headquarters of Alpha Nu Omega 1-10054296-1\n",
      "what is the number of relapsing fever when malaria is 3000 1-1007688-1\n",
      "what is the typhoid fever number for the year 1934 1-1007688-1\n",
      "What are all the typhus number when smallpox is 4 1-1007688-1\n",
      "what is the number of smallpox when typhoid fever is 293 1-1007688-1\n",
      "what is the typhoid fever number for the year 1929 1-1007688-1\n",
      "How many schools are in Bloomington, IN? 1-10082596-1\n",
      "How many of the schools are designated private/Presbyterian? 1-10082596-1\n",
      "In what year was Lindenwood University founded? 1-10082596-1\n",
      "How many of the schools listed are in Ames, IA? 1-10082596-1\n",
      "What is the capital (endonym) where Douglas is the Capital (exonym)? 1-1008653-9\n",
      "How many countries (endonym) has the capital (endonym) of Jakarta? 1-1008653-9\n",
      "What is the country (exonym) where the official or native language(s) (alphabet/script) is Icelandic? 1-1008653-9\n",
      "In which country (endonym) is Irish English the official or native language(s) (alphabet/script)? 1-1008653-9\n",
      "Which country (exonym) is the country (endonym) isle of man ellan vannin? 1-1008653-9\n",
      "The season premiere aired on September 11, 2000 aired on how many networks? 1-1009087-1\n",
      "What was the ranking of the season finale aired on May 8, 2006? 1-1009087-1\n",
      "what is the minimum population canada 2011 census with seat of rcm being cowansville 1-1011906-1\n",
      "what's the land area with seat of rcm being granby 1-1011906-1\n",
      "What is the population for County Mayo with the English Name Carrowteige? 1-101196-1\n",
      "What is the Irish name listed with 62% Irish speakers? 1-101196-1\n",
      "What is the population for the Irish Name Leitir mealláin? 1-101196-1\n",
      "What is the county for the Irish name Carna? 1-101196-1\n",
      "How many County Kerry have 53% Irish speakers? 1-101196-1\n",
      "What is the population for the English name Spiddal? 1-101196-1\n",
      "What is the the Chinese population for the state that has a Filipino population of 1474707? 1-10118412-6\n",
      "How many States have an Indian population of 30947? 1-10118412-6\n",
      "What is the highest Indian population? 1-10118412-6\n",
      "What is Australia's role in the UN operation Unama? 1-10121127-1\n",
      "What is the UN operation title with the UN operation name, Uncok? 1-10121127-1\n",
      "How many Australians were in the UN commission on Korea? 1-10121127-1\n",
      "When was it where 65 Australians were involved in the UN? 1-10121127-1\n",
      "when was it where 65 australians were involved in the un?\n",
      "What year is the season with the 10.73 million views? 1-10120207-8\n",
      "What is the season year where the rank is 39? 1-10120207-8\n",
      "What is the number of season premieres were 10.17 people watched? 1-10120207-8\n",
      "What is the year of the season that was 12? 1-10120207-8\n",
      "In 2012 what was the average finish? 1-1012730-1\n",
      "in 2012 what was the average finish?\n",
      "How many wins happened in 1983? 1-1012730-1\n",
      "How many top tens had an average start of 29.4? 1-1012730-1\n",
      "How many poles had an average finish of 19.1? 1-1012730-1\n",
      "How many starts did Hendrick motorsports have? 1-1012730-1\n",
      "NHL players are all centre in Florida panthers. 1-1013129-10\n",
      "NHL team player San Jose Sharks is United States nationally. 1-1013129-10\n",
      "All players are position mark polak. 1-1013129-10\n",
      "Position in nhl team centre are all smaller pick than 243.0 1-1013129-10\n",
      "What college/junior/club teams do the players from the St. Louis Blues come from? 1-1013129-11\n",
      "What teams do the players from TPS (Finland) play for? 1-1013129-11\n",
      "What high school team did Doug Nolan play for? 1-1013129-11\n",
      "What club team is Per Gustafsson play for? 1-1013129-11\n",
      "What is the nationality of Shayne Wright? 1-1013129-11\n",
      "How many votes did Southern England cast whilst Northern Ireland cast 3? 1-10128185-2\n",
      "What was the lowest number of votes Scotland cast? 1-10128185-2\n",
      "What is the total number of votes if Scotland cast 35? 1-10128185-2\n",
      "How many votes did Northern Ireland cast if the total was 35? 1-10128185-2\n",
      "How many votes did Wales cast when Northern England cast 6? 1-10128185-2\n",
      "What teams had 9 in the top 5 and 1 wins? 1-1012730-2\n",
      "What teams did the player vadim sharifijanov play for? 1-1013129-1\n",
      "What positions do the hartford whalers nhl team have? 1-1013129-1\n",
      "What is the smallest pick for the player, brett lindros? 1-1013129-1\n",
      "What positions does the college/junior/club team, molot perm (russia) have? 1-1013129-1\n",
      "The nhl team new york islanders is what nationality? 1-1013129-1\n",
      "What is the name of the vacator for district Louisiana 1st? 1-1013168-3\n",
      "What is the notion when the crystal structure is tetragonal and the formula is bi 2 sr 2 cacu 2 o 8 1-101336-1\n",
      "How many times is the formula tl 2 ba 2 cuo 6? 1-101336-1\n",
      "What is the crystal structure for the formula yba 2 cu 3 o 7? 1-101336-1\n",
      "What is the number for t c (k) when the notation is tl-2212? 1-101336-1\n",
      "How many 2010 estimations have been done in the city of Cremona? 1-10138926-1\n",
      "What's the 2001 census of the region of Abruzzo where the 1871 census is bigger than 51092.0? 1-10138926-1\n",
      "What's the 1991 census of the city of Carpi? 1-10138926-1\n",
      "How many 2001 censuses are there on number 13? 1-10138926-1\n",
      "What's the 1981 census of Livorno? 1-10138926-1\n",
      "Which NHL team has player Mike Loach? 1-1013129-8\n",
      "What is the NHL team that has Peter Strom? 1-1013129-8\n",
      "What team is Keith Mccambridge on? 1-1013129-8\n",
      "How many nationalities are the pick 193? 1-1013129-8\n",
      "Who was the succesor that was formally installed on November 8, 1978? 1-1013168-2\n",
      "How many songs received a 10 from Goodman and were rated by Tonioli? 1-1014319-1\n",
      "What score did Goodman give to all songs with safe results, which received a 7 from Horwood and have a total score of 31? 1-1014319-1\n",
      "What score did Dixon give to the song \"samba / young hearts run free\", which was in second place? 1-1014319-1\n",
      "How many scores did Goodman give to \"samba / young hearts run free\", which was in second place? 1-1014319-1\n",
      "What year was number 7 built? 1-1015421-1\n",
      "what year was number 7 built?\n",
      "What is we two when the case/suffix is loc.? 1-1015914-24\n",
      "What is them two (the two) when we two is ngalbelpa? 1-1015914-24\n",
      "What is them two (the two) when you and i is ngœbalngu? 1-1015914-24\n",
      "What is who-two where you and i is ngœban? 1-1015914-24\n",
      "What is we two where you two is ngipen? 1-1015914-24\n",
      "What is who-two when you two is ngipelngu? 1-1015914-24\n",
      "what's the points with driver mark martin 1-10160447-1\n",
      "what's the points with driver rusty wallace 1-10160447-1\n",
      "what's the total number of position with driver robby gordon 1-10160447-1\n",
      "what's the maximum position with winnings $50,000 1-10160447-1\n",
      "What actor was nominted for an award in the film Anastasiya Slutskaya? 1-10236830-6\n",
      "What was the film Falling up nominated for? 1-10236830-6\n",
      "What is the name of the actress that was nominated for best actress in a leading role in the film Chopin: Desire for love? 1-10236830-6\n",
      "What is the name of the actress that was nominated for best actress in a leading role in the film Chopin: Desire for love? 1-10236830-6\n",
      "Which films does the actor Alla Sergiyko star in? 1-10236830-6\n",
      "Which nominations was the film 27 Stolen Kisses nominated for? 1-10236830-6\n",
      "Which actor from Serbia was nominated for best actor in a supporting role? 1-10236830-4\n",
      "Vsevolod Shilovskiy is from what country? 1-10236830-4\n",
      "Which nominations are connected to the film Totalitarian Romance? 1-10236830-4\n",
      "Srdjan Dragojevic worked on a film which earned what nomination? 1-10236830-4\n",
      "Which actors are from Ukraine? 1-10236830-4\n",
      "What was the film that vadim ilyenko directed? 1-10236830-1\n",
      "What was the actors name that vadim ilyenko directed? 1-10236830-1\n",
      "What was the actors name for fuchzhou and nomination was best non-professional actor? 1-10236830-1\n",
      "What film did michaylo ilyenko make with best actor in a supporting role? 1-10236830-1\n",
      "What was the actor's name for best debut? 1-10236830-1\n",
      "What was the number of nominations for natalia raskokoha? 1-10236830-1\n",
      "What is the highest value of Total Goals? 1-10240125-1\n",
      "When FA Cup Apps is 9 what is the smallest number of FA Cup Goals? 1-10240125-1\n",
      "What is the smallest number of Total Goals? 1-10240125-1\n",
      "What circuit was the race where Hideki Mutoh had the fastest lap? 1-10264179-2\n",
      "what is the minimum production code with title \"foreign exchange problem / turn about\" 1-10269427-3\n",
      "what is the episode # for title \"the yindianapolis 500 / personality problem\" 1-10269427-3\n",
      "what is the episode # for production code 227 1-10269427-3\n",
      "who directed the movie written by is sib ventress / aydrea ten bosch 1-10269427-3\n",
      "what is the production code with title \"skirting the issue / moon over my yinnie\" 1-10269427-3\n",
      "Whatis the number of total goals maximum? 1-10240125-2\n",
      "HOW MANY TEMPERATURE INTERVALS ARE POSSIBLE TO USE WITH ACRYL? 1-10262329-1\n",
      "How many matches where played with Jim Pugh? 1-1028356-3\n",
      "What is the score with partner Jim Pugh? 1-1028356-3\n",
      "How many matched scored 3–6, 7–6(5), 6–3? 1-1028356-3\n",
      "What is the score of the match with partner Jim Pugh? 1-1028356-3\n",
      "What year was the championship in Wimbledon (2)? 1-1028356-3\n",
      "What is the score of the match with opponents Gretchen Magers Kelly Jones? 1-1028356-3\n",
      "How many birthdays does Earl Hanley Beshlin have? 1-10284385-1\n",
      "Which politican party has a birthday of November 10, 1880 1-10284385-1\n",
      "Which representative has a birthday of January 31, 1866? 1-10284385-1\n",
      "What is the Singles W-L for the players named Laurynas Grigelis? 1-10295819-1\n",
      "What is the Current singles ranking for the player named Mantas Bugailiškis? 1-10295819-1\n",
      "How many playerd Mrs. Darling in the 1999 Broadway? 1-10312547-1\n",
      "Who played Peter Pan in the 1990 Broadway? 1-10312547-1\n",
      "Who played in the 1991 Broadway before Barbara McCulloh played the part in the 1999 Broadway? 1-10312547-1\n",
      "Who played in the 1990 Broadway after Tom Halloran played the character in the 1955 Broadcast? 1-10312547-1\n",
      "What character did Drake English play in the 1998 Broadway? 1-10312547-1\n",
      "What date was BBC One total viewing greater then 11616996.338225884? 1-103084-4\n",
      "How many years did BBC One rank 20th? 1-103084-4\n",
      "What year was the BBC two total viewing 7,530,000? 1-103084-4\n",
      "how many ↓ function / genus → with escherichia being espd 1-10321124-1\n",
      "what's the salmonella with escherichia being espd 1-10321124-1\n",
      "what's the ↓ function / genus → with shigella being spa32 1-10321124-1\n",
      "what's the salmonella with shigella being ipgc 1-10321124-1\n",
      "what's the salmonella with escherichia being sepb (escn) 1-10321124-1\n",
      "what's the shigella with yersinia being yscp 1-10321124-1\n",
      "How many original titles did Marriage Italian-Style have? 1-10321805-1\n",
      "What year was a movie with the original title La Leggenda del Santo Bevitore submitted? 1-10321805-1\n",
      "what's the camp with estimated deaths of 600,000 1-10335-1\n",
      "what's the operational period with camp sajmište 1-10335-1\n",
      "what's the estimated deaths with operational period of 17 march 1942 – end of june 1943 1-10335-1\n",
      "what's the current country of location with operational period of summer of 1941 to 28 june 1944 1-10335-1\n",
      "what's the occupied territory with estimated deaths of 600,000 1-10335-1\n",
      "what's the occupied territory with operational period of may 1940 – january 1945 1-10335-1\n",
      "Which overall pick was traded to the Cleveland Browns? 1-10360823-1\n",
      "Overall pick 240 was a pick in which round? 1-10360823-1\n",
      "Which overall pick number went to college at Youngstown State? 1-10360823-1\n",
      "What position is played by pick 255 overall? 1-10360823-1\n",
      "Which player was chosen in round 17? 1-10360823-1\n",
      "The record of 7-3 had the largest attendance of what? 1-10361453-2\n",
      "The record of 9-4 was against which opponent? 1-10361453-2\n",
      "The game number of 8 had a record of what? 1-10361453-2\n",
      "What round was Steve Stonebreaker drafted? 1-10360656-1\n",
      "Who was the top picki n the draft? 1-10360656-1\n",
      "who was the top picki n the draft?\n",
      "What round was Bill Hill drafted? 1-10360656-1\n",
      "What was the name of the quarterback drafted? 1-10360656-1\n",
      "Where is the college where Keith Hartwig plays? 1-10361625-1\n",
      "What is the name of the linebacker at Illinois college? 1-10361625-1\n",
      "What is the greatest round of overall 83? 1-10361625-1\n",
      "Which round did Tommy Kramer play in> 1-10361625-1\n",
      "What is Rice's collage score? 1-10361625-1\n",
      "Where does the defensive back position appear first? 1-10361230-1\n",
      "What is Bruce Cerone overall? 1-10361230-1\n",
      "Which player went to Emporia State? 1-10361230-1\n",
      "What is the highest choice? 1-10361230-1\n",
      "What college did Bill Cappleman go to? 1-10361230-1\n",
      "For the headstamp id of h2, what was the color of the bullet tip? 1-1036189-1\n",
      "For the functional type of light ball, what were the other features? 1-1036189-1\n",
      "How many primers annulus colors were there when the color of the bullet tip was white? 1-1036189-1\n",
      "How many bullet tips colors had other features of a blue band on case base? 1-1036189-1\n",
      "How many touchdowns were scored in the year with a completion percentage of 56.0? 1-1037590-1\n",
      "What number of completions are recorded for the year with 12 games started? 1-1037590-1\n",
      "How many years were there with 348 attempts? 1-1037590-1\n",
      "How many characters is by Babs Rubenstein? 1-10402018-1\n",
      "Which person is in the tronto/broadway and has a uk tour of n/a 1-10402018-1\n",
      "How many people play Frank in London? 1-10402018-1\n",
      "Who was Class AAA during the school year of 2000-01? 1-10399701-2\n",
      "Who was Class AAA during the same year that Class A was (tie) Apple Springs/Texline? 1-10399701-2\n",
      "Who was Class AAAAA during the school year of 1995-96? 1-10399701-2\n",
      "Who was Class AAA during the same year that Class AAAAA was Brownsville Pace? 1-10399701-2\n",
      "What was the total number of Class AAA during the same year that Class AAA was White Oak? 1-10399701-2\n",
      "How many records are listed on Friday, May 25? 1-10392906-2\n",
      "How many opponents were played on Saturday, June 9? 1-10392906-2\n",
      "In what week was the first game played at the Commerzbank-Arena? 1-10392906-2\n",
      "What was the original air date of an episode set in 1544? 1-10413597-5\n",
      "How many settings where there for episode 29 of the season? 1-10413597-5\n",
      "Who wrote the episode that was set in winter 1541/february 13, 1542? 1-10413597-5\n",
      "What episode number of the season was \"The Northern Uprising\"? 1-10413597-4\n",
      "What is the name of the track that lasts 5:30? 1-10416547-1\n",
      "What is the album namethat has the track title Sweetness 甜甜的 (tián tián de)? 1-10416547-1\n",
      "What is the duration of the song where the major instrument is the piano and the date is 2004-02-03? 1-10416547-1\n",
      "What is the total number of lyricist where the lyrics theme is romance and the song lasts 3:50? 1-10416547-1\n",
      "What is the major instrument of the song that lasts 4:32? 1-10416547-1\n",
      "What is the total number of music genre/style in which the lyrics are a detective story? 1-10416547-1\n",
      "What is the playoffs for the usl pro select league? 1-1046071-1\n",
      "What is the number of the division for the 1st round? 1-1046071-1\n",
      "What was the team where series is formula renault 2.0 nec? 1-10420426-1\n",
      "What is the total number of poles for arden international? 1-10420426-1\n",
      "What is the number of wins for gp2 series for racing engineering? 1-10420426-1\n",
      "What is the number of podiums for season 2010 for campionato italiano superstars. 1-10420426-1\n",
      "What is the podium for 144 points? 1-10420426-1\n",
      "How many writers had an US air date of september 25, 1993? 1-10470082-3\n",
      "How many villians were in No. 25? 1-10470082-3\n",
      "how many villians were in no. 25?\n",
      "what being the maximum year where regular season is 4th, northwest 1-1046454-1\n",
      "what is the total number of playoffs where regular season is 6th, southwest 1-1046454-1\n",
      "what is the maximum division 1-1046454-1\n",
      "what's the league where regular season is 2nd, northwest 1-1046454-1\n",
      "what are all the regular season where year is 2011 1-1046454-1\n",
      "How many titles have the number 11 1-10470082-5\n",
      "How many have Mrs. briar as a villain 1-10470082-5\n",
      "how many have the number 8 1-10470082-5\n",
      "how many have the number 8\n",
      "How many have the title \"the tale of the room for rent\" 1-10470082-5\n",
      "What is the name of the episode told by Kiki and directed by Will Dixon? 1-10470082-6\n",
      "Who is the storyteller in the episode called \"The Tale of the Jagged Sign\"? 1-10470082-6\n",
      "Who wrote Episode #3? 1-10470082-6\n",
      "who wrote episode #3?\n",
      "Who are the villains in the episode titled \"The Tale of the Forever Game\"? 1-10470082-7\n",
      "How many villains appeared in the episode titled \"The Tale of the Virtual Pets\"? 1-10470082-7\n",
      "Who are the villains in the episodes where Megan is the storyteller and Lorette LeBlanc is the director? 1-10470082-7\n",
      "What is the largest # for an episode that was written by Allison Lea Bingeman? 1-10470082-7\n",
      "Name the species when petal width is 2.0 and petal length is 4.9 1-10477224-1\n",
      "Name the sepal width for i.virginica with petal length of 5.1 1-10477224-1\n",
      "Name the number of species with sepal width of 3.4 and sepal length of 5.4 1-10477224-1\n",
      "Name the sepal length for sepal width of 2.8 and petal length of 5.1 1-10477224-1\n",
      "Name the sepal width when sepal length is 6.5 and petal width is 2.2 1-10477224-1\n",
      "Name the sepal lengh when sepal width is 2.9 and petal width 1.3 1-10477224-1\n",
      "Who is the director and what number is the episode for episode #1 of Are You Afraid of the Dark season 3? 1-10470082-4\n",
      "Who is the director of the episode whom Scott Peters is the writer? 1-10470082-4\n",
      "Who is the villain in episode #7? 1-10470082-4\n",
      "Who wrote episode #1 in season 7? 1-10470082-8\n",
      "who wrote episode #1 in season 7?\n",
      "When did the episode written by Jim Morris air? 1-10470082-8\n",
      "What was Datsun Twin 200's fastest lap? 1-10527215-3\n",
      "In the Datsun Twin 200 race, what was the fastest lap? 1-10527215-3\n",
      "What's the report for the True Value 500? 1-10527215-3\n",
      "What was Johnny Rutherford's fastest lap while Al Unser was the pole position? 1-10527215-3\n",
      "What's the report on Penske Racing winning while the pole position was Al Unser? 1-10527215-3\n",
      "Which countries have a scouting organization that was founded in 1926, and joined WOSM in 1930? 1-104858-1\n",
      "which countries have a scouting organization that was founded in 1926, and joined wosm in 1930?\n",
      "Does Venezuela admit only boys, only girls, or both? 1-104858-1\n",
      "Which organizations were founded in 1972, but became WOSM members until 1977? 1-104858-1\n"
     ]
    },
    {
     "output_type": "error",
     "ename": "KeyboardInterrupt",
     "evalue": "",
     "traceback": [
      "\u001b[0;31m---------------------------------------------------------------------------\u001b[0m",
      "\u001b[0;31mKeyboardInterrupt\u001b[0m                         Traceback (most recent call last)",
      "\u001b[0;32m<ipython-input-169-74fed06b268a>\u001b[0m in \u001b[0;36m<module>\u001b[0;34m\u001b[0m\n\u001b[1;32m     37\u001b[0m \u001b[0;34m\u001b[0m\u001b[0m\n\u001b[1;32m     38\u001b[0m     \u001b[0;31m# find link btw question and values\u001b[0m\u001b[0;34m\u001b[0m\u001b[0;34m\u001b[0m\u001b[0;34m\u001b[0m\u001b[0m\n\u001b[0;32m---> 39\u001b[0;31m     \u001b[0mmatches\u001b[0m \u001b[0;34m=\u001b[0m \u001b[0mget_matched_entries\u001b[0m\u001b[0;34m(\u001b[0m\u001b[0mq\u001b[0m\u001b[0;34m,\u001b[0m \u001b[0mrows\u001b[0m\u001b[0;34m)\u001b[0m\u001b[0;34m\u001b[0m\u001b[0;34m\u001b[0m\u001b[0m\n\u001b[0m\u001b[1;32m     40\u001b[0m     \u001b[0;31m# if match exists, transform the matches to UPPER\u001b[0m\u001b[0;34m\u001b[0m\u001b[0;34m\u001b[0m\u001b[0;34m\u001b[0m\u001b[0m\n\u001b[1;32m     41\u001b[0m     \u001b[0;32mif\u001b[0m \u001b[0mmatches\u001b[0m \u001b[0;34m!=\u001b[0m \u001b[0;32mNone\u001b[0m\u001b[0;34m:\u001b[0m\u001b[0;34m\u001b[0m\u001b[0;34m\u001b[0m\u001b[0m\n",
      "\u001b[0;32m<ipython-input-64-046cde53f293>\u001b[0m in \u001b[0;36mget_matched_entries\u001b[0;34m(s, field_values, m_theta, s_theta)\u001b[0m\n\u001b[1;32m     79\u001b[0m         \u001b[0mmatch\u001b[0m \u001b[0;34m=\u001b[0m \u001b[0msm\u001b[0m\u001b[0;34m.\u001b[0m\u001b[0mfind_longest_match\u001b[0m\u001b[0;34m(\u001b[0m\u001b[0;36m0\u001b[0m\u001b[0;34m,\u001b[0m \u001b[0mlen\u001b[0m\u001b[0;34m(\u001b[0m\u001b[0mn_grams\u001b[0m\u001b[0;34m)\u001b[0m\u001b[0;34m,\u001b[0m \u001b[0;36m0\u001b[0m\u001b[0;34m,\u001b[0m \u001b[0mlen\u001b[0m\u001b[0;34m(\u001b[0m\u001b[0mfv_tokens\u001b[0m\u001b[0;34m)\u001b[0m\u001b[0;34m)\u001b[0m\u001b[0;34m\u001b[0m\u001b[0;34m\u001b[0m\u001b[0m\n\u001b[1;32m     80\u001b[0m         \u001b[0;32mif\u001b[0m \u001b[0mmatch\u001b[0m\u001b[0;34m.\u001b[0m\u001b[0msize\u001b[0m \u001b[0;34m>\u001b[0m \u001b[0;36m0\u001b[0m\u001b[0;34m:\u001b[0m\u001b[0;34m\u001b[0m\u001b[0;34m\u001b[0m\u001b[0m\n\u001b[0;32m---> 81\u001b[0;31m             \u001b[0msource_match\u001b[0m \u001b[0;34m=\u001b[0m \u001b[0mget_effecitve_match_source\u001b[0m\u001b[0;34m(\u001b[0m\u001b[0mn_grams\u001b[0m\u001b[0;34m,\u001b[0m \u001b[0mmatch\u001b[0m\u001b[0;34m.\u001b[0m\u001b[0ma\u001b[0m\u001b[0;34m,\u001b[0m \u001b[0mmatch\u001b[0m\u001b[0;34m.\u001b[0m\u001b[0ma\u001b[0m \u001b[0;34m+\u001b[0m \u001b[0mmatch\u001b[0m\u001b[0;34m.\u001b[0m\u001b[0msize\u001b[0m\u001b[0;34m)\u001b[0m\u001b[0;34m\u001b[0m\u001b[0;34m\u001b[0m\u001b[0m\n\u001b[0m\u001b[1;32m     82\u001b[0m             \u001b[0;32mif\u001b[0m \u001b[0msource_match\u001b[0m \u001b[0;32mand\u001b[0m \u001b[0msource_match\u001b[0m\u001b[0;34m.\u001b[0m\u001b[0msize\u001b[0m \u001b[0;34m>\u001b[0m \u001b[0;36m1\u001b[0m\u001b[0;34m:\u001b[0m\u001b[0;34m\u001b[0m\u001b[0;34m\u001b[0m\u001b[0m\n\u001b[1;32m     83\u001b[0m                 \u001b[0mmatch_str\u001b[0m \u001b[0;34m=\u001b[0m \u001b[0mfield_value\u001b[0m\u001b[0;34m[\u001b[0m\u001b[0mmatch\u001b[0m\u001b[0;34m.\u001b[0m\u001b[0mb\u001b[0m\u001b[0;34m:\u001b[0m\u001b[0mmatch\u001b[0m\u001b[0;34m.\u001b[0m\u001b[0mb\u001b[0m \u001b[0;34m+\u001b[0m \u001b[0mmatch\u001b[0m\u001b[0;34m.\u001b[0m\u001b[0msize\u001b[0m\u001b[0;34m]\u001b[0m\u001b[0;34m\u001b[0m\u001b[0;34m\u001b[0m\u001b[0m\n",
      "\u001b[0;32m<ipython-input-64-046cde53f293>\u001b[0m in \u001b[0;36mget_effecitve_match_source\u001b[0;34m(s, start, end)\u001b[0m\n\u001b[1;32m     32\u001b[0m     \u001b[0m_start\u001b[0m \u001b[0;34m=\u001b[0m \u001b[0;34m-\u001b[0m\u001b[0;36m1\u001b[0m\u001b[0;34m\u001b[0m\u001b[0;34m\u001b[0m\u001b[0m\n\u001b[1;32m     33\u001b[0m \u001b[0;34m\u001b[0m\u001b[0m\n\u001b[0;32m---> 34\u001b[0;31m     \u001b[0;32mfor\u001b[0m \u001b[0mi\u001b[0m \u001b[0;32min\u001b[0m \u001b[0mrange\u001b[0m\u001b[0;34m(\u001b[0m\u001b[0mstart\u001b[0m\u001b[0;34m,\u001b[0m \u001b[0mstart\u001b[0m \u001b[0;34m-\u001b[0m \u001b[0;36m2\u001b[0m\u001b[0;34m,\u001b[0m \u001b[0;34m-\u001b[0m\u001b[0;36m1\u001b[0m\u001b[0;34m)\u001b[0m\u001b[0;34m:\u001b[0m\u001b[0;34m\u001b[0m\u001b[0;34m\u001b[0m\u001b[0m\n\u001b[0m\u001b[1;32m     35\u001b[0m         \u001b[0;32mif\u001b[0m \u001b[0mi\u001b[0m \u001b[0;34m<\u001b[0m \u001b[0;36m0\u001b[0m\u001b[0;34m:\u001b[0m\u001b[0;34m\u001b[0m\u001b[0;34m\u001b[0m\u001b[0m\n\u001b[1;32m     36\u001b[0m             \u001b[0m_start\u001b[0m \u001b[0;34m=\u001b[0m \u001b[0mi\u001b[0m \u001b[0;34m+\u001b[0m \u001b[0;36m1\u001b[0m\u001b[0;34m\u001b[0m\u001b[0;34m\u001b[0m\u001b[0m\n",
      "\u001b[0;31mKeyboardInterrupt\u001b[0m: "
     ]
    }
   ],
   "source": [
    "upper_question = []\n",
    "\n",
    "def upper_transform_question(question, table_id):\n",
    "    question = question.lower()\n",
    "    target_table = search_table(table, table_id)\n",
    "\n",
    "    header = target_table['header']\n",
    "    rows = list(chain(*target_table['rows']))\n",
    "    rows.extend(header)\n",
    "\n",
    "    # find link btw question and values\n",
    "    matches = get_matched_entries(question, rows)\n",
    "    # if match exists, transform the matches to UPPER\n",
    "    if matches != None:\n",
    "        matches = [m[0].lower() for m in matches]\n",
    "\n",
    "        for match in matches:\n",
    "            if match in question:\n",
    "                question = upper_transform(question, match)\n",
    "        print('match')\n",
    "        print(q)\n",
    "    else:\n",
    "        print(q)    \n",
    "\n",
    "\n",
    "\n",
    "for q, t_id in zip(question, table_id):\n",
    "    print(q, t_id)\n",
    "    q = q.lower()\n",
    "    # search table with table id\n",
    "    target_table = search_table(table, t_id)\n",
    "\n",
    "    # get table header and rows / add header to rows\n",
    "    header = target_table['header']\n",
    "    rows = list(chain(*target_table['rows']))\n",
    "    rows.extend(header)\n",
    "\n",
    "    # find link btw question and values\n",
    "    matches = get_matched_entries(q, rows)\n",
    "    # if match exists, transform the matches to UPPER\n",
    "    if matches != None:\n",
    "        matches = [m[0].lower() for m in matches]\n",
    "\n",
    "        for match in matches:\n",
    "            if match in q:\n",
    "                q = upper_transform(q, match)\n",
    "    else:\n",
    "        print(q)    \n",
    "    # print(q)\n",
    "\n",
    "#     upper_question.append(q)\n",
    "\n",
    "# question_df = pd.DataFrame({'question':upper_question})"
   ]
  },
  {
   "cell_type": "code",
   "execution_count": 62,
   "metadata": {},
   "outputs": [
    {
     "output_type": "execute_result",
     "data": {
      "text/plain": [
       "[('South Australia', ('South Australia', 'South Australia', 1.0, 1.0, 15)),\n",
       " ('SOUTH AUSTRALIA', ('SOUTH AUSTRALIA', 'South Australia', 1.0, 1.0, 15)),\n",
       " ('Notes', ('Notes', 'notes', 1.0, 1.0, 5))]"
      ]
     },
     "metadata": {},
     "execution_count": 62
    }
   ],
   "source": [
    "get_matched_entries('Tell me what the notes are for South Australia', list(chain([\"State/territory\", \"Text/background colour\", \"Format\", \"Current slogan\", \"Current series\", \"Notes\"], [\"Australian Capital Territory\", \"blue/white\", \"Yaa\\u00b7nna\", \"ACT \\u00b7 CELEBRATION OF A CENTURY 2013\", \"YIL\\u00b700A\", \"Slogan screenprinted on plate\"], [\"New South Wales\", \"black/yellow\", \"aa\\u00b7nn\\u00b7aa\", \"NEW SOUTH WALES\", \"BX\\u00b799\\u00b7HI\", \"No slogan on current series\"], [\"New South Wales\", \"black/white\", \"aaa\\u00b7nna\", \"NSW\", \"CPX\\u00b712A\", \"Optional white slimline series\"], [\"Northern Territory\", \"ochre/white\", \"Ca\\u00b7nn\\u00b7aa\", \"NT \\u00b7 OUTBACK AUSTRALIA\", \"CB\\u00b706\\u00b7ZZ\", \"New series began in June 2011\"], [\"Queensland\", \"maroon/white\", \"nnn\\u00b7aaa\", \"QUEENSLAND \\u00b7 SUNSHINE STATE\", \"999\\u00b7TLG\", \"Slogan embossed on plate\"], [\"South Australia\", \"black/white\", \"Snnn\\u00b7aaa\", \"SOUTH AUSTRALIA\", \"S000\\u00b7AZD\", \"No slogan on current series\"], [\"Victoria\", \"blue/white\", \"aaa\\u00b7nnn\", \"VICTORIA - THE PLACE TO BE\", \"ZZZ\\u00b7562\", \"Current series will be exhausted this year\"])))"
   ]
  },
  {
   "source": [
    "* 하나의 Question이 있을 때,\n",
    "* 해당 Question의 Table을 찾고\n",
    "* Question과 Table의 동일한 Element를 찾아\n",
    "* "
   ],
   "cell_type": "markdown",
   "metadata": {}
  },
  {
   "cell_type": "code",
   "execution_count": null,
   "metadata": {},
   "outputs": [],
   "source": []
  },
  {
   "cell_type": "code",
   "execution_count": 19,
   "metadata": {},
   "outputs": [
    {
     "output_type": "stream",
     "name": "stdout",
     "text": [
      "Defaulting to user installation because normal site-packages is not writeable\n",
      "Collecting soynlp\n",
      "  Downloading soynlp-0.0.493-py3-none-any.whl (416 kB)\n",
      "\u001b[K     |████████████████████████████████| 416 kB 1.8 MB/s \n",
      "\u001b[?25hRequirement already satisfied: numpy>=1.12.1 in /usr/local/lib/python3.6/dist-packages (from soynlp) (1.19.2)\n",
      "Requirement already satisfied: psutil>=5.0.1 in /home/hoonst/.local/lib/python3.6/site-packages (from soynlp) (5.8.0)\n",
      "Requirement already satisfied: scipy>=1.1.0 in /usr/local/lib/python3.6/dist-packages (from soynlp) (1.5.4)\n",
      "Requirement already satisfied: scikit-learn>=0.20.0 in /usr/local/lib/python3.6/dist-packages (from soynlp) (0.23.2)\n",
      "Requirement already satisfied: joblib>=0.11 in /usr/local/lib/python3.6/dist-packages (from scikit-learn>=0.20.0->soynlp) (1.0.0)\n",
      "Requirement already satisfied: threadpoolctl>=2.0.0 in /usr/local/lib/python3.6/dist-packages (from scikit-learn>=0.20.0->soynlp) (2.1.0)\n",
      "Installing collected packages: soynlp\n",
      "Successfully installed soynlp-0.0.493\n"
     ]
    }
   ],
   "source": [
    "!pip install soynlp"
   ]
  },
  {
   "cell_type": "code",
   "execution_count": null,
   "metadata": {},
   "outputs": [],
   "source": []
  }
 ]
}