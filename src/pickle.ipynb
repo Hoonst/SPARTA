{
 "cells": [
  {
   "cell_type": "code",
   "execution_count": 9,
   "metadata": {},
   "outputs": [],
   "source": [
    "import os \n",
    "import sys\n",
    "sys.path.append(os.path.dirname(os.path.abspath(os.path.dirname('__file__'))))"
   ]
  },
  {
   "cell_type": "code",
   "execution_count": 2,
   "metadata": {},
   "outputs": [],
   "source": [
    "from transformers import BertModel"
   ]
  },
  {
   "cell_type": "code",
   "execution_count": 3,
   "metadata": {},
   "outputs": [],
   "source": [
    "import torch\n",
    "from kobert_transformers import get_kobert_model\n",
    "from kobert_transformers import get_tokenizer"
   ]
  },
  {
   "cell_type": "code",
   "execution_count": 4,
   "metadata": {},
   "outputs": [
    {
     "output_type": "display_data",
     "data": {
      "text/plain": "HBox(children=(IntProgress(value=0, description='Downloading', max=371391, style=ProgressStyle(description_wid…",
      "application/vnd.jupyter.widget-view+json": {
       "version_major": 2,
       "version_minor": 0,
       "model_id": "f53245ad34dd49828cd590a20893a529"
      }
     },
     "metadata": {}
    },
    {
     "output_type": "stream",
     "name": "stdout",
     "text": [
      "\n"
     ]
    },
    {
     "output_type": "display_data",
     "data": {
      "text/plain": "HBox(children=(IntProgress(value=0, description='Downloading', max=77779, style=ProgressStyle(description_widt…",
      "application/vnd.jupyter.widget-view+json": {
       "version_major": 2,
       "version_minor": 0,
       "model_id": "f16d4d9fb7e34357b1f0da5f1ed5538c"
      }
     },
     "metadata": {}
    },
    {
     "output_type": "stream",
     "name": "stdout",
     "text": [
      "\n"
     ]
    },
    {
     "output_type": "display_data",
     "data": {
      "text/plain": "HBox(children=(IntProgress(value=0, description='Downloading', max=51, style=ProgressStyle(description_width='…",
      "application/vnd.jupyter.widget-view+json": {
       "version_major": 2,
       "version_minor": 0,
       "model_id": "866ba23b350d4938b30e0150518dd36e"
      }
     },
     "metadata": {}
    },
    {
     "output_type": "stream",
     "name": "stdout",
     "text": [
      "\n"
     ]
    },
    {
     "output_type": "execute_result",
     "data": {
      "text/plain": [
       "['[CLS]', '▁한국', '어', '▁모델', '을', '▁공유', '합니다', '.', '[SEP]']"
      ]
     },
     "metadata": {},
     "execution_count": 4
    }
   ],
   "source": [
    "tokenizer = get_tokenizer()\n",
    "tokenizer.tokenize(\"[CLS] 한국어 모델을 공유합니다. [SEP]\")"
   ]
  },
  {
   "cell_type": "code",
   "execution_count": 5,
   "metadata": {},
   "outputs": [],
   "source": [
    "import sqlite3"
   ]
  },
  {
   "cell_type": "code",
   "execution_count": 38,
   "metadata": {},
   "outputs": [],
   "source": [
    "con = sqlite3.connect('/repo/TabularSemanticParsing/data/wikisql1.1/dev.db')"
   ]
  },
  {
   "cell_type": "code",
   "execution_count": 39,
   "metadata": {},
   "outputs": [],
   "source": [
    "cur = con.cursor()"
   ]
  },
  {
   "cell_type": "code",
   "execution_count": null,
   "metadata": {},
   "outputs": [],
   "source": []
  },
  {
   "cell_type": "code",
   "execution_count": 42,
   "metadata": {},
   "outputs": [
    {
     "output_type": "execute_result",
     "data": {
      "text/plain": [
       "<sqlite3.Cursor at 0x7fefb8b54b90>"
      ]
     },
     "metadata": {},
     "execution_count": 42
    }
   ],
   "source": [
    "cur.execute(\"SELECT name FROM sqlite_master WHERE type='table'\")"
   ]
  },
  {
   "cell_type": "code",
   "execution_count": 43,
   "metadata": {
    "tags": [
     "outputPrepend"
    ]
   },
   "outputs": [
    {
     "output_type": "stream",
     "name": "stdout",
     "text": [
      "41438_1',), ('table_2_1604842_1',), ('table_2_1604940_12',), ('table_2_16050349_10',), ('table_2_16050349_14',), ('table_2_16050349_6',), ('table_2_160510_5',), ('table_2_16056990_12',), ('table_2_16066729_1',), ('table_2_16067721_1',), ('table_2_16070554_1',), ('table_2_16078390_1',), ('table_2_1608306_4',), ('table_2_16090138_1',), ('table_2_160994_2',), ('table_2_16100029_2',), ('table_2_16100029_3',), ('table_2_1610301_1',), ('table_2_1615758_2',), ('table_2_16181680_3',), ('table_2_16183862_1',), ('table_2_16185580_1',), ('table_2_1618638_2',), ('table_2_16194551_5',), ('table_2_161972_2',), ('table_2_161972_6',), ('table_2_16215078_1',), ('table_2_162342_2',), ('table_2_16234974_1',), ('table_2_16236714_2',), ('table_2_1625631_1',), ('table_2_1625862_8',), ('table_2_16270492_2',), ('table_2_16275569_1',), ('table_2_16279834_3',), ('table_2_1628307_5',), ('table_2_16285899_1',), ('table_2_1629086_5',), ('table_2_16292316_4',), ('table_2_16293403_29',), ('table_2_16295105_1',), ('table_2_16296982_1',), ('table_2_16299161_2',), ('table_2_16299790_3',), ('table_2_16301437_1',), ('table_2_16311967_3',), ('table_2_16316920_1',), ('table_2_1631887_4',), ('table_2_16340209_1',), ('table_2_163464_3',), ('table_2_16352467_1',), ('table_2_1635723_1',), ('table_2_16366700_1',), ('table_2_1636806_2',), ('table_2_1637041_2',), ('table_2_16380510_1',), ('table_2_16388316_1',), ('table_2_16388478_4',), ('table_2_1639306_2',), ('table_2_1639306_3',), ('table_2_16395908_3',), ('table_2_16400024_5',), ('table_2_16403980_2',), ('table_2_16404058_1',), ('table_2_16404058_2',), ('table_2_16404968_31',), ('table_2_16405998_1',), ('table_2_16406423_2',), ('table_2_16406736_1',), ('table_2_1641457_2',), ('table_2_16435448_4',), ('table_2_16435990_19',), ('table_2_16449896_1',), ('table_2_16454477_12',), ('table_2_16457250_2',), ('table_2_16457250_7',), ('table_2_16457934_5',), ('table_2_1646586_3',), ('table_2_1646960_3',), ('table_2_16471432_4',), ('table_2_16472331_7',), ('table_2_16494005_1',), ('table_2_16494599_2',), ('table_2_16507549_1',), ('table_2_16514575_5',), ('table_2_16514575_7',), ('table_2_16518708_16',), ('table_2_16518708_4',), ('table_2_16549823_7',), ('table_2_16561399_2',), ('table_2_16566850_11',), ('table_2_16575609_4',), ('table_2_16578883_1',), ('table_2_1658421_3',), ('table_2_1658720_2',), ('table_2_16593943_13',), ('table_2_16603208_1',), ('table_2_16605179_2',), ('table_2_16610571_1',), ('table_2_166170_5',), ('table_2_16618361_3',), ('table_2_16623550_1',), ('table_2_16623894_6',), ('table_2_1662630_5',), ('table_2_16636833_1',), ('table_2_16637278_1',), ('table_2_16640814_6',), ('table_2_16642318_1',), ('table_2_16642773_2',), ('table_2_16646567_1',), ('table_2_16649537_6',), ('table_2_16649605_5',), ('table_2_16649811_5',), ('table_2_16653153_11',), ('table_2_16653153_15',), ('table_2_16653153_33',), ('table_2_16658270_1',), ('table_2_16660939_1',), ('table_2_1666604_1',), ('table_2_16668557_1',), ('table_2_16670746_2',), ('table_2_16677990_2',), ('table_2_16678103_2',), ('table_2_16678191_2',), ('table_2_16678530_2',), ('table_2_167051_1',), ('table_2_16707879_10',), ('table_2_16710910_2',), ('table_2_16710944_2',), ('table_2_16710987_1',), ('table_2_16712547_1',), ('table_2_1671401_3',), ('table_2_16729076_1',), ('table_2_16729457_18',), ('table_2_1673723_10',), ('table_2_16741821_9',), ('table_2_16746295_4',), ('table_2_16751596_5',), ('table_2_1676073_12',), ('table_2_16764708_1',), ('table_2_16764781_3',), ('table_2_16765033_2',), ('table_2_16768514_21',), ('table_2_1677211_1',), ('table_2_16772687_12',), ('table_2_16772687_18',), ('table_2_16772687_19',), ('table_2_16772687_5',), ('table_2_16773359_1',), ('table_2_16776312_6',), ('table_2_16778576_2',), ('table_2_16783007_1',), ('table_2_16785053_2',), ('table_2_16785055_1',), ('table_2_16791908_1',), ('table_2_16792415_2',), ('table_2_16795570_1',), ('table_2_16799784_8',), ('table_2_1682026_5',), ('table_2_16823523_11',), ('table_2_16825334_1',), ('table_2_16827273_1',), ('table_2_16831299_2',), ('table_2_16832887_1',), ('table_2_16845107_1',), ('table_2_16845634_1',), ('table_2_16846_6',), ('table_2_16850008_1',), ('table_2_16850796_1',), ('table_2_16864441_1',), ('table_2_16882018_1',), ('table_2_16882190_2',), ('table_2_16885554_4',), ('table_2_16894271_5',), ('table_2_16899_3',), ('table_2_16899309_5',), ('table_2_16912096_4',), ('table_2_16912145_1',), ('table_2_16920816_1',), ('table_2_16927321_6',), ('table_2_16931017_2',), ('table_2_169320_1',), ('table_2_16933845_1',), ('table_2_16946097_4',), ('table_2_16946425_1',), ('table_2_16948973_2',), ('table_2_16950053_1',), ('table_2_169741_3',), ('table_2_16977283_2',), ('table_2_16981801_2',), ('table_2_16981858_6',), ('table_2_16982965_2',), ('table_2_16982973_1',), ('table_2_16993379_1',), ('table_2_17004028_3',), ('table_2_17004128_3',), ('table_2_17008475_1',), ('table_2_17029703_3',), ('table_2_17032393_2',), ('table_2_170325_2',), ('table_2_17034845_3',), ('table_2_17035268_2',), ('table_2_17035864_1',), ('table_2_17038035_2',), ('table_2_17040191_8',), ('table_2_17042893_14',), ('table_2_17054550_2',), ('table_2_17056450_5',), ('table_2_17058287_1',), ('table_2_17058843_1',), ('table_2_17064229_1',), ('table_2_17064796_4',), ('table_2_17064796_5',), ('table_2_17064840_4',), ('table_2_17064870_8',), ('table_2_17065454_3',), ('table_2_17069469_2',), ('table_2_17080868_5',), ('table_2_17090201_1',), ('table_2_17093305_1',), ('table_2_17093372_4',), ('table_2_17093870_5',), ('table_2_17100961_17',), ('table_2_17100961_24',), ('table_2_17100961_26',), ('table_2_17100961_31',), ('table_2_17100961_36',), ('table_2_17100961_41',), ('table_2_17100961_48',), ('table_2_17100961_53',), ('table_2_17100961_56',), ('table_2_17100961_58',), ('table_2_17100961_60',), ('table_2_17100961_76',), ('table_2_17101496_4',), ('table_2_171019_1',), ('table_2_17102115_3',), ('table_2_17103645_12',), ('table_2_17104677_8',), ('table_2_17104991_4',), ('table_2_1711074_2',), ('table_2_17115722_6',), ('table_2_17116064_4',), ('table_2_17118657_7',), ('table_2_171200_2',), ('table_2_17120059_4',), ('table_2_17120964_10',), ('table_2_17121661_6',), ('table_2_17121669_6',), ('table_2_171222_2',), ('table_2_171229_2',), ('table_2_171236_2',), ('table_2_1712496_1',), ('table_2_17128242_6',), ('table_2_17129364_2',), ('table_2_171354_2',), ('table_2_171361_1',), ('table_2_171368_2',), ('table_2_17139590_1',), ('table_2_17139989_1',), ('table_2_17142454_4',), ('table_2_17161431_5',), ('table_2_17162128_7',), ('table_2_17162166_2',), ('table_2_17162179_1',), ('table_2_17162228_5',), ('table_2_17162255_3',), ('table_2_17162255_5',), ('table_2_17167467_3',), ('table_2_171680_1',), ('table_2_17169170_4',), ('table_2_171692_1',), ('table_2_1717109_5',), ('table_2_17175240_1',), ('table_2_17185248_1',), ('table_2_17190012_5',), ('table_2_17190012_8',), ('table_2_17190456_3',), ('table_2_1720632_2',), ('table_2_17210476_5',), ('table_2_17214300_1',), ('table_2_17214919_2',), ('table_2_1721801_3',), ('table_2_17223835_2',), ('table_2_17226349_1',), ('table_2_17231125_1',), ('table_2_17231211_4',), ('table_2_17231232_4',), ('table_2_17231232_6',), ('table_2_17231246_2',), ('table_2_17231267_1',), ('table_2_17231351_3',), ('table_2_17231351_6',), ('table_2_1723516_10',), ('table_2_1723582_6',), ('table_2_1723582_8',), ('table_2_17239112_7',), ('table_2_17239180_1',), ('table_2_17244483_1',), ('table_2_17245444_4',), ('table_2_17245527_6',), ('table_2_17248696_5',), ('table_2_17262467_2',), ('table_2_17264629_1',), ('table_2_17269395_6',), ('table_2_17271235_3',), ('table_2_17273336_12',), ('table_2_17275_1',), ('table_2_17277086_1',), ('table_2_17277086_3',), ('table_2_17277086_5',), ('table_2_17277136_1',), ('table_2_17277219_4',), ('table_2_17277237_1',), ('table_2_17277237_3',), ('table_2_1727920_1',), ('table_2_17282079_3',), ('table_2_17285433_3',), ('table_2_17286713_2',), ('table_2_17287870_1',), ('table_2_17288845_6',), ('table_2_17288861_6',), ('table_2_17288869_5',), ('table_2_17290150_7',), ('table_2_17290169_4',), ('table_2_17290216_1',), ('table_2_17290223_1',), ('table_2_17292579_3',), ('table_2_17299309_2',), ('table_2_17299309_4',), ('table_2_1730771_1',), ('table_2_1730774_6',), ('table_2_173082_3',), ('table_2_17308321_1',), ('table_2_17309500_1',), ('table_2_17310913_4',), ('table_2_17310913_5',), ('table_2_17311417_6',), ('table_2_17311466_5',), ('table_2_17311759_6',), ('table_2_17311797_10',), ('table_2_17311797_14',), ('table_2_1731607_1',), ('table_2_17323267_2',), ('table_2_17323351_4',), ('table_2_17323360_4',), ('table_2_17323912_2',), ('table_2_1732466_42',), ('table_2_17324788_5',), ('table_2_17325937_5',), ('table_2_1732978_1',), ('table_2_1733457_1',), ('table_2_17335602_1',), ('table_2_17337726_62',), ('table_2_17338813_8',), ('table_2_17344582_9',), ('table_2_17355716_7',), ('table_2_17357472_1',), ('table_2_17357560_1',), ('table_2_17360840_4',), ('table_2_17360840_6',), ('table_2_17360905_20',), ('table_2_17361223_1',), ('table_2_17371250_13',), ('table_2_17378237_2',), ('table_2_17382360_10',), ('table_2_17382360_7',), ('table_2_17382360_8',), ('table_2_17382411_6',), ('table_2_17382981_2',), ('table_2_17384746_3',), ('table_2_1738964_1',), ('table_2_174003_1',), ('table_2_17404333_1',), ('table_2_17407017_2',), ('table_2_1740913_1',), ('table_2_17409365_1',), ('table_2_17409365_3',), ('table_2_17412873_11',), ('table_2_17413485_1',), ('table_2_1741728_5',), ('table_2_17430068_1',), ('table_2_17430092_7',), ('table_2_17430115_1',), ('table_2_17430257_1',), ('table_2_17433882_2',), ('table_2_17437287_3',), ('table_2_17438349_6',), ('table_2_17440434_2',), ('table_2_17440483_6',), ('table_2_17440650_2',), ('table_2_17443117_2',), ('table_2_17444611_1',), ('table_2_17445288_2',), ('table_2_17445847_2',), ('table_2_17449461_4',), ('table_2_1745717_2',), ('table_2_17463957_2',), ('table_2_17472859_2',), ('table_2_17480962_2',), ('table_2_17503189_1',), ('table_2_17511295_17',), ('table_2_17511295_6',), ('table_2_17511295_9',), ('table_2_17514226_1',), ('table_2_1752264_1',), ('table_2_17524651_3',), ('table_2_17524651_4',), ('table_2_17525117_2',), ('table_2_17525955_2',), ('table_2_17538072_1',), ('table_2_17538810_9',), ('table_2_17543955_4',), ('table_2_17562992_3',), ('table_2_17573987_1',), ('table_2_17577104_1',), ('table_2_17577133_7',), ('table_2_17584390_1',), ('table_2_17587775_4',), ('table_2_17591791_1',), ('table_2_17599495_3',), ('table_2_17601760_1',), ('table_2_17607736_2',), ('table_2_17608125_6',), ('table_2_17608926_6',), ('table_2_17610737_2',), ('table_2_17610752_1',), ('table_2_17614618_2',), ('table_2_17617561_2',), ('table_2_1761786_1',), ('table_2_17620547_6',), ('table_2_17622423_12',), ('table_2_17622423_4',), ('table_2_17624408_2',), ('table_2_17625749_1',), ('table_2_17626681_7',), ('table_2_17631598_2',), ('table_2_1763266_9',), ('table_2_17634218_8',), ('table_2_17634218_9',), ('table_2_17636704_1',), ('table_2_17637180_2',), ('table_2_17637370_13',), ('table_2_17643221_2',), ('table_2_17650725_1',), ('table_2_176524_2',), ('table_2_1765243_3',), ('table_2_17653342_1',), ('table_2_17660359_11',), ('table_2_17678435_11',), ('table_2_17679324_9',), ('table_2_17692084_2',), ('table_2_17693482_2',), ('table_2_1769428_2',), ('table_2_17695272_4',), ('table_2_17702976_1',), ('table_2_17703223_3',), ('table_2_17716055_2',), ('table_2_1771935_1',), ('table_2_17720042_1',), ('table_2_17733765_5',), ('table_2_1773647_1',), ('table_2_17746037_19',), ('table_2_17746037_3',), ('table_2_17751803_3',), ('table_2_17751846_3',), ('table_2_17751851_1',), ('table_2_17751859_4',), ('table_2_1775470_1',), ('table_2_17757354_2',), ('table_2_17759945_4',), ('table_2_17759945_6',), ('table_2_17759945_8',), ('table_2_17760670_2',), ('table_2_17769769_3',), ('table_2_17774593_9',), ('table_2_17775406_1',), ('table_2_17776244_2',), ('table_2_17776244_3',), ('table_2_17781949_5',), ('table_2_17785973_1',), ('table_2_177860_3',), ('table_2_17786346_1',), ('table_2_17794738_4',), ('table_2_17798093_20',), ('table_2_17798130_9',), ('table_2_1780045_1',), ('table_2_17814458_1',), ('table_2_17822_4',), ('table_2_17822529_2',), ('table_2_17822543_4',), ('table_2_17837478_4',), ('table_2_17837782_4',), ('table_2_17837800_1',), ('table_2_17838670_5',), ('table_2_17840109_1',), ('table_2_17840654_3',), ('table_2_17860791_2',), ('table_2_1786641_1',), ('table_2_17870625_1',), ('table_2_1787654_4',), ('table_2_17881033_1',), ('table_2_17900687_1',), ('table_2_17907102_4',), ('table_2_1790790_1',), ('table_2_1791243_1',), ('table_2_17918213_3',), ('table_2_17919342_1',), ('table_2_17922541_1',), ('table_2_1792333_1',), ('table_2_179348_2',), ('table_2_17937080_4',), ('table_2_17937080_9',), ('table_2_17940740_2',), ('table_2_17941795_4',), ('table_2_17950516_6',), ('table_2_1795208_8',), ('table_2_17968229_5',), ('table_2_17968233_2',), ('table_2_17968277_1',), ('table_2_17968292_5',), ('table_2_17968300_6',), ('table_2_17978030_1',), ('table_2_17982197_8',), ('table_2_17982205_4',), ('table_2_17986709_4',), ('table_2_17991748_7',), ('table_2_17991902_2',), ('table_2_17993994_10',), ('table_2_17997366_2',), ('table_2_1799800_1',), ('table_2_1800293_3',), ('table_2_18004363_1',), ('table_2_18005521_2',), ('table_2_18005917_1',), ('table_2_18007091_1',), ('table_2_18007222_6',), ('table_2_18009462_6',), ('table_2_18009787_2',), ('table_2_18017216_2',), ('table_2_18017216_4',), ('table_2_18017347_3',), ('table_2_1802173_1',), ('table_2_180234_1',), ('table_2_18026409_8',), ('table_2_18026889_5',), ('table_2_18026889_6',), ('table_2_18027810_4',), ('table_2_18036726_4',), ('table_2_18044375_6',), ('table_2_18047346_1',), ('table_2_18049082_5',), ('table_2_1805191_14',), ('table_2_1805191_18',), ('table_2_1805191_21',), ('table_2_1805191_38',), ('table_2_18054397_14',), ('table_2_18054397_15',), ('table_2_18058018_9',), ('table_2_18060467_7',), ('table_2_1806210_10',), ('table_2_18065287_2',), ('table_2_18073616_2',), ('table_2_18077237_15',), ('table_2_18078011_2',), ('table_2_18081953_1',), ('table_2_18082586_5',), ('table_2_18097219_7',), ('table_2_18098292_5',), ('table_2_18102742_1',), ('table_2_1810336_1',), ('table_2_18113463_3',), ('table_2_18113463_4',), ('table_2_18113463_5',), ('table_2_18116279_2',), ('table_2_18116279_3',), ('table_2_18116595_3',), ('table_2_18120476_1',), ('table_2_18131508_2',), ('table_2_18133211_2',), ('table_2_18135501_1',), ('table_2_18137936_2',), ('table_2_18139722_2',), ('table_2_18150723_4',), ('table_2_18153721_7',), ('table_2_18160020_12',), ('table_2_18168735_1',), ('table_2_1816947_2',), ('table_2_18170681_7',), ('table_2_18170681_8',), ('table_2_18170886_1',), ('table_2_18174910_8',), ('table_2_18178534_2',), ('table_2_18178534_4',), ('table_2_18178534_5',), ('table_2_18178534_6',), ('table_2_18178870_1',), ('table_2_18182309_2',), ('table_2_18185973_2',), ('table_2_1818751_2',), ('table_2_18188607_5',), ('table_2_1818951_3',), ('table_2_18191407_16',), ('table_2_18191407_2',), ('table_2_18204624_1',), ('table_2_18207272_2',), ('table_2_1821178_1',), ('table_2_18220834_1',), ('table_2_18223138_1',), ('table_2_18223138_3',), ('table_2_18226024_3',), ('table_2_18226024_5',), ('table_2_18226024_7',), ('table_2_182410_7',), ('table_2_1824778_2',), ('table_2_182499_1',), ('table_2_18259953_4',), ('table_2_18278508_3',), ('table_2_18279844_2',), ('table_2_18283614_1',), ('table_2_1828549_1',), ('table_2_18289217_8',), ('table_2_1828926_1',), ('table_2_18292491_1',), ('table_2_1830541_1',), ('table_2_18313582_1',), ('table_2_18315735_2',), ('table_2_18324411_5',), ('table_2_18332170_1',), ('table_2_18339377_4',), ('table_2_183628_10',), ('table_2_18379129_3',), ('table_2_18385965_3',), ('table_2_18394791_5',), ('table_2_18394824_6',), ('table_2_18395166_2',), ('table_2_18402956_3',), ('table_2_18409087_7',), ('table_2_18409276_1',), ('table_2_18420030_1',), ('table_2_18426579_1',), ('table_2_18433136_3',), ('table_2_18444214_1',), ('table_2_18454234_3',), ('table_2_18467775_1',), ('table_2_18472494_2',), ('table_2_18484319_8',), ('table_2_18493040_4',), ('table_2_18493143_4',), ('table_2_18493740_3',), ('table_2_18499677_5',), ('table_2_18499964_1',), ('table_2_18504892_1',), ('table_2_1851542_3',), ('table_2_1851722_25',), ('table_2_1851722_51',), ('table_2_1851722_55',), ('table_2_18517912_2',), ('table_2_18524_3',), ('table_2_1852630_11',), ('table_2_185272_2',), ('table_2_1853235_2',), ('table_2_18539861_4',), ('table_2_18547818_2',), ('table_2_18566436_1',), ('table_2_18569011_13',), ('table_2_18569011_6',), ('table_2_18569011_8',), ('table_2_18569105_3',), ('table_2_18569131_3',), ('table_2_18569929_4',), ('table_2_18572696_1',), ('table_2_18578971_3',), ('table_2_18579281_5',), ('table_2_18591990_3',), ('table_2_18593648_10',), ('table_2_18593648_8',), ('table_2_18600121_2',), ('table_2_18600760_12',), ('table_2_18600829_4',), ('table_2_18603914_4',), ('table_2_18620528_2',), ('table_2_18620528_4',), ('table_2_18620528_7',), ('table_2_18621456_22',), ('table_2_1862384_1',), ('table_2_18624168_2',), ('table_2_18624773_3',), ('table_2_18625461_4',), ('table_2_18625479_5',), ('table_2_18626383_2',), ('table_2_18628670_2',), ('table_2_18628904_16',), ('table_2_18628904_18',), ('table_2_18628904_23',), ('table_2_18632367_4',), ('table_2_1864289_5',), ('table_2_18646220_5',), ('table_2_18649514_6',), ('table_2_18649514_7',), ('table_2_18652198_1',), ('table_2_18657589_2',), ('table_2_18657589_6',), ('table_2_18662026_6',), ('table_2_18662028_6',), ('table_2_18662083_1',), ('table_2_18662643_11',), ('table_2_18662643_16',), ('table_2_18662673_3',), ('table_2_18662685_12',), ('table_2_18662685_3',), ('table_2_18662689_3',), ('table_2_18662695_11',), ('table_2_18662700_4',), ('table_2_18666541_3',), ('table_2_1867069_1',), ('table_2_1867831_1',), ('table_2_18686317_1',), ('table_2_18690306_3',), ('table_2_18692014_7',), ('table_2_18697186_1',), ('table_2_18703579_4',), ('table_2_18704095_2',), ('table_2_18706426_1',), ('table_2_18707612_2',), ('table_2_18711843_4',), ('table_2_18711843_5',), ('table_2_18714684_2',), ('table_2_18719696_11',), ('table_2_1871974_3',), ('table_2_18729407_6',), ('table_2_18730658_4',), ('table_2_18732372_1',), ('table_2_18733329_1',), ('table_2_18733362_1',), ('table_2_18744745_2',), ('table_2_18750429_4',), ('table_2_1876262_3',), ('table_2_1876262_5',), ('table_2_1876262_6',), ('table_2_18765652_1',), ('table_2_18771190_15',), ('table_2_18772558_3',), ('table_2_18772558_4',), ('table_2_18782055_2',), ('table_2_18788871_4',), ('table_2_18792948_1',), ('table_2_18792948_4',), ('table_2_18792948_6',), ('table_2_18792950_1',), ('table_2_18792950_3',), ('table_2_18802185_4',), ('table_2_18807607_2',), ('table_2_1881174_1',), ('table_2_18811741_16',), ('table_2_18814912_4',), ('table_2_18821998_1',), ('table_2_18826487_1',), ('table_2_18842986_2',), ('table_2_18843333_2',), ('table_2_18843924_4',), ('table_2_18847456_1',), ('table_2_18862490_2',), ('table_2_18866859_6',), ('table_2_18868206_3',), ('table_2_18871102_3',), ('table_2_18874135_1',), ('table_2_18880018_2',), ('table_2_1888577_1',), ('table_2_18896497_2',), ('table_2_18903697_1',), ('table_2_18908350_2',), ('table_2_18910203_1',), ('table_2_18918776_12',), ('table_2_18921118_1',), ('table_2_18934662_7',), ('table_2_18936986_3',), ('table_2_18938150_1',), ('table_2_1893924_6',), ('table_2_18942275_1',), ('table_2_18942405_10',), ('table_2_18942405_11',), ('table_2_18942405_8',), ('table_2_18943_1',), ('table_2_18943807_1',), ('table_2_18947170_7',), ('table_2_18951015_2',), ('table_2_18963843_1',), ('table_2_18964684_2',), ('table_2_18965848_4',), ('table_2_18977789_1',), ('table_2_18982988_2',), ('table_2_18986759_1',), ('table_2_18987481_4',), ('table_2_18987966_12',), ('table_2_18987966_7',), ('table_2_18987966_8',), ('table_2_18988532_1',), ('table_2_18993396_1',), ('table_2_18999963_3',), ('table_2_19000748_1',), ('table_2_19000872_1',), ('table_2_19001175_2',), ('table_2_19004438_1',)]\n"
     ]
    }
   ],
   "source": [
    "print(cur.fetchall())"
   ]
  },
  {
   "cell_type": "code",
   "execution_count": 46,
   "metadata": {},
   "outputs": [
    {
     "output_type": "stream",
     "name": "stdout",
     "text": [
      "('johnny miller', 'united states', '1973', 282.0, 2.0, 't4')\n('hale irwin', 'united states', '1974 , 1979', 284.0, 4.0, '6')\n('lee trevino', 'united states', '1968 , 1971', 286.0, 6.0, 't9')\n('tom watson', 'united states', '1982', 287.0, 7.0, 't11')\n('david graham', 'australia', '1981', 287.0, 7.0, 't11')\n('jack nicklaus', 'united states', '1962 , 1967 , 1972 , 1980', 289.0, 9.0, 't21')\n('hubert green', 'united states', '1977', 291.0, 11.0, 't30')\n('gary player', 'south africa', '1965', 294.0, 14.0, 't43')\n"
     ]
    }
   ],
   "source": [
    "for row in cur.execute('SELECT * FROM table_2_17231267_1'):\n",
    "    print(row)"
   ]
  },
  {
   "cell_type": "code",
   "execution_count": 47,
   "metadata": {},
   "outputs": [
    {
     "output_type": "error",
     "ename": "ModuleNotFoundError",
     "evalue": "No module named 'pypapago'",
     "traceback": [
      "\u001b[0;31m---------------------------------------------------------------------------\u001b[0m",
      "\u001b[0;31mModuleNotFoundError\u001b[0m                       Traceback (most recent call last)",
      "\u001b[0;32m<ipython-input-47-d36d7c4102b0>\u001b[0m in \u001b[0;36m<module>\u001b[0;34m\u001b[0m\n\u001b[0;32m----> 1\u001b[0;31m \u001b[0;32mfrom\u001b[0m \u001b[0mpypapago\u001b[0m \u001b[0;32mimport\u001b[0m \u001b[0mTranslator\u001b[0m\u001b[0;34m\u001b[0m\u001b[0;34m\u001b[0m\u001b[0m\n\u001b[0m",
      "\u001b[0;31mModuleNotFoundError\u001b[0m: No module named 'pypapago'"
     ]
    }
   ],
   "source": [
    "from pypapago import Translator\n"
   ]
  },
  {
   "cell_type": "code",
   "execution_count": 49,
   "metadata": {},
   "outputs": [],
   "source": [
    "from pypapago import Translator"
   ]
  },
  {
   "cell_type": "code",
   "execution_count": 50,
   "metadata": {},
   "outputs": [],
   "source": [
    "translator = Translator()"
   ]
  },
  {
   "cell_type": "code",
   "execution_count": 54,
   "metadata": {},
   "outputs": [
    {
     "output_type": "display_data",
     "data": {
      "text/plain": "HBox(children=(IntProgress(value=0, max=2), HTML(value='')))",
      "application/vnd.jupyter.widget-view+json": {
       "version_major": 2,
       "version_minor": 0,
       "model_id": "b5f5f445c1334eb8997b027cd6ee90c6"
      }
     },
     "metadata": {}
    },
    {
     "output_type": "error",
     "ename": "KeyError",
     "evalue": "'translatedText'",
     "traceback": [
      "\u001b[0;31m---------------------------------------------------------------------------\u001b[0m",
      "\u001b[0;31mRemoteTraceback\u001b[0m                           Traceback (most recent call last)",
      "\u001b[0;31mRemoteTraceback\u001b[0m: \n\"\"\"\nTraceback (most recent call last):\n  File \"/usr/lib/python3.6/multiprocessing/pool.py\", line 119, in worker\n    result = (True, func(*args, **kwds))\n  File \"/home/hoonst/.local/lib/python3.6/site-packages/pypapago/translator.py\", line 60, in translate\n    return response.json()['translatedText']\nKeyError: 'translatedText'\n\"\"\"",
      "\nThe above exception was the direct cause of the following exception:\n",
      "\u001b[0;31mKeyError\u001b[0m                                  Traceback (most recent call last)",
      "\u001b[0;32m<ipython-input-54-cd241731865d>\u001b[0m in \u001b[0;36m<module>\u001b[0;34m\u001b[0m\n\u001b[0;32m----> 1\u001b[0;31m \u001b[0mresult\u001b[0m \u001b[0;34m=\u001b[0m \u001b[0mtranslator\u001b[0m\u001b[0;34m.\u001b[0m\u001b[0mbulk_translate\u001b[0m\u001b[0;34m(\u001b[0m\u001b[0;34m[\u001b[0m\u001b[0;34m'apple'\u001b[0m\u001b[0;34m,\u001b[0m \u001b[0;34m'banana'\u001b[0m\u001b[0;34m]\u001b[0m\u001b[0;34m)\u001b[0m\u001b[0;34m\u001b[0m\u001b[0;34m\u001b[0m\u001b[0m\n\u001b[0m",
      "\u001b[0;32m~/.local/lib/python3.6/site-packages/pypapago/translator.py\u001b[0m in \u001b[0;36mbulk_translate\u001b[0;34m(self, queries, source, target, workers, verbose)\u001b[0m\n\u001b[1;32m     75\u001b[0m                 \u001b[0mfunc\u001b[0m\u001b[0;34m=\u001b[0m\u001b[0mpartial\u001b[0m\u001b[0;34m(\u001b[0m\u001b[0mself\u001b[0m\u001b[0;34m.\u001b[0m\u001b[0mtranslate\u001b[0m\u001b[0;34m,\u001b[0m \u001b[0msource\u001b[0m\u001b[0;34m=\u001b[0m\u001b[0msource\u001b[0m\u001b[0;34m,\u001b[0m \u001b[0mtarget\u001b[0m\u001b[0;34m=\u001b[0m\u001b[0mtarget\u001b[0m\u001b[0;34m,\u001b[0m \u001b[0mverbose\u001b[0m\u001b[0;34m=\u001b[0m\u001b[0mverbose\u001b[0m\u001b[0;34m)\u001b[0m\u001b[0;34m,\u001b[0m\u001b[0;34m\u001b[0m\u001b[0;34m\u001b[0m\u001b[0m\n\u001b[1;32m     76\u001b[0m                 \u001b[0miterable\u001b[0m\u001b[0;34m=\u001b[0m\u001b[0mqueries\u001b[0m\u001b[0;34m\u001b[0m\u001b[0;34m\u001b[0m\u001b[0m\n\u001b[0;32m---> 77\u001b[0;31m             ), total=len(queries)))\n\u001b[0m\u001b[1;32m     78\u001b[0m             \u001b[0mpool\u001b[0m\u001b[0;34m.\u001b[0m\u001b[0mclose\u001b[0m\u001b[0;34m(\u001b[0m\u001b[0;34m)\u001b[0m\u001b[0;34m\u001b[0m\u001b[0;34m\u001b[0m\u001b[0m\n\u001b[1;32m     79\u001b[0m             \u001b[0mpool\u001b[0m\u001b[0;34m.\u001b[0m\u001b[0mjoin\u001b[0m\u001b[0;34m(\u001b[0m\u001b[0;34m)\u001b[0m\u001b[0;34m\u001b[0m\u001b[0;34m\u001b[0m\u001b[0m\n",
      "\u001b[0;32m~/.local/lib/python3.6/site-packages/tqdm/_tqdm_notebook.py\u001b[0m in \u001b[0;36m__iter__\u001b[0;34m(self, *args, **kwargs)\u001b[0m\n\u001b[1;32m    219\u001b[0m     \u001b[0;32mdef\u001b[0m \u001b[0m__iter__\u001b[0m\u001b[0;34m(\u001b[0m\u001b[0mself\u001b[0m\u001b[0;34m,\u001b[0m \u001b[0;34m*\u001b[0m\u001b[0margs\u001b[0m\u001b[0;34m,\u001b[0m \u001b[0;34m**\u001b[0m\u001b[0mkwargs\u001b[0m\u001b[0;34m)\u001b[0m\u001b[0;34m:\u001b[0m\u001b[0;34m\u001b[0m\u001b[0;34m\u001b[0m\u001b[0m\n\u001b[1;32m    220\u001b[0m         \u001b[0;32mtry\u001b[0m\u001b[0;34m:\u001b[0m\u001b[0;34m\u001b[0m\u001b[0;34m\u001b[0m\u001b[0m\n\u001b[0;32m--> 221\u001b[0;31m             \u001b[0;32mfor\u001b[0m \u001b[0mobj\u001b[0m \u001b[0;32min\u001b[0m \u001b[0msuper\u001b[0m\u001b[0;34m(\u001b[0m\u001b[0mtqdm_notebook\u001b[0m\u001b[0;34m,\u001b[0m \u001b[0mself\u001b[0m\u001b[0;34m)\u001b[0m\u001b[0;34m.\u001b[0m\u001b[0m__iter__\u001b[0m\u001b[0;34m(\u001b[0m\u001b[0;34m*\u001b[0m\u001b[0margs\u001b[0m\u001b[0;34m,\u001b[0m \u001b[0;34m**\u001b[0m\u001b[0mkwargs\u001b[0m\u001b[0;34m)\u001b[0m\u001b[0;34m:\u001b[0m\u001b[0;34m\u001b[0m\u001b[0;34m\u001b[0m\u001b[0m\n\u001b[0m\u001b[1;32m    222\u001b[0m                 \u001b[0;31m# return super(tqdm...) will not catch exception\u001b[0m\u001b[0;34m\u001b[0m\u001b[0;34m\u001b[0m\u001b[0;34m\u001b[0m\u001b[0m\n\u001b[1;32m    223\u001b[0m                 \u001b[0;32myield\u001b[0m \u001b[0mobj\u001b[0m\u001b[0;34m\u001b[0m\u001b[0;34m\u001b[0m\u001b[0m\n",
      "\u001b[0;32m~/.local/lib/python3.6/site-packages/tqdm/_tqdm.py\u001b[0m in \u001b[0;36m__iter__\u001b[0;34m(self)\u001b[0m\n\u001b[1;32m    977\u001b[0m \"\"\", fp_write=getattr(self.fp, 'write', sys.stderr.write))\n\u001b[1;32m    978\u001b[0m \u001b[0;34m\u001b[0m\u001b[0m\n\u001b[0;32m--> 979\u001b[0;31m             \u001b[0;32mfor\u001b[0m \u001b[0mobj\u001b[0m \u001b[0;32min\u001b[0m \u001b[0miterable\u001b[0m\u001b[0;34m:\u001b[0m\u001b[0;34m\u001b[0m\u001b[0;34m\u001b[0m\u001b[0m\n\u001b[0m\u001b[1;32m    980\u001b[0m                 \u001b[0;32myield\u001b[0m \u001b[0mobj\u001b[0m\u001b[0;34m\u001b[0m\u001b[0;34m\u001b[0m\u001b[0m\n\u001b[1;32m    981\u001b[0m                 \u001b[0;31m# Update and possibly print the progressbar.\u001b[0m\u001b[0;34m\u001b[0m\u001b[0;34m\u001b[0m\u001b[0;34m\u001b[0m\u001b[0m\n",
      "\u001b[0;32m/usr/lib/python3.6/multiprocessing/pool.py\u001b[0m in \u001b[0;36mnext\u001b[0;34m(self, timeout)\u001b[0m\n\u001b[1;32m    733\u001b[0m         \u001b[0;32mif\u001b[0m \u001b[0msuccess\u001b[0m\u001b[0;34m:\u001b[0m\u001b[0;34m\u001b[0m\u001b[0;34m\u001b[0m\u001b[0m\n\u001b[1;32m    734\u001b[0m             \u001b[0;32mreturn\u001b[0m \u001b[0mvalue\u001b[0m\u001b[0;34m\u001b[0m\u001b[0;34m\u001b[0m\u001b[0m\n\u001b[0;32m--> 735\u001b[0;31m         \u001b[0;32mraise\u001b[0m \u001b[0mvalue\u001b[0m\u001b[0;34m\u001b[0m\u001b[0;34m\u001b[0m\u001b[0m\n\u001b[0m\u001b[1;32m    736\u001b[0m \u001b[0;34m\u001b[0m\u001b[0m\n\u001b[1;32m    737\u001b[0m     \u001b[0m__next__\u001b[0m \u001b[0;34m=\u001b[0m \u001b[0mnext\u001b[0m                    \u001b[0;31m# XXX\u001b[0m\u001b[0;34m\u001b[0m\u001b[0;34m\u001b[0m\u001b[0m\n",
      "\u001b[0;31mKeyError\u001b[0m: 'translatedText'"
     ]
    }
   ],
   "source": [
    "result = translator.bulk_translate(['apple', 'banana'])\n"
   ]
  },
  {
   "cell_type": "code",
   "execution_count": 55,
   "metadata": {},
   "outputs": [],
   "source": [
    "import base64\n",
    "import re\n",
    "import requests\n",
    "from multiprocessing import Pool, cpu_count\n",
    "from functools import partial\n",
    "from tqdm.auto import tqdm\n",
    "\n",
    "\n",
    "class Translator:\n",
    "    \"\"\"\n",
    "    Main Translator Class\n",
    "    \"\"\"\n",
    "\n",
    "    def __init__(self, regex_pattern=None, headers=None):\n",
    "        self.regex_pattern = re.compile(regex_pattern or '[가-힣]+')\n",
    "        self.headers = headers or {\n",
    "            'device-type': 'pc',\n",
    "            'origin': 'https://papago.naver.com',\n",
    "            'accept-encoding': 'gzip, deflate, br',\n",
    "            'accept-language': 'ko',\n",
    "            'authority': 'papago.naver.com',\n",
    "            'pragma': 'no-cache',\n",
    "            'user-agent': 'Mozilla/5.0 (Macintosh; Intel Mac OS X 10_14_4) AppleWebKit/537.36 (KHTML, like Gecko)\\\n",
    "                           Chrome/75.0.3770.100 Safari/537.36',\n",
    "            'content-type': 'application/x-www-form-urlencoded; charset=UTF-8',\n",
    "            'accept': 'application/json',\n",
    "            'cache-control': 'no-cache',\n",
    "            'x-apigw-partnerid': 'papago',\n",
    "            'referer': 'https://papago.naver.com/',\n",
    "            'dnt': '1',\n",
    "        }\n",
    "        self.SECRET_KEY = 'MxnUvVuGj2'\n",
    "        self.QUERY_KEY = '0,\"honorific\":false,\"instant\":false,\"source\":\"{source}\",\"target\":\"{target}\",\"text\":\"{query}\"}}'\n",
    "\n",
    "    @staticmethod\n",
    "    def string_to_base64(s):\n",
    "        \"\"\"\n",
    "        Generate Base64 Encoded string\n",
    "        :param s: Origin Text (UTF-8)\n",
    "        :return: B64 encoded text (B64, still UTF-8 string)\n",
    "        \"\"\"\n",
    "        return base64.b64encode(s.encode('utf-8')).decode('utf-8')\n",
    "\n",
    "    def translate(self, query, source='en', target='ko', verbose=False):\n",
    "        \"\"\"\n",
    "        Main Translate function\n",
    "        :param query: Original Text to translate\n",
    "        :param source: Source(Original) text language [en, ko]\n",
    "        :param target: Target text language [en, ko]\n",
    "        :param verbose: Return verbose json data. Default: False\n",
    "        :return: Translated text\n",
    "        \"\"\"\n",
    "        data = {\n",
    "            'data': self.SECRET_KEY + self.string_to_base64(\n",
    "                self.QUERY_KEY.format(source=source, target=target, query=query)\n",
    "            )\n",
    "        }\n",
    "        response = requests.post('https://papago.naver.com/apis/n2mt/translate', headers=self.headers, data=data)\n",
    "        if not verbose:\n",
    "            return response.json()['translatedText']\n",
    "        return response.json()\n",
    "\n",
    "    def bulk_translate(self, queries, source='en', target='ko', workers=None, verbose=False):\n",
    "        \"\"\"\n",
    "        Call Translate function in parallel\n",
    "        :param queries: List of query texts\n",
    "        :param source: Source(Original) text language [en, ko]\n",
    "        :param target: Target text language [en, ko]\n",
    "        :param workers: Python multiprocessing workers. Default: vCPU cores\n",
    "        :param verbose: Return verbose json data. Default: False\n",
    "        :return: List of translated texts\n",
    "        \"\"\"\n",
    "        with Pool(workers or cpu_count()) as pool:\n",
    "            result = list(tqdm(pool.imap(\n",
    "                func=partial(self.translate, source=source, target=target, verbose=verbose),\n",
    "                iterable=queries\n",
    "            ), total=len(queries)))\n",
    "            pool.close()\n",
    "            pool.join()\n",
    "            return result"
   ]
  },
  {
   "cell_type": "code",
   "execution_count": 56,
   "metadata": {},
   "outputs": [
    {
     "output_type": "display_data",
     "data": {
      "text/plain": "HBox(children=(IntProgress(value=0, max=1), HTML(value='')))",
      "application/vnd.jupyter.widget-view+json": {
       "version_major": 2,
       "version_minor": 0,
       "model_id": "ef94c730eef140f3a991b9bf5802ac32"
      }
     },
     "metadata": {}
    },
    {
     "output_type": "error",
     "ename": "KeyError",
     "evalue": "'translatedText'",
     "traceback": [
      "\u001b[0;31m---------------------------------------------------------------------------\u001b[0m",
      "\u001b[0;31mRemoteTraceback\u001b[0m                           Traceback (most recent call last)",
      "\u001b[0;31mRemoteTraceback\u001b[0m: \n\"\"\"\nTraceback (most recent call last):\n  File \"/usr/lib/python3.6/multiprocessing/pool.py\", line 119, in worker\n    result = (True, func(*args, **kwds))\n  File \"<ipython-input-55-e3e027635612>\", line 60, in translate\n    return response.json()['translatedText']\nKeyError: 'translatedText'\n\"\"\"",
      "\nThe above exception was the direct cause of the following exception:\n",
      "\u001b[0;31mKeyError\u001b[0m                                  Traceback (most recent call last)",
      "\u001b[0;32m<ipython-input-56-d5a998117db4>\u001b[0m in \u001b[0;36m<module>\u001b[0;34m\u001b[0m\n\u001b[1;32m      4\u001b[0m    \u001b[0;34m[\u001b[0m\u001b[0;34m'카카오는 파파고를 좋아해'\u001b[0m\u001b[0;34m]\u001b[0m\u001b[0;34m,\u001b[0m\u001b[0;34m\u001b[0m\u001b[0;34m\u001b[0m\u001b[0m\n\u001b[1;32m      5\u001b[0m     \u001b[0msource\u001b[0m\u001b[0;34m=\u001b[0m\u001b[0;34m'ko'\u001b[0m\u001b[0;34m,\u001b[0m\u001b[0;34m\u001b[0m\u001b[0;34m\u001b[0m\u001b[0m\n\u001b[0;32m----> 6\u001b[0;31m     \u001b[0mtarget\u001b[0m\u001b[0;34m=\u001b[0m\u001b[0;34m'en'\u001b[0m\u001b[0;34m,\u001b[0m\u001b[0;34m\u001b[0m\u001b[0;34m\u001b[0m\u001b[0m\n\u001b[0m\u001b[1;32m      7\u001b[0m )\n\u001b[1;32m      8\u001b[0m \u001b[0mprint\u001b[0m\u001b[0;34m(\u001b[0m\u001b[0mresult\u001b[0m\u001b[0;34m)\u001b[0m \u001b[0;31m# Kakao likes papago.\u001b[0m\u001b[0;34m\u001b[0m\u001b[0;34m\u001b[0m\u001b[0m\n",
      "\u001b[0;32m<ipython-input-55-e3e027635612>\u001b[0m in \u001b[0;36mbulk_translate\u001b[0;34m(self, queries, source, target, workers, verbose)\u001b[0m\n\u001b[1;32m     75\u001b[0m                 \u001b[0mfunc\u001b[0m\u001b[0;34m=\u001b[0m\u001b[0mpartial\u001b[0m\u001b[0;34m(\u001b[0m\u001b[0mself\u001b[0m\u001b[0;34m.\u001b[0m\u001b[0mtranslate\u001b[0m\u001b[0;34m,\u001b[0m \u001b[0msource\u001b[0m\u001b[0;34m=\u001b[0m\u001b[0msource\u001b[0m\u001b[0;34m,\u001b[0m \u001b[0mtarget\u001b[0m\u001b[0;34m=\u001b[0m\u001b[0mtarget\u001b[0m\u001b[0;34m,\u001b[0m \u001b[0mverbose\u001b[0m\u001b[0;34m=\u001b[0m\u001b[0mverbose\u001b[0m\u001b[0;34m)\u001b[0m\u001b[0;34m,\u001b[0m\u001b[0;34m\u001b[0m\u001b[0;34m\u001b[0m\u001b[0m\n\u001b[1;32m     76\u001b[0m                 \u001b[0miterable\u001b[0m\u001b[0;34m=\u001b[0m\u001b[0mqueries\u001b[0m\u001b[0;34m\u001b[0m\u001b[0;34m\u001b[0m\u001b[0m\n\u001b[0;32m---> 77\u001b[0;31m             ), total=len(queries)))\n\u001b[0m\u001b[1;32m     78\u001b[0m             \u001b[0mpool\u001b[0m\u001b[0;34m.\u001b[0m\u001b[0mclose\u001b[0m\u001b[0;34m(\u001b[0m\u001b[0;34m)\u001b[0m\u001b[0;34m\u001b[0m\u001b[0;34m\u001b[0m\u001b[0m\n\u001b[1;32m     79\u001b[0m             \u001b[0mpool\u001b[0m\u001b[0;34m.\u001b[0m\u001b[0mjoin\u001b[0m\u001b[0;34m(\u001b[0m\u001b[0;34m)\u001b[0m\u001b[0;34m\u001b[0m\u001b[0;34m\u001b[0m\u001b[0m\n",
      "\u001b[0;32m~/.local/lib/python3.6/site-packages/tqdm/_tqdm_notebook.py\u001b[0m in \u001b[0;36m__iter__\u001b[0;34m(self, *args, **kwargs)\u001b[0m\n\u001b[1;32m    219\u001b[0m     \u001b[0;32mdef\u001b[0m \u001b[0m__iter__\u001b[0m\u001b[0;34m(\u001b[0m\u001b[0mself\u001b[0m\u001b[0;34m,\u001b[0m \u001b[0;34m*\u001b[0m\u001b[0margs\u001b[0m\u001b[0;34m,\u001b[0m \u001b[0;34m**\u001b[0m\u001b[0mkwargs\u001b[0m\u001b[0;34m)\u001b[0m\u001b[0;34m:\u001b[0m\u001b[0;34m\u001b[0m\u001b[0;34m\u001b[0m\u001b[0m\n\u001b[1;32m    220\u001b[0m         \u001b[0;32mtry\u001b[0m\u001b[0;34m:\u001b[0m\u001b[0;34m\u001b[0m\u001b[0;34m\u001b[0m\u001b[0m\n\u001b[0;32m--> 221\u001b[0;31m             \u001b[0;32mfor\u001b[0m \u001b[0mobj\u001b[0m \u001b[0;32min\u001b[0m \u001b[0msuper\u001b[0m\u001b[0;34m(\u001b[0m\u001b[0mtqdm_notebook\u001b[0m\u001b[0;34m,\u001b[0m \u001b[0mself\u001b[0m\u001b[0;34m)\u001b[0m\u001b[0;34m.\u001b[0m\u001b[0m__iter__\u001b[0m\u001b[0;34m(\u001b[0m\u001b[0;34m*\u001b[0m\u001b[0margs\u001b[0m\u001b[0;34m,\u001b[0m \u001b[0;34m**\u001b[0m\u001b[0mkwargs\u001b[0m\u001b[0;34m)\u001b[0m\u001b[0;34m:\u001b[0m\u001b[0;34m\u001b[0m\u001b[0;34m\u001b[0m\u001b[0m\n\u001b[0m\u001b[1;32m    222\u001b[0m                 \u001b[0;31m# return super(tqdm...) will not catch exception\u001b[0m\u001b[0;34m\u001b[0m\u001b[0;34m\u001b[0m\u001b[0;34m\u001b[0m\u001b[0m\n\u001b[1;32m    223\u001b[0m                 \u001b[0;32myield\u001b[0m \u001b[0mobj\u001b[0m\u001b[0;34m\u001b[0m\u001b[0;34m\u001b[0m\u001b[0m\n",
      "\u001b[0;32m~/.local/lib/python3.6/site-packages/tqdm/_tqdm.py\u001b[0m in \u001b[0;36m__iter__\u001b[0;34m(self)\u001b[0m\n\u001b[1;32m    977\u001b[0m \"\"\", fp_write=getattr(self.fp, 'write', sys.stderr.write))\n\u001b[1;32m    978\u001b[0m \u001b[0;34m\u001b[0m\u001b[0m\n\u001b[0;32m--> 979\u001b[0;31m             \u001b[0;32mfor\u001b[0m \u001b[0mobj\u001b[0m \u001b[0;32min\u001b[0m \u001b[0miterable\u001b[0m\u001b[0;34m:\u001b[0m\u001b[0;34m\u001b[0m\u001b[0;34m\u001b[0m\u001b[0m\n\u001b[0m\u001b[1;32m    980\u001b[0m                 \u001b[0;32myield\u001b[0m \u001b[0mobj\u001b[0m\u001b[0;34m\u001b[0m\u001b[0;34m\u001b[0m\u001b[0m\n\u001b[1;32m    981\u001b[0m                 \u001b[0;31m# Update and possibly print the progressbar.\u001b[0m\u001b[0;34m\u001b[0m\u001b[0;34m\u001b[0m\u001b[0;34m\u001b[0m\u001b[0m\n",
      "\u001b[0;32m/usr/lib/python3.6/multiprocessing/pool.py\u001b[0m in \u001b[0;36mnext\u001b[0;34m(self, timeout)\u001b[0m\n\u001b[1;32m    733\u001b[0m         \u001b[0;32mif\u001b[0m \u001b[0msuccess\u001b[0m\u001b[0;34m:\u001b[0m\u001b[0;34m\u001b[0m\u001b[0;34m\u001b[0m\u001b[0m\n\u001b[1;32m    734\u001b[0m             \u001b[0;32mreturn\u001b[0m \u001b[0mvalue\u001b[0m\u001b[0;34m\u001b[0m\u001b[0;34m\u001b[0m\u001b[0m\n\u001b[0;32m--> 735\u001b[0;31m         \u001b[0;32mraise\u001b[0m \u001b[0mvalue\u001b[0m\u001b[0;34m\u001b[0m\u001b[0;34m\u001b[0m\u001b[0m\n\u001b[0m\u001b[1;32m    736\u001b[0m \u001b[0;34m\u001b[0m\u001b[0m\n\u001b[1;32m    737\u001b[0m     \u001b[0m__next__\u001b[0m \u001b[0;34m=\u001b[0m \u001b[0mnext\u001b[0m                    \u001b[0;31m# XXX\u001b[0m\u001b[0;34m\u001b[0m\u001b[0;34m\u001b[0m\u001b[0m\n",
      "\u001b[0;31mKeyError\u001b[0m: 'translatedText'"
     ]
    }
   ],
   "source": [
    "translator = Translator()\n",
    "\n",
    "result = translator.bulk_translate(\n",
    "   ['카카오는 파파고를 좋아해'],\n",
    "    source='ko',\n",
    "    target='en',\n",
    ")\n",
    "print(result) # Kakao likes papago."
   ]
  },
  {
   "cell_type": "code",
   "execution_count": null,
   "metadata": {},
   "outputs": [],
   "source": []
  }
 ],
 "metadata": {
  "kernelspec": {
   "display_name": "Python 3",
   "language": "python",
   "name": "python3"
  },
  "language_info": {
   "codemirror_mode": {
    "name": "ipython",
    "version": 3
   },
   "file_extension": ".py",
   "mimetype": "text/x-python",
   "name": "python",
   "nbconvert_exporter": "python",
   "pygments_lexer": "ipython3",
   "version": "3.7.0-final"
  }
 },
 "nbformat": 4,
 "nbformat_minor": 2
}