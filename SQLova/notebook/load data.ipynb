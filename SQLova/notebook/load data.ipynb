{
 "cells": [
  {
   "cell_type": "code",
   "execution_count": 42,
   "id": "f5c8ddde",
   "metadata": {
    "ExecuteTime": {
     "end_time": "2021-04-15T14:07:06.497079Z",
     "start_time": "2021-04-15T14:07:05.927162Z"
    }
   },
   "outputs": [],
   "source": [
    "%reload_ext autoreload\n",
    "%autoreload 2\n",
    "\n",
    "import sys\n",
    "sys.path.append('../')\n",
    "\n",
    "from sqlova.utils.utils_wikisql import load_wikisql_data, load_wikisql\n",
    "from konlpy.tag import Mecab\n",
    "from pprint import pprint"
   ]
  },
  {
   "cell_type": "code",
   "execution_count": 46,
   "id": "b44ed8c3",
   "metadata": {
    "ExecuteTime": {
     "end_time": "2021-04-15T14:07:07.570921Z",
     "start_time": "2021-04-15T14:07:07.534821Z"
    }
   },
   "outputs": [],
   "source": [
    "path_wikisql = '../data/sqlova_data'\n",
    "name = 'train'\n",
    "\n",
    "data, tables = load_wikisql_data(path_wikisql=path_wikisql, mode=name, no_tok=False, no_hs_tok=True)"
   ]
  },
  {
   "cell_type": "code",
   "execution_count": 49,
   "id": "aab8aff6",
   "metadata": {},
   "outputs": [
    {
     "data": {
      "text/plain": [
       "{'table_id': '2-17344582-4',\n",
       " 'phase': 2,\n",
       " 'question': 'What is Record, when Location is \"Boston Garden\", and when Date is \"Fri. Nov. 9\"?',\n",
       " 'question_tok': ['What',\n",
       "  'is',\n",
       "  'Record',\n",
       "  ',',\n",
       "  'when',\n",
       "  'Location',\n",
       "  'is',\n",
       "  '\"',\n",
       "  'Boston',\n",
       "  'Garden',\n",
       "  '\"',\n",
       "  ',',\n",
       "  'and',\n",
       "  'when',\n",
       "  'Date',\n",
       "  'is',\n",
       "  '\"',\n",
       "  'Fri',\n",
       "  '.',\n",
       "  'Nov.',\n",
       "  '9',\n",
       "  '\"',\n",
       "  '?'],\n",
       " 'sql': {'sel': 5,\n",
       "  'conds': [[4, 0, 'boston garden'], [1, 0, 'fri. nov. 9']],\n",
       "  'agg': 0},\n",
       " 'query': {'sel': 5,\n",
       "  'conds': [[4, 0, 'boston garden'], [1, 0, 'fri. nov. 9']],\n",
       "  'agg': 0},\n",
       " 'wvi_corenlp': None,\n",
       " 'tok_error': 'SQuAD style st, ed are not found under CoreNLP.'}"
      ]
     },
     "execution_count": 49,
     "metadata": {},
     "output_type": "execute_result"
    }
   ],
   "source": [
    "data[33075]"
   ]
  },
  {
   "cell_type": "code",
   "execution_count": null,
   "id": "bf763c4a",
   "metadata": {},
   "outputs": [],
   "source": [
    "train_data, train_table, dev_data, dev_table, train_loader, dev_loader = get_data(path_wikisql, args)"
   ]
  },
  {
   "cell_type": "code",
   "execution_count": null,
   "id": "294da8df",
   "metadata": {},
   "outputs": [],
   "source": [
    "train_data"
   ]
  },
  {
   "cell_type": "code",
   "execution_count": 3,
   "id": "c402203b",
   "metadata": {},
   "outputs": [
    {
     "data": {
      "text/plain": [
       "56355"
      ]
     },
     "execution_count": 3,
     "metadata": {},
     "output_type": "execute_result"
    }
   ],
   "source": [
    "len(data)"
   ]
  },
  {
   "cell_type": "code",
   "execution_count": 4,
   "id": "e1871c6f",
   "metadata": {},
   "outputs": [
    {
     "data": {
      "text/plain": [
       "'Tell me what the notes are for South Australia '"
      ]
     },
     "execution_count": 4,
     "metadata": {},
     "output_type": "execute_result"
    }
   ],
   "source": [
    "data[0]['question']"
   ]
  },
  {
   "cell_type": "code",
   "execution_count": 6,
   "id": "381a9b7c",
   "metadata": {},
   "outputs": [
    {
     "data": {
      "text/plain": [
       "'1-1000181-1'"
      ]
     },
     "execution_count": 6,
     "metadata": {},
     "output_type": "execute_result"
    }
   ],
   "source": [
    "data[0]['table_id']"
   ]
  },
  {
   "cell_type": "code",
   "execution_count": 22,
   "id": "6e49297e",
   "metadata": {},
   "outputs": [
    {
     "data": {
      "text/plain": [
       "[\"what's\", 'the', 'years', 'played', 'with', 'singles', 'w-l', 'of', '3–2']"
      ]
     },
     "execution_count": 22,
     "metadata": {},
     "output_type": "execute_result"
    }
   ],
   "source": [
    "[w.strip() for w in data[48]['question'].split()]"
   ]
  },
  {
   "cell_type": "code",
   "execution_count": 12,
   "id": "e622e65b",
   "metadata": {},
   "outputs": [
    {
     "name": "stdout",
     "output_type": "stream",
     "text": [
      "{'phase': 1,\n",
      " 'question': '1998-200 1 을 플레이 한 Player 는 몇 번입니까?',\n",
      " 'sql': {'agg': 2, 'conds': [[4, 0, '1998-2001']], 'sel': 1},\n",
      " 'table_id': '1-10015132-21'}\n",
      "['1998', '-', '200', '1', '을', '플레이', '한', 'Player', '는', '몇', '번', '입니까', '?']\n",
      "['1998', '-', '2001']\n"
     ]
    }
   ],
   "source": [
    "idx = 23\n",
    "mecab = Mecab() \n",
    "pprint(data[idx])\n",
    "question_token = mecab.morphs(str(data[idx]['question']))\n",
    "print(question_token)\n",
    "wv_token = mecab.morphs(str(data[idx]['sql']['conds'][0][2]))\n",
    "print(wv_token)"
   ]
  },
  {
   "cell_type": "code",
   "execution_count": 41,
   "id": "8ddd87f7",
   "metadata": {},
   "outputs": [
    {
     "data": {
      "text/plain": [
       "{'header': ['Member',\n",
       "  'Headquarters',\n",
       "  'Classification',\n",
       "  'Chapters',\n",
       "  'Founded',\n",
       "  'UCCFS'],\n",
       " 'page_title': 'United Council of Christian Fraternities & Sororities',\n",
       " 'types': ['text', 'text', 'text', 'real', 'text', 'real'],\n",
       " 'id': '1-10054296-1',\n",
       " 'section_title': 'Members',\n",
       " 'caption': 'Members',\n",
       " 'rows': [['Alpha Nu Omega',\n",
       "   'Baltimore, Maryland',\n",
       "   'Fraternity & Sorority',\n",
       "   26,\n",
       "   '1988 at Morgan State University',\n",
       "   2006],\n",
       "  ['Men of God',\n",
       "   'San Antonio, Texas',\n",
       "   'Fraternity',\n",
       "   5,\n",
       "   '1999 at Texas Tech University',\n",
       "   2006],\n",
       "  ['Delta Psi Epsilon',\n",
       "   'Washington, D.C.',\n",
       "   'Sorority',\n",
       "   12,\n",
       "   '1999 in Huntsville, Alabama',\n",
       "   2006],\n",
       "  ['Zeta Phi Zeta',\n",
       "   'Chicago, Illinois',\n",
       "   'Fraternity & Sorority',\n",
       "   7,\n",
       "   '2001 at X-STREAM TEENS Ministries',\n",
       "   2007],\n",
       "  ['Gamma Phi Delta',\n",
       "   'Austin, Texas',\n",
       "   'Fraternity',\n",
       "   16,\n",
       "   '1988 at The University of Texas at Austin',\n",
       "   2011]],\n",
       " 'name': 'table_10054296_1'}"
      ]
     },
     "execution_count": 41,
     "metadata": {},
     "output_type": "execute_result"
    }
   ],
   "source": [
    "tables['1-10054296-1']"
   ]
  }
 ],
 "metadata": {
  "hide_input": false,
  "kernelspec": {
   "display_name": "Python 3",
   "language": "python",
   "name": "python3"
  },
  "language_info": {
   "codemirror_mode": {
    "name": "ipython",
    "version": 3
   },
   "file_extension": ".py",
   "mimetype": "text/x-python",
   "name": "python",
   "nbconvert_exporter": "python",
   "pygments_lexer": "ipython3",
   "version": "3.8.3"
  },
  "toc": {
   "base_numbering": 1,
   "nav_menu": {},
   "number_sections": true,
   "sideBar": true,
   "skip_h1_title": false,
   "title_cell": "Table of Contents",
   "title_sidebar": "Contents",
   "toc_cell": false,
   "toc_position": {},
   "toc_section_display": true,
   "toc_window_display": false
  }
 },
 "nbformat": 4,
 "nbformat_minor": 5
}
