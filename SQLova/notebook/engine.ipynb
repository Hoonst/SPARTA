{
 "cells": [
  {
   "cell_type": "code",
   "execution_count": 5,
   "id": "d6c8ca7b",
   "metadata": {
    "ExecuteTime": {
     "end_time": "2021-04-15T14:17:09.397077Z",
     "start_time": "2021-04-15T14:17:09.376212Z"
    }
   },
   "outputs": [],
   "source": [
    "%reload_ext autoreload\n",
    "%autoreload 2\n",
    "\n",
    "import sys\n",
    "sys.path.append('../')\n",
    "\n",
    "from sqlnet.dbengine import DBEngine"
   ]
  },
  {
   "cell_type": "code",
   "execution_count": 4,
   "id": "5bc3eaf3",
   "metadata": {
    "ExecuteTime": {
     "end_time": "2021-04-15T14:16:20.745808Z",
     "start_time": "2021-04-15T14:16:20.720296Z"
    }
   },
   "outputs": [
    {
     "ename": "NameError",
     "evalue": "name 'f' is not defined",
     "output_type": "error",
     "traceback": [
      "\u001b[0;31m---------------------------------------------------------------------------\u001b[0m",
      "\u001b[0;31mNameError\u001b[0m                                 Traceback (most recent call last)",
      "\u001b[0;32m<ipython-input-4-77ecaae8de08>\u001b[0m in \u001b[0;36m<module>\u001b[0;34m\u001b[0m\n\u001b[0;32m----> 1\u001b[0;31m \u001b[0mengine\u001b[0m \u001b[0;34m=\u001b[0m \u001b[0mf\u001b[0m\u001b[0;34m(\u001b[0m\u001b[0mos\u001b[0m\u001b[0;34m.\u001b[0m\u001b[0mpath\u001b[0m\u001b[0;34m.\u001b[0m\u001b[0mjoin\u001b[0m\u001b[0;34m(\u001b[0m\u001b[0mpath_db\u001b[0m\u001b[0;34m,\u001b[0m \u001b[0;34mf\"{dset_name}.db\"\u001b[0m\u001b[0;34m)\u001b[0m\u001b[0;34m)\u001b[0m\u001b[0;34m\u001b[0m\u001b[0;34m\u001b[0m\u001b[0m\n\u001b[0m",
      "\u001b[0;31mNameError\u001b[0m: name 'f' is not defined"
     ]
    }
   ],
   "source": [
    "path_db = '../data/multi'\n",
    "engine = DBEngine(os.path.join(path_db, f\"{dset_name}.db\"))"
   ]
  },
  {
   "cell_type": "code",
   "execution_count": 1,
   "id": "417769f7",
   "metadata": {
    "ExecuteTime": {
     "end_time": "2021-04-15T14:15:31.157094Z",
     "start_time": "2021-04-15T14:15:31.116870Z"
    }
   },
   "outputs": [],
   "source": [
    "def get_cnt_x_list(engine, tb, g_sc, g_sa, g_sql_i, pr_sc, pr_sa, pr_sql_i):\n",
    "    cnt_x1_list = []\n",
    "    g_ans = []\n",
    "    pr_ans = []\n",
    "    for b in range(len(g_sc)):\n",
    "        g_ans1 = engine.execute(tb[b]['id'], g_sc[b], g_sa[b], g_sql_i[b]['conds'])\n",
    "        # print(f'cnt: {cnt}')\n",
    "        # print(f\"pr_sql_i: {pr_sql_i[b]['conds']}\")\n",
    "        try:\n",
    "            pr_ans1 = engine.execute(tb[b]['id'], pr_sc[b], pr_sa[b], pr_sql_i[b]['conds'])\n",
    "\n",
    "            if bool(pr_ans1):  # not empty due to lack of the data from incorretly generated sql\n",
    "                if g_ans1 == pr_ans1:\n",
    "                    cnt_x1 = 1\n",
    "                else:\n",
    "                    cnt_x1 = 0\n",
    "            else:\n",
    "                cnt_x1 = 0\n",
    "        except:\n",
    "            # type error etc... Execution-guided decoding may be used here.\n",
    "            pr_ans1 = None\n",
    "            cnt_x1 = 0\n",
    "        cnt_x1_list.append(cnt_x1)\n",
    "        g_ans.append(g_ans1)\n",
    "        pr_ans.append(pr_ans1)\n",
    "\n",
    "    return cnt_x1_list, g_ans, pr_ans"
   ]
  },
  {
   "cell_type": "code",
   "execution_count": null,
   "id": "0a4f96c8",
   "metadata": {},
   "outputs": [],
   "source": []
  }
 ],
 "metadata": {
  "hide_input": false,
  "kernelspec": {
   "display_name": "Python 3",
   "language": "python",
   "name": "python3"
  },
  "language_info": {
   "codemirror_mode": {
    "name": "ipython",
    "version": 3
   },
   "file_extension": ".py",
   "mimetype": "text/x-python",
   "name": "python",
   "nbconvert_exporter": "python",
   "pygments_lexer": "ipython3",
   "version": "3.8.3"
  },
  "toc": {
   "base_numbering": 1,
   "nav_menu": {},
   "number_sections": true,
   "sideBar": true,
   "skip_h1_title": false,
   "title_cell": "Table of Contents",
   "title_sidebar": "Contents",
   "toc_cell": false,
   "toc_position": {},
   "toc_section_display": true,
   "toc_window_display": false
  }
 },
 "nbformat": 4,
 "nbformat_minor": 5
}
