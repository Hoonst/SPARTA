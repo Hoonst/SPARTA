{
 "cells": [
  {
   "cell_type": "markdown",
   "id": "hairy-attraction",
   "metadata": {},
   "source": [
    "# SPARTA (Semantic Parsing And Relational Table Aware)\n",
    "\n",
    "This is a term project in `Unstructured Text Analysis` class.   \n",
    "We implement the deep learning model for converting Korean language to SQL query. \n",
    "\n",
    "- github: https://github.com/TooTouch/SPARTA\n",
    "\n",
    "<br>\n",
    "<img src='https://user-images.githubusercontent.com/37654013/119700897-bec2c100-be8e-11eb-9d61-36de1ca66d5a.png'>\n",
    "<br>\n",
    "\n",
    "**Team Members**\n",
    "- Hoonsang Yoon \n",
    "- Jaehyuk Heo \n",
    "- Jungwoo Choi\n",
    "- Jeongseob Kim\n",
    "\n",
    "**Information**\n",
    "- Korea University [DSBA Lab](http://dsba.korea.ac.kr/)\n",
    "- Advisor: [Pilsung Kang](http://dsba.korea.ac.kr/professor/)\n",
    "\n"
   ]
  },
  {
   "cell_type": "code",
   "execution_count": 1,
   "id": "excessive-sierra",
   "metadata": {
    "ExecuteTime": {
     "end_time": "2021-05-27T12:38:11.283955Z",
     "start_time": "2021-05-27T12:38:10.304582Z"
    }
   },
   "outputs": [],
   "source": [
    "%reload_ext autoreload\n",
    "%autoreload 2\n",
    "\n",
    "import pandas as pd\n",
    "import numpy as np\n",
    "from konlpy.tag import Mecab\n",
    "\n",
    "import os \n",
    "import sys\n",
    "sys.path.append('../')\n",
    "\n",
    "from train import construct_hyper_param, \\\n",
    "                  get_data, get_models, get_wemb_bert, \\\n",
    "                  sort_and_generate_pr_w, generate_sql_q, \\\n",
    "                  tokenize_corenlp_direct_version\n",
    "from sqlova.utils.utils_wikisql import *\n",
    "from sqlova.utils.utils import topk_multi_dim\n",
    "from sqlnet.dbengine import DBEngine\n",
    "\n",
    "import argparse\n",
    "from IPython.display import display, clear_output\n",
    "import ipywidgets"
   ]
  },
  {
   "cell_type": "code",
   "execution_count": 2,
   "id": "ethical-europe",
   "metadata": {
    "ExecuteTime": {
     "end_time": "2021-05-27T12:38:12.115414Z",
     "start_time": "2021-05-27T12:38:12.087927Z"
    }
   },
   "outputs": [],
   "source": [
    "parser = argparse.ArgumentParser()\n",
    "args = construct_hyper_param(parser, notebook=True)\n",
    "device = 'cpu'"
   ]
  },
  {
   "cell_type": "code",
   "execution_count": 13,
   "id": "little-victory",
   "metadata": {
    "ExecuteTime": {
     "end_time": "2021-05-27T12:39:51.541906Z",
     "start_time": "2021-05-27T12:39:51.517748Z"
    }
   },
   "outputs": [],
   "source": [
    "def inference(inputs, engine, datadir, bert_config, model_bert, tokenizer):\n",
    "    nlu, nlu_t, hds, tb = inputs    \n",
    "    \n",
    "    # prediction\n",
    "    wemb_n, wemb_h, l_n, l_hpu, l_hs, \\\n",
    "    nlu_tt, t_to_tt_idx, tt_to_t_idx = get_wemb_bert(bert_config, \n",
    "                                                     model_bert, \n",
    "                                                     tokenizer, \n",
    "                                                     nlu_t, \n",
    "                                                     hds, \n",
    "                                                     args.max_seq_length,\n",
    "                                                     num_out_layers_n=args.num_target_layers, \n",
    "                                                     num_out_layers_h=args.num_target_layers,\n",
    "                                                     device=device)\n",
    "\n",
    "    prob_sca, prob_w, prob_wn_w, pr_sc, pr_sa, pr_wn, pr_sql_i, pr_sql_topk_i = model.beam_forward(wemb_n, \n",
    "                                                                                                   l_n, \n",
    "                                                                                                   wemb_h, \n",
    "                                                                                                   l_hpu,\n",
    "                                                                                                   l_hs, \n",
    "                                                                                                   engine, \n",
    "                                                                                                   tb,\n",
    "                                                                                                   nlu_t, \n",
    "                                                                                                   nlu_tt,\n",
    "                                                                                                   tt_to_t_idx, \n",
    "                                                                                                   nlu,\n",
    "                                                                                                   beam_size=args.beam_size,\n",
    "                                                                                                   device=device)\n",
    "\n",
    "    pr_wc, pr_wo, pr_wv, pr_sql_i = sort_and_generate_pr_w(pr_sql_i)\n",
    "\n",
    "    pr_sql_q1 = generate_sql_q(pr_sql_i, tb)[0]\n",
    "    pr_ans = engine.execute(tb[0]['id'], \n",
    "                            pr_sc[0], \n",
    "                            pr_sa[0], \n",
    "                            pr_sql_i[0]['conds'])\n",
    "    \n",
    "    return pr_sql_q1, pr_ans\n",
    "    "
   ]
  },
  {
   "cell_type": "code",
   "execution_count": 14,
   "id": "bright-firewall",
   "metadata": {
    "ExecuteTime": {
     "end_time": "2021-05-27T12:39:52.383988Z",
     "start_time": "2021-05-27T12:39:52.362150Z"
    }
   },
   "outputs": [],
   "source": [
    "args.datadir = '../data/ko_from_table'\n",
    "args.logdir = '../logs/ko_from_table'\n",
    "args.bert_name = 'bert-base-multilingual-cased'"
   ]
  },
  {
   "cell_type": "code",
   "execution_count": 15,
   "id": "mediterranean-florist",
   "metadata": {
    "ExecuteTime": {
     "end_time": "2021-05-27T12:40:04.544893Z",
     "start_time": "2021-05-27T12:39:52.588418Z"
    }
   },
   "outputs": [],
   "source": [
    "_, _, _, _, test_data, test_table, _, _, test_loader = get_data(args.datadir, args)\n",
    "\n",
    "\n",
    "# To start from the pre-trained models, un-comment following lines.\n",
    "path_model_bert = os.path.join(args.logdir, 'model_bert_best.pt')\n",
    "path_model = os.path.join(args.logdir, 'model_best.pt')\n",
    "model, model_bert, tokenizer, bert_config = get_models(args, \n",
    "                                                       trained=True,\n",
    "                                                       path_model_bert=path_model_bert, \n",
    "                                                       path_model=path_model, \n",
    "                                                       device=device)"
   ]
  },
  {
   "cell_type": "code",
   "execution_count": 16,
   "id": "elementary-minneapolis",
   "metadata": {
    "ExecuteTime": {
     "end_time": "2021-05-27T12:40:04.568170Z",
     "start_time": "2021-05-27T12:40:04.546083Z"
    }
   },
   "outputs": [],
   "source": [
    "engine = DBEngine(os.path.join(args.datadir, 'test.db'))"
   ]
  },
  {
   "cell_type": "markdown",
   "id": "opponent-remove",
   "metadata": {},
   "source": [
    "# Table information"
   ]
  },
  {
   "cell_type": "code",
   "execution_count": 39,
   "id": "racial-specialist",
   "metadata": {
    "ExecuteTime": {
     "end_time": "2021-05-27T13:25:47.594853Z",
     "start_time": "2021-05-27T13:25:47.564802Z"
    }
   },
   "outputs": [],
   "source": [
    "def print_table_label(idx):\n",
    "    \n",
    "    tb = [test_table[test_data[idx]['table_id']]]\n",
    "    hds = [tb[0]['header']]\n",
    "    nlu_t = [test_data[idx]['question_tok']]\n",
    "    nlu = [test_data[idx]['question']]\n",
    "    sql = [test_data[idx]['sql']]\n",
    "\n",
    "    # sql\n",
    "    g_sql = generate_sql_q(sql, tb)[0]\n",
    "\n",
    "    from_start_idx = g_sql.find('FROM')\n",
    "    where_start_idx = g_sql.find('WHERE')\n",
    "    if where_start_idx == -1:\n",
    "        g_sql = g_sql[:from_start_idx] + '\\n' + g_sql[from_start_idx:]\n",
    "    else:\n",
    "        g_sql = g_sql[:from_start_idx] + '\\n' + g_sql[from_start_idx:where_start_idx] + '\\n' + g_sql[where_start_idx:]\n",
    "\n",
    "    # answer\n",
    "    g_ans  = engine.execute(tb[0]['id'], \n",
    "                            sql[0]['sel'], \n",
    "                            sql[0]['agg'], \n",
    "                            sql[0]['conds'])[0]\n",
    "\n",
    "    # plotting\n",
    "    display(pd.DataFrame(tb[0]['rows'], columns=tb[0]['header']))\n",
    "\n",
    "    print('='*20)\n",
    "    print('Ground Truth')\n",
    "    print('='*20)\n",
    "    print('[Question]')\n",
    "    print(nlu[0])\n",
    "    print()\n",
    "    print('[SQL]')\n",
    "    print(g_sql)\n",
    "    print()\n",
    "    print('[RESULT]')\n",
    "    print(g_ans)\n",
    "    print('='*20)\n",
    "    \n",
    "    # inference\n",
    "    display(ipywidgets.HTML('<h1>Inference</h1>'))\n",
    "    question = ipywidgets.Text(description='QUESTION:', \n",
    "                           layout=ipywidgets.Layout(width='auto', display='flex'))\n",
    "    button = ipywidgets.Button(description='TEST')\n",
    "    output = ipywidgets.Output()\n",
    "    display(ipywidgets.VBox([question, button]))\n",
    "    display(output)\n",
    "    \n",
    "    def infer(b):\n",
    "        q_tokenizer = Mecab()\n",
    "        question_t = q_tokenizer.morphs(question.value)\n",
    "\n",
    "        pr_sql_q1, pr_ans = inference(inputs=[[question.value], [question_t], hds, tb], \n",
    "                                      engine=engine,\n",
    "                                      datadir=args.datadir, \n",
    "                                      bert_config=bert_config, \n",
    "                                      model_bert=model_bert, \n",
    "                                      tokenizer=tokenizer)\n",
    "    \n",
    "        # print results\n",
    "        from_start_idx = pr_sql_q1.find('FROM')\n",
    "        where_start_idx = pr_sql_q1.find('WHERE')\n",
    "        if where_start_idx == -1:\n",
    "            pr_sql_q1 = pr_sql_q1[:from_start_idx] + '\\n' + pr_sql_q1[from_start_idx:]\n",
    "        else:\n",
    "            pr_sql_q1 = pr_sql_q1[:from_start_idx] + '\\n' + pr_sql_q1[from_start_idx:where_start_idx] + '\\n' + pr_sql_q1[where_start_idx:]\n",
    "        \n",
    "        with output:\n",
    "            clear_output(wait=True)\n",
    "            print('='*20)\n",
    "            print('Inference')\n",
    "            print('='*20)\n",
    "            print('[SQL]')\n",
    "            print(pr_sql_q1)\n",
    "            print()\n",
    "            print('[RESULT]')\n",
    "            for ans in pr_ans:\n",
    "                print(ans)\n",
    "            print('='*20)\n",
    "    \n",
    "    button.on_click(infer)"
   ]
  },
  {
   "cell_type": "code",
   "execution_count": 37,
   "id": "female-robinson",
   "metadata": {
    "ExecuteTime": {
     "end_time": "2021-05-27T13:03:54.272162Z",
     "start_time": "2021-05-27T13:03:54.244974Z"
    }
   },
   "outputs": [],
   "source": [
    "index_text = ipywidgets.BoundedIntText(\n",
    "    value=0,\n",
    "    min=0,\n",
    "    max=len(test_data),\n",
    "    step=1,\n",
    "    description='INDEX:',\n",
    "    disabled=False\n",
    ")"
   ]
  },
  {
   "cell_type": "code",
   "execution_count": 38,
   "id": "designed-illustration",
   "metadata": {
    "ExecuteTime": {
     "end_time": "2021-05-27T13:03:54.474093Z",
     "start_time": "2021-05-27T13:03:54.385816Z"
    },
    "scrolled": false
   },
   "outputs": [
    {
     "data": {
      "application/vnd.jupyter.widget-view+json": {
       "model_id": "f556aa89806544688417496666d068f5",
       "version_major": 2,
       "version_minor": 0
      },
      "text/plain": [
       "interactive(children=(BoundedIntText(value=0, description='INDEX:', max=15878), Output()), _dom_classes=('widg…"
      ]
     },
     "metadata": {},
     "output_type": "display_data"
    }
   ],
   "source": [
    "ipywidgets.interactive(print_table_label, idx=index_text)"
   ]
  },
  {
   "cell_type": "code",
   "execution_count": null,
   "id": "correct-mercury",
   "metadata": {},
   "outputs": [],
   "source": []
  },
  {
   "cell_type": "code",
   "execution_count": null,
   "id": "colonial-denver",
   "metadata": {},
   "outputs": [],
   "source": []
  }
 ],
 "metadata": {
  "hide_input": false,
  "kernelspec": {
   "display_name": "Python 3",
   "language": "python",
   "name": "python3"
  },
  "language_info": {
   "codemirror_mode": {
    "name": "ipython",
    "version": 3
   },
   "file_extension": ".py",
   "mimetype": "text/x-python",
   "name": "python",
   "nbconvert_exporter": "python",
   "pygments_lexer": "ipython3",
   "version": "3.8.3"
  },
  "toc": {
   "base_numbering": 1,
   "nav_menu": {},
   "number_sections": true,
   "sideBar": true,
   "skip_h1_title": false,
   "title_cell": "Table of Contents",
   "title_sidebar": "Contents",
   "toc_cell": false,
   "toc_position": {
    "height": "calc(100% - 180px)",
    "left": "10px",
    "top": "150px",
    "width": "384px"
   },
   "toc_section_display": true,
   "toc_window_display": false
  }
 },
 "nbformat": 4,
 "nbformat_minor": 5
}
